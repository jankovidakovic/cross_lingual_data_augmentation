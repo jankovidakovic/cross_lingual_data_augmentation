{
 "cells": [
  {
   "cell_type": "code",
   "execution_count": 1,
   "metadata": {
    "collapsed": true
   },
   "outputs": [],
   "source": [
    "import pandas as pd"
   ]
  },
  {
   "cell_type": "code",
   "execution_count": 2,
   "outputs": [
    {
     "data": {
      "text/plain": "   Unnamed: 0.1  Unnamed: 0  \\\n0          3109        3109   \n1         20427        7826   \n2          2769        2769   \n3         20133        7532   \n4          1749        1749   \n\n                                               title  \\\n0  Five Iraqi Shia, Sunni and Kurdish political p...   \n1    Millions in Yemen ‘a step away from starvation’   \n2  Police forcibly break up a protest in Malé, Ma...   \n3  Pakistan marble mine collapse kills 22; dozens...   \n4  Near the town of Ramle, Israeli archeologists ...   \n\n                                                text  \\\n0  The accord was the second step towards rebuild...   \n1  The crisis in Yemen, now in its seventh year o...   \n2  Maldives police have used pepper spray to brea...   \n3  Army rescuers take part in a rescue search for...   \n4  Hundreds of whisky and gin bottles found at re...   \n\n                      event_type  \\\n0                 Sign Agreement   \n1                         Famine   \n2    Protest_Online Condemnation   \n3                 Mine Collapses   \n4  New archeological discoveries   \n\n                                           arguments         date  \\\n0  [{'start': 15, 'end': 73, 'type': 'Agreement C...  August 2007   \n1  [{'start': 14, 'end': 18, 'type': 'Areas affec...          NaN   \n2  [{'start': 101, 'end': 111, 'type': 'Arrested'...   April 2016   \n3  [{'start': 76, 'end': 118, 'type': 'Location',...          NaN   \n4  [{'start': 12, 'end': 33, 'type': 'Historical ...   March 2017   \n\n             metadata  \n0           ['(BBC)']  \n1                 NaN  \n2           ['(BBC)']  \n3                 NaN  \n4  ['(The Guardian)']  ",
      "text/html": "<div>\n<style scoped>\n    .dataframe tbody tr th:only-of-type {\n        vertical-align: middle;\n    }\n\n    .dataframe tbody tr th {\n        vertical-align: top;\n    }\n\n    .dataframe thead th {\n        text-align: right;\n    }\n</style>\n<table border=\"1\" class=\"dataframe\">\n  <thead>\n    <tr style=\"text-align: right;\">\n      <th></th>\n      <th>Unnamed: 0.1</th>\n      <th>Unnamed: 0</th>\n      <th>title</th>\n      <th>text</th>\n      <th>event_type</th>\n      <th>arguments</th>\n      <th>date</th>\n      <th>metadata</th>\n    </tr>\n  </thead>\n  <tbody>\n    <tr>\n      <th>0</th>\n      <td>3109</td>\n      <td>3109</td>\n      <td>Five Iraqi Shia, Sunni and Kurdish political p...</td>\n      <td>The accord was the second step towards rebuild...</td>\n      <td>Sign Agreement</td>\n      <td>[{'start': 15, 'end': 73, 'type': 'Agreement C...</td>\n      <td>August 2007</td>\n      <td>['(BBC)']</td>\n    </tr>\n    <tr>\n      <th>1</th>\n      <td>20427</td>\n      <td>7826</td>\n      <td>Millions in Yemen ‘a step away from starvation’</td>\n      <td>The crisis in Yemen, now in its seventh year o...</td>\n      <td>Famine</td>\n      <td>[{'start': 14, 'end': 18, 'type': 'Areas affec...</td>\n      <td>NaN</td>\n      <td>NaN</td>\n    </tr>\n    <tr>\n      <th>2</th>\n      <td>2769</td>\n      <td>2769</td>\n      <td>Police forcibly break up a protest in Malé, Ma...</td>\n      <td>Maldives police have used pepper spray to brea...</td>\n      <td>Protest_Online Condemnation</td>\n      <td>[{'start': 101, 'end': 111, 'type': 'Arrested'...</td>\n      <td>April 2016</td>\n      <td>['(BBC)']</td>\n    </tr>\n    <tr>\n      <th>3</th>\n      <td>20133</td>\n      <td>7532</td>\n      <td>Pakistan marble mine collapse kills 22; dozens...</td>\n      <td>Army rescuers take part in a rescue search for...</td>\n      <td>Mine Collapses</td>\n      <td>[{'start': 76, 'end': 118, 'type': 'Location',...</td>\n      <td>NaN</td>\n      <td>NaN</td>\n    </tr>\n    <tr>\n      <th>4</th>\n      <td>1749</td>\n      <td>1749</td>\n      <td>Near the town of Ramle, Israeli archeologists ...</td>\n      <td>Hundreds of whisky and gin bottles found at re...</td>\n      <td>New archeological discoveries</td>\n      <td>[{'start': 12, 'end': 33, 'type': 'Historical ...</td>\n      <td>March 2017</td>\n      <td>['(The Guardian)']</td>\n    </tr>\n  </tbody>\n</table>\n</div>"
     },
     "execution_count": 2,
     "metadata": {},
     "output_type": "execute_result"
    }
   ],
   "source": [
    "df = pd.read_csv(\"../data/dummy.csv\")\n",
    "df.head()"
   ],
   "metadata": {
    "collapsed": false
   }
  },
  {
   "cell_type": "code",
   "execution_count": 3,
   "outputs": [],
   "source": [
    "from src.data import DoceeForInference\n",
    "\n",
    "dataset = DoceeForInference(df, use_title=True)"
   ],
   "metadata": {
    "collapsed": false
   }
  },
  {
   "cell_type": "code",
   "execution_count": 4,
   "outputs": [],
   "source": [
    "from transformers.utils import PaddingStrategy\n",
    "from transformers import AutoTokenizer, pipeline\n",
    "\n",
    "pretrained_model_name_or_path = \"sshleifer/distilbart-cnn-12-6\"\n",
    "\n",
    "tokenizer = AutoTokenizer.from_pretrained(\n",
    "    pretrained_model_name_or_path=pretrained_model_name_or_path,\n",
    "    padding=PaddingStrategy.MAX_LENGTH,\n",
    "    use_fast=True\n",
    ")\n",
    "summarizer = pipeline(\n",
    "    \"summarization\",\n",
    "    model=pretrained_model_name_or_path,\n",
    "    tokenizer=tokenizer,\n",
    "    device=0,\n",
    "    framework=\"pt\"\n",
    ")\n"
   ],
   "metadata": {
    "collapsed": false
   }
  },
  {
   "cell_type": "code",
   "execution_count": 5,
   "outputs": [],
   "source": [
    "eg = dataset[0]"
   ],
   "metadata": {
    "collapsed": false
   }
  },
  {
   "cell_type": "code",
   "execution_count": 6,
   "outputs": [
    {
     "data": {
      "text/plain": "[{'summary_text': ' Five Iraqi Shia, Sunni and Kurdish political parties sign a deal forming a new \"Moderates Front\" Nouri al–Maliki says the accord is the second step towards rebuilding Iraq\\'s political process . The White House hails the deal as \"an important symbol\" of unity in Iraq .'}]"
     },
     "execution_count": 6,
     "metadata": {},
     "output_type": "execute_result"
    }
   ],
   "source": [
    "min_length = 20\n",
    "max_length = 200\n",
    "num_beams = 10\n",
    "batch_size = 1\n",
    "num_workers = 1\n",
    "\n",
    "output = summarizer(\n",
    "    eg,\n",
    "    min_length=min_length,\n",
    "    max_length=max_length,\n",
    "    num_beams=num_beams,\n",
    "    truncation=True,\n",
    "    batch_size=batch_size,\n",
    "    num_workers=num_workers\n",
    ")\n",
    "output"
   ],
   "metadata": {
    "collapsed": false
   }
  },
  {
   "cell_type": "code",
   "execution_count": 7,
   "outputs": [],
   "source": [
    "def create_summarizer(\n",
    "        df,\n",
    "        use_title,\n",
    "        pretrained_model_name_or_path=\"sshleifer/distilbart-cnn-12-6\",\n",
    "        min_length=20,\n",
    "        max_length=200,\n",
    "        num_beams=10\n",
    "):\n",
    "    tokenizer = AutoTokenizer.from_pretrained(\n",
    "        pretrained_model_name_or_path=pretrained_model_name_or_path,\n",
    "        padding=PaddingStrategy.MAX_LENGTH,\n",
    "        use_fast=True\n",
    "    )\n",
    "    summarizer = pipeline(\n",
    "        \"summarization\",\n",
    "        model=pretrained_model_name_or_path,\n",
    "        tokenizer=tokenizer,\n",
    "        device=0,\n",
    "        framework=\"pt\"\n",
    "    )\n",
    "    dataset = DoceeForInference(df, use_title=use_title)\n",
    "    eg = dataset[0]\n",
    "\n",
    "    def get():\n",
    "        return summarizer(\n",
    "            eg,\n",
    "            min_length=min_length,\n",
    "            max_length=max_length,\n",
    "            num_beams=num_beams,\n",
    "            truncation=True,\n",
    "            batch_size=1,\n",
    "            num_workers=1\n",
    "        )\n",
    "\n",
    "    return get\n"
   ],
   "metadata": {
    "collapsed": false
   }
  },
  {
   "cell_type": "code",
   "execution_count": 8,
   "outputs": [],
   "source": [
    "get_no_title = create_summarizer(\n",
    "    df,\n",
    "    use_title=False,\n",
    ")"
   ],
   "metadata": {
    "collapsed": false
   }
  },
  {
   "cell_type": "code",
   "execution_count": 9,
   "outputs": [
    {
     "data": {
      "text/plain": "True"
     },
     "execution_count": 9,
     "metadata": {},
     "output_type": "execute_result"
    }
   ],
   "source": [
    "several_summaries = set(get_no_title()[0][\"summary_text\"] for _ in range(5))\n",
    "always_equal = len(several_summaries) == 1\n",
    "always_equal\n"
   ],
   "metadata": {
    "collapsed": false
   }
  },
  {
   "cell_type": "code",
   "execution_count": 10,
   "outputs": [],
   "source": [
    "def check_consistency(get_summary):\n",
    "    bunch = set(get_summary() for _ in range(5))\n",
    "    return len(bunch) == 1\n",
    "\n",
    "summary_extractor = lambda do_inference: lambda: do_inference()[0][\"summary_text\"]"
   ],
   "metadata": {
    "collapsed": false
   }
  },
  {
   "cell_type": "code",
   "execution_count": 11,
   "outputs": [
    {
     "data": {
      "text/plain": "True"
     },
     "execution_count": 11,
     "metadata": {},
     "output_type": "execute_result"
    }
   ],
   "source": [
    "get_with_title = create_summarizer(\n",
    "    df,\n",
    "    use_title=True\n",
    ")\n",
    "check_consistency(summary_extractor(get_with_title))"
   ],
   "metadata": {
    "collapsed": false
   }
  }
 ],
 "metadata": {
  "kernelspec": {
   "display_name": "Python 3",
   "language": "python",
   "name": "python3"
  },
  "language_info": {
   "codemirror_mode": {
    "name": "ipython",
    "version": 2
   },
   "file_extension": ".py",
   "mimetype": "text/x-python",
   "name": "python",
   "nbconvert_exporter": "python",
   "pygments_lexer": "ipython2",
   "version": "2.7.6"
  }
 },
 "nbformat": 4,
 "nbformat_minor": 0
}
