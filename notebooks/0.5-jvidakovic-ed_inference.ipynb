{
 "cells": [
  {
   "cell_type": "code",
   "execution_count": 1,
   "metadata": {
    "collapsed": true
   },
   "outputs": [],
   "source": [
    "import pandas as pd\n",
    "\n",
    "TEST_FILENAME=\"../data/dummy.csv\"\n",
    "df = pd.read_csv(TEST_FILENAME)"
   ]
  },
  {
   "cell_type": "code",
   "execution_count": 8,
   "outputs": [
    {
     "name": "stderr",
     "output_type": "stream",
     "text": [
      "Some weights of the model checkpoint at roberta-base were not used when initializing RobertaForSequenceClassification: ['lm_head.bias', 'lm_head.dense.weight', 'lm_head.dense.bias', 'roberta.pooler.dense.bias', 'lm_head.decoder.weight', 'lm_head.layer_norm.weight', 'roberta.pooler.dense.weight', 'lm_head.layer_norm.bias']\n",
      "- This IS expected if you are initializing RobertaForSequenceClassification from the checkpoint of a model trained on another task or with another architecture (e.g. initializing a BertForSequenceClassification model from a BertForPreTraining model).\n",
      "- This IS NOT expected if you are initializing RobertaForSequenceClassification from the checkpoint of a model that you expect to be exactly identical (initializing a BertForSequenceClassification model from a BertForSequenceClassification model).\n",
      "Some weights of RobertaForSequenceClassification were not initialized from the model checkpoint at roberta-base and are newly initialized: ['classifier.dense.weight', 'classifier.out_proj.weight', 'classifier.dense.bias', 'classifier.out_proj.bias']\n",
      "You should probably TRAIN this model on a down-stream task to be able to use it for predictions and inference.\n"
     ]
    }
   ],
   "source": [
    "from transformers import AutoModelForSequenceClassification, AutoTokenizer\n",
    "\n",
    "PRETRAINED_MODEL_NAME_OR_PATH=\"roberta-base\"\n",
    "\n",
    "tokenizer = AutoTokenizer.from_pretrained(\n",
    "    PRETRAINED_MODEL_NAME_OR_PATH,\n",
    "    do_lower_case=True,\n",
    "    use_fast=True\n",
    ")\n",
    "\n",
    "model = AutoModelForSequenceClassification.from_pretrained(\n",
    "    PRETRAINED_MODEL_NAME_OR_PATH,\n",
    "    num_labels=59,\n",
    "    label2id={i: f\"LABEL_{i}\" for i in range(59)}\n",
    ")"
   ],
   "metadata": {
    "collapsed": false
   }
  },
  {
   "cell_type": "code",
   "execution_count": 15,
   "outputs": [],
   "source": [
    "from transformers import pipeline\n",
    "\n",
    "inference = pipeline(\n",
    "    \"text-classification\",\n",
    "    model=model,\n",
    "    tokenizer=tokenizer,\n",
    "    device=0,\n",
    "    framework=\"pt\",\n",
    "    batch_size=2,\n",
    "    truncation=True,\n",
    "\n",
    ")"
   ],
   "metadata": {
    "collapsed": false
   }
  },
  {
   "cell_type": "code",
   "execution_count": 16,
   "outputs": [
    {
     "data": {
      "text/plain": "['The accord was the second step towards rebuilding Iraq\\'s political process, Mr Maliki said, after four Kurdish and Shia parties formed a new alliance.\\nA committee formed by the parties had \"accomplished some solutions\", he said.\\nMr Maliki has been criticised in recent days by US politicians, but the White House hailed Sunday\\'s deal as \"an important symbol\" of unity in Iraq.\\n\"We congratulate Iraq\\'s leaders on the important agreement reached today in Baghdad... [and] their commitment to work together for the benefit of all Iraqis,\" said a statement issued from President George W Bush\\'s Texas ranch. \\'Sense of movement\\'\\nIssues under discussion between Iraqi politicians include holding provincial elections and easing a ban on former Baath party members in the civil service and military.\\nAfter the meeting, Mr Maliki appeared at a news conference alongside Iraqi President Jalal Talabani, Sunni Vice-President Tariq al-Hashemi, Shia Vice-President Adel Abdul-Mahdi and Massoud Barzani - president of the Kurdish region.\\nBut nothing suggests that the rebuilding of a broad-based government is necessarily any closer, the BBC\\'s Mike Wooldridge in Baghdad says.\\nMr Hashemi said he had taken part in the talks as vice-president but did not indicate his Iraqi Islamic Party was about to join the moderate Shia-Kurdish alliance. The news conference seemed intended more to give a sense of movement than to convey the substance of significant agreement, our correspondent adds.\\nThe deal has been pushed by the US as a key step on the path to national reconciliation in Iraq.\\n\\nEarlier on Sunday, Mr Maliki hit back at senior US politicians who have called for him to be removed from office, singling out senators Hillary Clinton and Carl Levin. He said the Democratic senators were acting as if Iraq was \"their property\" and that they should \"come to their senses\" and \"respect democracy\". US commander in Iraq, General David Petraeus, and US ambassador Ryan Crocker are expected to report to US Congress in mid-September on progress in Iraq since the troop surge.\\nThe introduction of 30,000 extra troops - completed in mid-June - was supposed give the Iraqi government extra time to make political progress. Mr Maliki said a negative report by Gen Petraeus would not cause him to change course, but he expected the general to \"be supportive of the government\".',\n \"The crisis in Yemen, now in its seventh year of war, continues unabated, with thousands of people displaced and millions “a step away from starvation”, the UN Humanitarian Relief Coordinator said on Wednesday during a high-level side event on the margins of the 76th General Assembly. “The country’s economy has reached new depths of collapse, and a third wave of the pandemic is threatening to crash the country’s already fragile health-care system”, Humanitarian Affairs chief Martin Griffiths told world leaders at the meeting: Yemen: Responding to the crises within the world's largest humanitarian crisis. Underscoring that the most vulnerable always “bear the highest cost” of the crisis, he said that females were more likely to be hungry, sick or exposed to gender-based violence and, with little access to essential services, millions of internally displaced people face “a daily struggle to survive”. In Yemen, conflict has continued to push millions into displacement and starvation.Funding has prevented the worst but without additional support, this critical lifesaving assistance – including food supplies – will have to be reduced in the coming weeks and months. In a positive development, the UN official credited the international community for stepping up support to the country’s humanitarian aid operation. Thanking the world leaders, he said that Yemen’s Humanitarian Response Plan is “among the most well-funded”, with 98 per cent of the pledges made at an event in March fulfilled. With over $2 billion received, the UN and its partners were able to “prevent famine and pull people back from the brink of despair”, delivering assistance to “every single one of the country’s 333 districts”. Despite these important achievements, Mr. Griffiths acknowledged that the work there is “far from done”, as many sectors still face “alarming funding gaps” and humanitarians are working with less than one-fifth of the money needed to provide health care, sanitation, and shelter. “Without additional funding, these and other forms of critical life-saving support – including food assistance – will have to be reduced in the coming weeks and months”, he warned. The UN relief chief asked global leaders to continue generously supporting Yemen’s humanitarian operation; respect international humanitarian law and protect civilians; and address the root drivers of the crisis, including restrictions on imports, which elevate the prices of essential goods. He urged them to do “everything in our collective power to stop this war”, saying, “at the end of the day, peace is what will provide Yemenis the most sustainable form of relief”. The war has robbed too many of Yemen’s children of safety, education and opportunities. “Each day, the violence and destruction wreak havoc on the lives of children and their families”, Henrietta Fore, Executive Director of the UN Children’s Fund (UNICEF), told the meeting. She painted a grim picture of 1.7 million displaced youth, 11.3 million youngsters depending on humanitarian assistance to survive and 2.3 million under-five “acutely malnourished” – nearly 400,000 of whom are at “imminent risk of death”. “Being a child in Yemen means you have probably either experienced or witnessed horrific violence that no child should ever face”, said the UNICEF chief. “Quite simply, Yemen is one of the most difficult places in the world to be a child”. In his address, World Food Programme (WFP) chief David Beasley said that in a nation of 30 million people, food rations are needed by 12.9 million; while 3.3 million children and women need special nutrition, together with 1.6 million school children. “We’re literally looking at 16 million people marching towards starvation”, he said. With one thousand people a week dying from a lack of food and nutrition, the senior WFP official warned that if $800 million is not received in the next six months, the need to cut rations could lead to the death of 400,000 children under the age of five next year. “We have a moral, obligation, to speak out and step up”, he stated, appealing to the world leaders to “put the pressure on all parties…to end this conflict”. “These are our children; these are our brothers and sisters we need the donors to step up immediately otherwise children are going to die. Let’s not let them down. Let’s do what we need to do”, concluded Mr. Beasley. The complexities of the years-long war in Yemen “multiply as the conflict drags on”, the country’s new UN envoy told the Security Council on Friday, adding that he was “under no illusions about the difficulty of the task” at hand. There has been no let-up in more than six years of conflict in Yemen, as a growing “climate of fear” among civilians continues, a panel of UN-appointed independent rights experts said on Wednesday.\",\n 'Maldives police have used pepper spray to break up a protest about freedom of speech, officials say.\\nAt least 16 of the protesters, who were mostly journalists, were arrested.\\nThe demonstration was against government moves to introduce a new law to criminalise defamation. Observers says it is the latest sign of tension in the Maldives between those calling for greater democratic freedoms and a government increasingly unwilling to allow critics.\\nA week ago, senior journalists in the Indian Ocean archipelago said in a joint statement the bill would \"prevent journalists and citizens from speaking out over serious accusations of corruption and the integrity of state officials\".\\nDemonstrators had gathered outside the office of President Abdulla Yameen in the capital Male on Sunday. They fear that if enacted, the bill would be used against private media and political opponents of the government.  Protesters were also angry about:\\nOfficials said the protest was broken up by police because demonstrators had gathered in a protected area. Those detained were reported to be from Haveeru, The Maldives Independent and private TV stations.  The Maldives Independent said its editor Zaheena Rasheed and Sangu TV Managing Director Ibrahim Waheed were among those arrested. It said some journalists were injured and taken to hospital. ',\n 'Army rescuers take part in a rescue search for miners after a rock slide at a marble mine in Kyber-Pakhtunkhwa province on September 8, 2020.   | Photo Credit: AFP  At least 22 people have been killed and dozens were battling for their lives after six units of the famed marble mines in Pakistan’s Ziarat Ghar mountain collapsed, causing large boulders to fall on them, according to media reports on Tuesday. The mines collapsed on Monday night, instantly killing 12 miners, the Geo News reported. The death toll rose after 10 more succumbed to injuries at the District Mohmand Hospital.  Majority of the deceased include labourers and few others who had gathered at the foothill in Khyber Pakhtunkhwa’s Safi town near the Afghanistan border, about 85 km from provincial capital Peshawar.  Mohmand District Police Officer Mohmand Tariq Habib told Geo News that people are still buried under the rubble.  He said the rescue operations were hit due to darkness on Monday night and that heavy machinery had been mobilised on Tuesday for rescue operations.  Deputy Commissioner Iftikhar Alam said the death toll is expected to rise, according to the daily.  Around 45 labourers were busy in excavation operations when the mine collapsed, the Dawn newspaper reported.  The Provincial Disaster Management Authority (PDMA) said nine people have been rescued, it reported.  Rescue Officer Bilal Faizi said most of the injured were in serious condition.  “An operation to rescue those trapped underneath the rubble is currently underway. Five ambulances and one recovery vehicle have been sent to Mohmand from Peshawar,” Dawn News reported, quoting a PDMA statement.  Mohmand district is a tribal agency area. It is famous for its marble reserves.  The rockslide incident brought back memories of a similar mine collapse incident in 2015 in Mohmand which killed 12 labourers.']"
     },
     "execution_count": 16,
     "metadata": {},
     "output_type": "execute_result"
    }
   ],
   "source": [
    "sample_text = df.iloc[0:4][\"text\"].tolist()\n",
    "sample_text"
   ],
   "metadata": {
    "collapsed": false
   }
  },
  {
   "cell_type": "code",
   "execution_count": 20,
   "outputs": [
    {
     "data": {
      "text/plain": "['LABEL_1', 'LABEL_1', 'LABEL_1', 'LABEL_1']"
     },
     "execution_count": 20,
     "metadata": {},
     "output_type": "execute_result"
    }
   ],
   "source": [
    "list(map(lambda y: y[\"label\"], inference(sample_text)))"
   ],
   "metadata": {
    "collapsed": false
   }
  },
  {
   "cell_type": "code",
   "execution_count": null,
   "outputs": [],
   "source": [],
   "metadata": {
    "collapsed": false
   }
  }
 ],
 "metadata": {
  "kernelspec": {
   "display_name": "Python 3",
   "language": "python",
   "name": "python3"
  },
  "language_info": {
   "codemirror_mode": {
    "name": "ipython",
    "version": 2
   },
   "file_extension": ".py",
   "mimetype": "text/x-python",
   "name": "python",
   "nbconvert_exporter": "python",
   "pygments_lexer": "ipython2",
   "version": "2.7.6"
  }
 },
 "nbformat": 4,
 "nbformat_minor": 0
}
