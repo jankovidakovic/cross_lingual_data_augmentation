{
 "cells": [
  {
   "cell_type": "code",
   "execution_count": 2,
   "metadata": {
    "collapsed": true
   },
   "outputs": [],
   "source": [
    "# imports\n",
    "import pandas as pd\n",
    "df = pd.read_csv(\"../data/dummy.csv\")\n",
    "from src.data import DoceeForInference\n",
    "dataset = DoceeForInference(df, use_title=True)\n",
    "from transformers.utils import PaddingStrategy\n",
    "from transformers import AutoTokenizer, pipeline\n",
    "\n",
    "pretrained_model_name_or_path = \"ainize/bart-base-cnn\"\n",
    "max_sequence_lenght=512\n",
    "\n",
    "tokenizer = AutoTokenizer.from_pretrained(\n",
    "    pretrained_model_name_or_path=pretrained_model_name_or_path,\n",
    "    padding=PaddingStrategy.LONGEST,\n",
    "    model_max_length=max_sequence_lenght,\n",
    "    use_fast=True\n",
    ")\n",
    "summarizer = pipeline(\n",
    "    \"summarization\",\n",
    "    model=pretrained_model_name_or_path,\n",
    "    tokenizer=tokenizer,\n",
    "    device=0,\n",
    "    framework=\"pt\"\n",
    ")\n"
   ]
  },
  {
   "cell_type": "code",
   "execution_count": 5,
   "outputs": [],
   "source": [
    "from functools import partial\n",
    "\n",
    "\n",
    "# okay, so now lets do wrapper functions which invoke different encoding methods\n",
    "def get_default_decoder(\n",
    "        summarizer,\n",
    "        truncation: bool,\n",
    "        batch_size: int,\n",
    "        num_workers: int,\n",
    "        min_length: int,\n",
    "        max_length: int,\n",
    "        early_stopping: bool,\n",
    "        temperature: float,\n",
    "        num_return_sequences: int\n",
    "):\n",
    "    return partial(summarizer,\n",
    "        truncation=truncation,\n",
    "        batch_size=batch_size,\n",
    "        num_workers=num_workers,\n",
    "        min_length=min_length,\n",
    "        max_length=max_length,\n",
    "        early_stopping=early_stopping,\n",
    "        temperature=temperature,\n",
    "        num_return_sequences=num_return_sequences\n",
    "    )\n"
   ],
   "metadata": {
    "collapsed": false
   }
  },
  {
   "cell_type": "code",
   "execution_count": 27,
   "outputs": [],
   "source": [
    "def get_beam_search_decoder(\n",
    "    partial_decoder,\n",
    "    num_beams: int,\n",
    "):\n",
    "    return partial(\n",
    "        partial_decoder,\n",
    "        num_beams=num_beams,\n",
    "        top_k=0,\n",
    "        top_p=1,\n",
    "        do_sample=True,\n",
    "        penalty_alpha=0.0\n",
    "    )"
   ],
   "metadata": {
    "collapsed": false
   }
  },
  {
   "cell_type": "code",
   "execution_count": 13,
   "outputs": [],
   "source": [
    "default_decoder = get_default_decoder(\n",
    "    summarizer,\n",
    "    truncation=True,\n",
    "    batch_size=1,\n",
    "    num_workers=1,\n",
    "    min_length=20,\n",
    "    max_length=200,\n",
    "    early_stopping=True,\n",
    "    temperature=1.0,\n",
    "    num_return_sequences=3\n",
    ")"
   ],
   "metadata": {
    "collapsed": false
   }
  },
  {
   "cell_type": "code",
   "execution_count": 22,
   "outputs": [
    {
     "name": "stdout",
     "output_type": "stream",
     "text": [
      "Five Iraqi Shia, Sunni and Kurdish political parties sign a deal forming a new \"Moderates Front\" supporting Prime Minister  Nouri al–Maliki. The accord was the second step towards rebuilding Iraq's political process, Mr Maliki said, after four Kurdish and Shia parties formed a new alliance.\n",
      "A committee formed by the parties had \"accomplished some solutions\", he said.\n",
      "Mr Maliki has been criticised in recent days by US politicians, but the White House hailed Sunday's deal as \"an important symbol\" of unity in Iraq.\n",
      "\"We congratulate Iraq's leaders on the important agreement reached today in Baghdad... [and] their commitment to work together for the benefit of all Iraqis,\" said a statement issued from President George W Bush's Texas ranch. 'Sense of movement'\n",
      "Issues under discussion between Iraqi politicians include holding provincial elections and easing a ban on former Baath party members in the civil service and military.\n",
      "After the meeting, Mr Maliki appeared at a news conference alongside Iraqi President Jalal Talabani, Sunni Vice-President Tariq al-Hashemi, Shia Vice-President Adel Abdul-Mahdi and Massoud Barzani - president of the Kurdish region.\n",
      "But nothing suggests that the rebuilding of a broad-based government is necessarily any closer, the BBC's Mike Wooldridge in Baghdad says.\n",
      "Mr Hashemi said he had taken part in the talks as vice-president but did not indicate his Iraqi Islamic Party was about to join the moderate Shia-Kurdish alliance. The news conference seemed intended more to give a sense of movement than to convey the substance of significant agreement, our correspondent adds.\n",
      "The deal has been pushed by the US as a key step on the path to national reconciliation in Iraq.\n",
      "\n",
      "Earlier on Sunday, Mr Maliki hit back at senior US politicians who have called for him to be removed from office, singling out senators Hillary Clinton and Carl Levin. He said the Democratic senators were acting as if Iraq was \"their property\" and that they should \"come to their senses\" and \"respect democracy\". US commander in Iraq, General David Petraeus, and US ambassador Ryan Crocker are expected to report to US Congress in mid-September on progress in Iraq since the troop surge.\n",
      "The introduction of 30,000 extra troops - completed in mid-June - was supposed give the Iraqi government extra time to make political progress. Mr Maliki said a negative report by Gen Petraeus would not cause him to change course, but he expected the general to \"be supportive of the government\".\n"
     ]
    }
   ],
   "source": [
    "example = dataset[0]\n",
    "print(example)"
   ],
   "metadata": {
    "collapsed": false
   }
  },
  {
   "cell_type": "code",
   "execution_count": 28,
   "outputs": [],
   "source": [
    "beam_search_decoder = get_beam_search_decoder(default_decoder, num_beams=5)"
   ],
   "metadata": {
    "collapsed": false
   }
  },
  {
   "cell_type": "code",
   "execution_count": 29,
   "outputs": [
    {
     "data": {
      "text/plain": "[{'summary_text': \"Five Iraqi Shia, Sunni and Kurdish political parties sign deal .\\nThe accord is the second step towards rebuilding Iraq's political process .\\nIt comes after four Kurdish and Shia parties formed a new alliance .\\nMr Maliki has been criticised in recent days by US politicians .\\nBut the White House hailed Sunday's deal as an important symbol of unity .\"},\n {'summary_text': \"Five Iraqi Shia, Sunni and Kurdish political parties sign deal .\\nThey form a new 'Moderates Front' supporting Prime Minister Nouri al–Maliki .\\nThe accord is the second step towards rebuilding Iraq's political process .\\nMr Maliki has been criticised in recent days by US politicians .\"},\n {'summary_text': 'Five Iraqi Shia, Sunni and Kurdish political parties sign a deal .\\nThey form a new \"Moderates Front\" supporting Prime Minister Nouri al–Maliki .\\nThe accord is the second step towards rebuilding Iraq\\'s political process .\\nIssues under discussion include holding provincial elections and easing a ban on former Baath party members in the civil service and military .'}]"
     },
     "execution_count": 29,
     "metadata": {},
     "output_type": "execute_result"
    }
   ],
   "source": [
    "outputs = beam_search_decoder(example)\n",
    "outputs"
   ],
   "metadata": {
    "collapsed": false
   }
  },
  {
   "cell_type": "code",
   "execution_count": 31,
   "outputs": [],
   "source": [
    "# works like a charm\n",
    "\n",
    "def get_top_p_decoder(\n",
    "    partial_decoder,\n",
    "    top_p: float\n",
    "):\n",
    "    return partial(\n",
    "        partial_decoder,\n",
    "        top_p=top_p,\n",
    "        top_k=0,\n",
    "        num_beams=1,\n",
    "        penalty_alpha=0.0,\n",
    "        do_sample=True\n",
    "    )"
   ],
   "metadata": {
    "collapsed": false
   }
  },
  {
   "cell_type": "code",
   "execution_count": 32,
   "outputs": [
    {
     "data": {
      "text/plain": "[{'summary_text': 'Five Iraqi Shia, Sunni and Kurdish political parties form new coalition .\\nNew agreement also signed with four Kurdish and Shia parties .\\nThis comes after key new deal came to power in Iraq .'},\n {'summary_text': \"Northern Iraqi parties form a new deal with Prime Minister Nouri al-Maliki .\\nFive Iraqi Shia, Sunni and Kurdish parties sign agreement on unity .\\nDeal has been pushed by the US as a key step towards national reconciliation .\\nMr Maliki says African states were acting like Iraq was their property .\\nHe hits back at senators who say Iraq was 'their property'\"},\n {'summary_text': \"The accord was the second step towards rebuilding Iraq's political process .\\nNegotiations will over holding provincial elections and easing a ban on ex-Baath party members .\\nIssues under discussion between Iraqi politicians include holding provincial election and easing the ban on former Baath party member .\\nMr Maliki hit back at top US politicians who have called for him to be removed from office .\\nUS commander in Iraq, General David Petraeus, is expected to report to US Congress in mid-September .\"}]"
     },
     "execution_count": 32,
     "metadata": {},
     "output_type": "execute_result"
    }
   ],
   "source": [
    "top_p_decoder = get_top_p_decoder(default_decoder, top_p=0.95)\n",
    "outputs = top_p_decoder(example)\n",
    "outputs"
   ],
   "metadata": {
    "collapsed": false
   }
  },
  {
   "cell_type": "code",
   "execution_count": 33,
   "outputs": [
    {
     "data": {
      "text/plain": "[{'summary_text': 'Five Iraqi Shia, Sunni and Kurdish parties sign deal with PM .\\nThey form new \"Moderates Front,\" supporting Prime Minister Nouri al–Maliki .\\nMr Maliki has been criticised by US politicians over Iraq .'},\n {'summary_text': 'Five Iraqi Shia, Sunni and Kurdish political parties sign new deal .\\nThey form an alliance supporting Prime Minister Nouri al–Maliki .\\nDeal has been pushed by U.S. as a key step in Iraqi reconciliation .'},\n {'summary_text': 'Five Iraqi Shia, Sunni and Kurdish political parties sign a deal .\\nThe accord was the second step towards rebuilding Iraq\\'s political process .\\nIt comes after four Iraqi Kurdish and Shia parties formed a new alliance .\\nPresident George W Bush hails the deal as \"an important symbol\"'}]"
     },
     "execution_count": 33,
     "metadata": {},
     "output_type": "execute_result"
    }
   ],
   "source": [
    "def get_top_k_decoder(\n",
    "        partial_decoder,\n",
    "        top_k: int\n",
    "):\n",
    "    return partial(\n",
    "        partial_decoder,\n",
    "        top_k=top_k,\n",
    "        top_p=1.0,\n",
    "        penalty_alpha=0.0,\n",
    "        do_sample=True,\n",
    "        num_beams=1\n",
    "    )\n",
    "\n",
    "top_k_decoder = get_top_k_decoder(default_decoder, top_k=5)\n",
    "outputs_top_k = top_k_decoder(example)\n",
    "outputs_top_k"
   ],
   "metadata": {
    "collapsed": false
   }
  },
  {
   "cell_type": "code",
   "execution_count": 38,
   "outputs": [],
   "source": [
    "def get_contrastive_decoder(\n",
    "        partial_decoder,\n",
    "        penalty_alpha: float,\n",
    "        top_k: int\n",
    "):\n",
    "    return partial(\n",
    "        partial_decoder,\n",
    "        num_beams=1,\n",
    "        penalty_alpha=penalty_alpha,\n",
    "        do_sample=True,\n",
    "        top_k=top_k,\n",
    "        top_p=1.0\n",
    "    )"
   ],
   "metadata": {
    "collapsed": false
   }
  },
  {
   "cell_type": "code",
   "execution_count": 39,
   "outputs": [
    {
     "name": "stderr",
     "output_type": "stream",
     "text": [
      "/home/jvidakovic/anaconda3/envs/cross_lingual_data_augmentation/lib/python3.10/site-packages/transformers/pipelines/base.py:1043: UserWarning: You seem to be using the pipelines sequentially on GPU. In order to maximize efficiency please use a dataset\n",
      "  warnings.warn(\n"
     ]
    },
    {
     "data": {
      "text/plain": "[{'summary_text': 'Five parties form a new \\'Moderates Front\\' supporting Prime Minister Nouri al–Maliki .\\nA committee formed by the parties has \"accomplished some solutions\", he said .\\nMr Maliki has been criticised in recent days by US politicians .\\nThe deal has been pushed by the US as a key step on the path to national reconciliation .'},\n {'summary_text': \"Iraqi Prime Minister Nouri al-Maliki signed an accord with five political parties .\\nThe agreement comes after four Kurdish, Shia and Sunni parties formed a new alliance .\\nMr Maliki hit back at senators for calling for him to be removed .\\nHe said they were acting as if Iraq was 'their property'\\nUS commander in Iraq is expected to report to Congress in mid-September .\\nA report by Gen David Petraeus is supposed give Iraq time to make political progress .\\nUS troops are supposed to arrive in Baghdad in September .\"},\n {'summary_text': \"Five Iraqi Shia, Sunni and Kurdish political parties signed deal .\\nIt was the second step to rebuilding Iraq's political process, PM said .\\nA committee formed by the parties had 'accomplished some solutions', he said .\"}]"
     },
     "execution_count": 39,
     "metadata": {},
     "output_type": "execute_result"
    }
   ],
   "source": [
    "contrastive_decoder = get_contrastive_decoder(\n",
    "    default_decoder,\n",
    "    penalty_alpha=0.6,\n",
    "    top_k=5\n",
    ")\n",
    "\n",
    "contrastive_output = contrastive_decoder(example)\n",
    "contrastive_output"
   ],
   "metadata": {
    "collapsed": false
   }
  },
  {
   "cell_type": "code",
   "execution_count": null,
   "outputs": [],
   "source": [
    "# works like a charm tbh\n",
    "# TODO - a way to compose different decoding methods\n",
    "\n",
    "# for now, this is enough"
   ],
   "metadata": {
    "collapsed": false
   }
  }
 ],
 "metadata": {
  "kernelspec": {
   "display_name": "Python 3",
   "language": "python",
   "name": "python3"
  },
  "language_info": {
   "codemirror_mode": {
    "name": "ipython",
    "version": 2
   },
   "file_extension": ".py",
   "mimetype": "text/x-python",
   "name": "python",
   "nbconvert_exporter": "python",
   "pygments_lexer": "ipython2",
   "version": "2.7.6"
  }
 },
 "nbformat": 4,
 "nbformat_minor": 0
}
