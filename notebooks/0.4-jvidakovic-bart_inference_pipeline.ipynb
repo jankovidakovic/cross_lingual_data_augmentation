{
 "cells": [
  {
   "cell_type": "markdown",
   "source": [
    "First, we create an inference pipeline for abstractive summarization. We use BART-base, finetuned on xsum."
   ],
   "metadata": {
    "collapsed": false
   }
  },
  {
   "cell_type": "code",
   "execution_count": 1,
   "metadata": {
    "collapsed": true
   },
   "outputs": [],
   "source": [
    "from transformers.utils import PaddingStrategy\n",
    "from transformers import pipeline, AutoTokenizer\n",
    "\n",
    "tokenizer = AutoTokenizer.from_pretrained(\n",
    "    \"morenolq/bart-base-xsum\",\n",
    "    padding=PaddingStrategy.DO_NOT_PAD,\n",
    "    use_fast=True\n",
    ")\n",
    "\n",
    "summarizer = pipeline(\n",
    "    \"summarization\",\n",
    "    model=\"morenolq/bart-base-xsum\",\n",
    "    tokenizer=tokenizer,\n",
    "    device=0,\n",
    "    framework=\"pt\",\n",
    ")"
   ]
  },
  {
   "cell_type": "markdown",
   "source": [
    "Next, we need to load our dataset."
   ],
   "metadata": {
    "collapsed": false
   }
  },
  {
   "cell_type": "code",
   "execution_count": 2,
   "outputs": [
    {
     "name": "stdout",
     "output_type": "stream",
     "text": [
      "Loaded 2697 examples.\n"
     ]
    },
    {
     "data": {
      "text/plain": "   index                                              title  \\\n0      0  North Korea responds to nearby joint United St...   \n1      3  Severe drought conditions continue in Zimbabwe...   \n2      4  Saudi Arabian blogger Raif Badawi, who has bee...   \n3     13  British Prime Minister Theresa May announces t...   \n4     20  Ansar al-Sharia announces it is formally disso...   \n\n                                                text  \\\n0  North Korea says it will use its \"nuclear dete...   \n1  As severe drought conditions continue in Zimba...   \n2  Raif Badawi is the laureate of this year's Sak...   \n3  EU sources say Theresa May missed chance of sw...   \n4  CAIRO (Reuters) - Libyan Islamist group Ansar ...   \n\n                      event_type  \\\n0              Military Exercise   \n1                       Droughts   \n2                Awards ceremony   \n3  Withdraw from an Organization   \n4            Organization Closed   \n\n                                           arguments           date  \\\n0  [{'start': 74, 'end': 75, 'type': 'Countries p...      July 2010   \n1  [{'start': 41, 'end': 48, 'type': 'Areas Affec...  December 2019   \n2  [{'start': 0, 'end': 10, 'type': 'Winner', 'te...   October 2015   \n3  [{'start': 15, 'end': 25, 'type': 'Declarer', ...     March 2017   \n4  [{'start': 18, 'end': 54, 'type': 'Organizatio...       May 2017   \n\n                                         metadata  \n0                                       ['(BBC)']  \n1  ['(Catholic News Agency)', '(Bloomberg News)']  \n2           ['(Reuters)', '(Al Jazeera)', '(EU)']  \n3                              ['(The Guardian)']  \n4                                   ['(Reuters)']  ",
      "text/html": "<div>\n<style scoped>\n    .dataframe tbody tr th:only-of-type {\n        vertical-align: middle;\n    }\n\n    .dataframe tbody tr th {\n        vertical-align: top;\n    }\n\n    .dataframe thead th {\n        text-align: right;\n    }\n</style>\n<table border=\"1\" class=\"dataframe\">\n  <thead>\n    <tr style=\"text-align: right;\">\n      <th></th>\n      <th>index</th>\n      <th>title</th>\n      <th>text</th>\n      <th>event_type</th>\n      <th>arguments</th>\n      <th>date</th>\n      <th>metadata</th>\n    </tr>\n  </thead>\n  <tbody>\n    <tr>\n      <th>0</th>\n      <td>0</td>\n      <td>North Korea responds to nearby joint United St...</td>\n      <td>North Korea says it will use its \"nuclear dete...</td>\n      <td>Military Exercise</td>\n      <td>[{'start': 74, 'end': 75, 'type': 'Countries p...</td>\n      <td>July 2010</td>\n      <td>['(BBC)']</td>\n    </tr>\n    <tr>\n      <th>1</th>\n      <td>3</td>\n      <td>Severe drought conditions continue in Zimbabwe...</td>\n      <td>As severe drought conditions continue in Zimba...</td>\n      <td>Droughts</td>\n      <td>[{'start': 41, 'end': 48, 'type': 'Areas Affec...</td>\n      <td>December 2019</td>\n      <td>['(Catholic News Agency)', '(Bloomberg News)']</td>\n    </tr>\n    <tr>\n      <th>2</th>\n      <td>4</td>\n      <td>Saudi Arabian blogger Raif Badawi, who has bee...</td>\n      <td>Raif Badawi is the laureate of this year's Sak...</td>\n      <td>Awards ceremony</td>\n      <td>[{'start': 0, 'end': 10, 'type': 'Winner', 'te...</td>\n      <td>October 2015</td>\n      <td>['(Reuters)', '(Al Jazeera)', '(EU)']</td>\n    </tr>\n    <tr>\n      <th>3</th>\n      <td>13</td>\n      <td>British Prime Minister Theresa May announces t...</td>\n      <td>EU sources say Theresa May missed chance of sw...</td>\n      <td>Withdraw from an Organization</td>\n      <td>[{'start': 15, 'end': 25, 'type': 'Declarer', ...</td>\n      <td>March 2017</td>\n      <td>['(The Guardian)']</td>\n    </tr>\n    <tr>\n      <th>4</th>\n      <td>20</td>\n      <td>Ansar al-Sharia announces it is formally disso...</td>\n      <td>CAIRO (Reuters) - Libyan Islamist group Ansar ...</td>\n      <td>Organization Closed</td>\n      <td>[{'start': 18, 'end': 54, 'type': 'Organizatio...</td>\n      <td>May 2017</td>\n      <td>['(Reuters)']</td>\n    </tr>\n  </tbody>\n</table>\n</div>"
     },
     "execution_count": 2,
     "metadata": {},
     "output_type": "execute_result"
    }
   ],
   "source": [
    "import pandas as pd\n",
    "\n",
    "df = pd.read_csv(\"../data/docee/low_resource_augmentation/train_news.csv\")\n",
    "print(f\"Loaded {len(df)} examples.\")\n",
    "df.head()"
   ],
   "metadata": {
    "collapsed": false
   }
  },
  {
   "cell_type": "markdown",
   "source": [
    "Check how many classes are present."
   ],
   "metadata": {
    "collapsed": false
   }
  },
  {
   "cell_type": "code",
   "execution_count": 3,
   "outputs": [
    {
     "name": "stdout",
     "output_type": "stream",
     "text": [
      "Total 37 unique classes.\n"
     ]
    }
   ],
   "source": [
    "num_classes = df.loc[:, [\"event_type\"]].nunique()[0]\n",
    "print(f\"Total {num_classes} unique classes.\")"
   ],
   "metadata": {
    "collapsed": false
   }
  },
  {
   "cell_type": "markdown",
   "source": [
    "Build a dataset."
   ],
   "metadata": {
    "collapsed": false
   }
  },
  {
   "cell_type": "markdown",
   "source": [
    "Perform an inference with the first example"
   ],
   "metadata": {
    "collapsed": false
   }
  },
  {
   "cell_type": "code",
   "execution_count": 4,
   "outputs": [
    {
     "data": {
      "text/plain": "index                                                         0\ntitle         North Korea responds to nearby joint United St...\ntext          North Korea says it will use its \"nuclear dete...\nevent_type                                    Military Exercise\narguments     [{'start': 74, 'end': 75, 'type': 'Countries p...\ndate                                                  July 2010\nmetadata                                              ['(BBC)']\nName: 0, dtype: object"
     },
     "execution_count": 4,
     "metadata": {},
     "output_type": "execute_result"
    }
   ],
   "source": [
    "first_example = df.iloc[0]\n",
    "first_example"
   ],
   "metadata": {
    "collapsed": false
   }
  },
  {
   "cell_type": "code",
   "execution_count": 5,
   "outputs": [
    {
     "data": {
      "text/plain": "'North Korea has warned that it will launch a war game with the US if necessary to \"stifle\" the country, state media say.'"
     },
     "execution_count": 5,
     "metadata": {},
     "output_type": "execute_result"
    }
   ],
   "source": [
    "summary_output = summarizer(\n",
    "    first_example.text,\n",
    "    min_length=20,\n",
    "    max_length=200,\n",
    "    num_beams=20,\n",
    "    do_sample=False,\n",
    ")  # greedy decoding\n",
    "summary_output[0][\"summary_text\"]"
   ],
   "metadata": {
    "collapsed": false
   }
  },
  {
   "cell_type": "markdown",
   "source": [
    "Now let's map the input dataframe into a new one, which consists of summaries instead of input texts."
   ],
   "metadata": {
    "collapsed": false
   }
  },
  {
   "cell_type": "code",
   "execution_count": 3,
   "outputs": [
    {
     "data": {
      "text/plain": "                                                text  \\\n0  North Korea says it will use its \"nuclear dete...   \n1  As severe drought conditions continue in Zimba...   \n2  Raif Badawi is the laureate of this year's Sak...   \n3  EU sources say Theresa May missed chance of sw...   \n4  CAIRO (Reuters) - Libyan Islamist group Ansar ...   \n\n                      event_type  \n0              Military Exercise  \n1                       Droughts  \n2                Awards ceremony  \n3  Withdraw from an Organization  \n4            Organization Closed  ",
      "text/html": "<div>\n<style scoped>\n    .dataframe tbody tr th:only-of-type {\n        vertical-align: middle;\n    }\n\n    .dataframe tbody tr th {\n        vertical-align: top;\n    }\n\n    .dataframe thead th {\n        text-align: right;\n    }\n</style>\n<table border=\"1\" class=\"dataframe\">\n  <thead>\n    <tr style=\"text-align: right;\">\n      <th></th>\n      <th>text</th>\n      <th>event_type</th>\n    </tr>\n  </thead>\n  <tbody>\n    <tr>\n      <th>0</th>\n      <td>North Korea says it will use its \"nuclear dete...</td>\n      <td>Military Exercise</td>\n    </tr>\n    <tr>\n      <th>1</th>\n      <td>As severe drought conditions continue in Zimba...</td>\n      <td>Droughts</td>\n    </tr>\n    <tr>\n      <th>2</th>\n      <td>Raif Badawi is the laureate of this year's Sak...</td>\n      <td>Awards ceremony</td>\n    </tr>\n    <tr>\n      <th>3</th>\n      <td>EU sources say Theresa May missed chance of sw...</td>\n      <td>Withdraw from an Organization</td>\n    </tr>\n    <tr>\n      <th>4</th>\n      <td>CAIRO (Reuters) - Libyan Islamist group Ansar ...</td>\n      <td>Organization Closed</td>\n    </tr>\n  </tbody>\n</table>\n</div>"
     },
     "execution_count": 3,
     "metadata": {},
     "output_type": "execute_result"
    }
   ],
   "source": [
    "summary_df = df.loc[:, [\"text\", \"event_type\"]]\n",
    "summary_df.head()"
   ],
   "metadata": {
    "collapsed": false
   }
  },
  {
   "cell_type": "code",
   "execution_count": 7,
   "outputs": [
    {
     "data": {
      "text/plain": "['North Korea has warned of a \"fire and fury\" if the US goes ahead with its planned war games with South Korea, state media say.',\n 'The Catholic Church in Southern Africa is working with farmers in Zimbabwe to help feed tens of thousands of people.',\n 'The European Parliament (EP) has announced that it will award a prize to a Saudi blogger who was sentenced to 50 lashes in public last year.',\n 'Theresa May’s decision to spell out the starting date for formal EU-UK Brexit negotiations has been met with fury by the European Union.',\n 'A rival faction in Libya has said it is split into two rival factions, in the latest twist in a long-running war.',\n \"A selection of photos from around Malaysia's capital, Kuala Lumpur, which have been released by the BBC.\",\n \"A look back at some of the key events in Myanmar's recent turbulent political history, including:\",\n 'At least five people have been killed and 23 injured in a school bus crash in Chattanooga, Tennessee.',\n 'A selection of photos from around the world, courtesy of AFP, EPA, Getty Images and Reuters',\n 'In Case You Missed It: A chronology of key events in the Trump administration:']"
     },
     "execution_count": 7,
     "metadata": {},
     "output_type": "execute_result"
    }
   ],
   "source": [
    "from torch.utils.data import Dataset\n",
    "\n",
    "\n",
    "class TextDoceeDataset(Dataset):\n",
    "    def __init__(self, df):\n",
    "        self.df = df.loc[:, \"text\"]\n",
    "\n",
    "    def __len__(self):\n",
    "        return len(self.df)\n",
    "\n",
    "    def __getitem__(self, item):\n",
    "        return self.df.iloc[item]\n",
    "\n",
    "dataset = TextDoceeDataset(df[:10])\n",
    "outs = [out[0][\"summary_text\"] for out in summarizer(\n",
    "    dataset,\n",
    "    min_length=20,\n",
    "    max_length=200,\n",
    "    truncation=True,\n",
    "    batch_size=5\n",
    ")]\n",
    "# im actually not sure whether or not batch size preserves the ordering\n",
    "outs"
   ],
   "metadata": {
    "collapsed": false
   }
  },
  {
   "cell_type": "code",
   "execution_count": 7,
   "outputs": [
    {
     "name": "stderr",
     "output_type": "stream",
     "text": [
      "  0%|          | 7/2697 [00:02<14:53,  3.01it/s]Your max_length is set to 200, but you input_length is only 108. You might consider decreasing max_length manually, e.g. summarizer('...', max_length=54)\n",
      "  0%|          | 10/2697 [00:03<13:03,  3.43it/s]/home/jvidakovic/anaconda3/envs/cross_lingual_data_augmentation/lib/python3.10/site-packages/transformers/pipelines/base.py:1043: UserWarning: You seem to be using the pipelines sequentially on GPU. In order to maximize efficiency please use a dataset\n",
      "  warnings.warn(\n",
      "  1%|          | 21/2697 [00:07<18:14,  2.44it/s]Your max_length is set to 200, but you input_length is only 153. You might consider decreasing max_length manually, e.g. summarizer('...', max_length=76)\n",
      "  1%|▏         | 36/2697 [00:12<15:51,  2.80it/s]Your max_length is set to 200, but you input_length is only 154. You might consider decreasing max_length manually, e.g. summarizer('...', max_length=77)\n",
      "  2%|▏         | 46/2697 [00:16<17:02,  2.59it/s]Your max_length is set to 200, but you input_length is only 160. You might consider decreasing max_length manually, e.g. summarizer('...', max_length=80)\n",
      "  2%|▏         | 49/2697 [00:17<15:00,  2.94it/s]Your max_length is set to 200, but you input_length is only 83. You might consider decreasing max_length manually, e.g. summarizer('...', max_length=41)\n",
      "  2%|▏         | 61/2697 [00:21<15:15,  2.88it/s]Your max_length is set to 200, but you input_length is only 110. You might consider decreasing max_length manually, e.g. summarizer('...', max_length=55)\n",
      "  2%|▏         | 63/2697 [00:22<14:32,  3.02it/s]Your max_length is set to 200, but you input_length is only 172. You might consider decreasing max_length manually, e.g. summarizer('...', max_length=86)\n",
      "  2%|▏         | 64/2697 [00:22<14:59,  2.93it/s]Your max_length is set to 200, but you input_length is only 199. You might consider decreasing max_length manually, e.g. summarizer('...', max_length=99)\n",
      "  3%|▎         | 69/2697 [00:24<17:34,  2.49it/s]Your max_length is set to 200, but you input_length is only 111. You might consider decreasing max_length manually, e.g. summarizer('...', max_length=55)\n",
      "  3%|▎         | 75/2697 [00:26<16:22,  2.67it/s]Your max_length is set to 200, but you input_length is only 148. You might consider decreasing max_length manually, e.g. summarizer('...', max_length=74)\n",
      "  3%|▎         | 83/2697 [00:29<14:55,  2.92it/s]Your max_length is set to 200, but you input_length is only 94. You might consider decreasing max_length manually, e.g. summarizer('...', max_length=47)\n",
      "  3%|▎         | 91/2697 [00:32<16:10,  2.69it/s]Your max_length is set to 200, but you input_length is only 75. You might consider decreasing max_length manually, e.g. summarizer('...', max_length=37)\n",
      "  5%|▌         | 136/2697 [00:49<14:42,  2.90it/s]Your max_length is set to 200, but you input_length is only 146. You might consider decreasing max_length manually, e.g. summarizer('...', max_length=73)\n",
      "  5%|▌         | 141/2697 [00:50<15:10,  2.81it/s]Your max_length is set to 200, but you input_length is only 177. You might consider decreasing max_length manually, e.g. summarizer('...', max_length=88)\n",
      "  5%|▌         | 145/2697 [00:52<14:47,  2.88it/s]Your max_length is set to 200, but you input_length is only 192. You might consider decreasing max_length manually, e.g. summarizer('...', max_length=96)\n",
      "  6%|▌         | 159/2697 [00:58<18:06,  2.34it/s]Your max_length is set to 200, but you input_length is only 196. You might consider decreasing max_length manually, e.g. summarizer('...', max_length=98)\n",
      "  6%|▌         | 161/2697 [00:58<15:23,  2.75it/s]Your max_length is set to 200, but you input_length is only 198. You might consider decreasing max_length manually, e.g. summarizer('...', max_length=99)\n",
      "  6%|▌         | 163/2697 [00:59<14:44,  2.86it/s]Your max_length is set to 200, but you input_length is only 116. You might consider decreasing max_length manually, e.g. summarizer('...', max_length=58)\n",
      "  7%|▋         | 178/2697 [01:04<14:24,  2.91it/s]Your max_length is set to 200, but you input_length is only 157. You might consider decreasing max_length manually, e.g. summarizer('...', max_length=78)\n",
      "  7%|▋         | 198/2697 [01:12<16:30,  2.52it/s]Your max_length is set to 200, but you input_length is only 44. You might consider decreasing max_length manually, e.g. summarizer('...', max_length=22)\n",
      "  8%|▊         | 211/2697 [01:18<19:38,  2.11it/s]Your max_length is set to 200, but you input_length is only 132. You might consider decreasing max_length manually, e.g. summarizer('...', max_length=66)\n",
      "  8%|▊         | 225/2697 [01:23<16:04,  2.56it/s]Your max_length is set to 200, but you input_length is only 198. You might consider decreasing max_length manually, e.g. summarizer('...', max_length=99)\n",
      "  9%|▊         | 231/2697 [01:25<16:26,  2.50it/s]Your max_length is set to 200, but you input_length is only 191. You might consider decreasing max_length manually, e.g. summarizer('...', max_length=95)\n",
      "  9%|▉         | 241/2697 [01:29<16:16,  2.52it/s]Your max_length is set to 200, but you input_length is only 197. You might consider decreasing max_length manually, e.g. summarizer('...', max_length=98)\n",
      "  9%|▉         | 244/2697 [01:30<15:55,  2.57it/s]Your max_length is set to 200, but you input_length is only 163. You might consider decreasing max_length manually, e.g. summarizer('...', max_length=81)\n",
      "  9%|▉         | 245/2697 [01:30<14:17,  2.86it/s]Your max_length is set to 200, but you input_length is only 96. You might consider decreasing max_length manually, e.g. summarizer('...', max_length=48)\n",
      " 10%|▉         | 264/2697 [01:37<15:12,  2.67it/s]Your max_length is set to 200, but you input_length is only 138. You might consider decreasing max_length manually, e.g. summarizer('...', max_length=69)\n",
      " 10%|█         | 270/2697 [01:39<15:23,  2.63it/s]Your max_length is set to 200, but you input_length is only 176. You might consider decreasing max_length manually, e.g. summarizer('...', max_length=88)\n",
      " 10%|█         | 273/2697 [01:40<13:17,  3.04it/s]Your max_length is set to 200, but you input_length is only 168. You might consider decreasing max_length manually, e.g. summarizer('...', max_length=84)\n",
      " 11%|█         | 292/2697 [01:48<16:44,  2.39it/s]Your max_length is set to 200, but you input_length is only 103. You might consider decreasing max_length manually, e.g. summarizer('...', max_length=51)\n",
      " 11%|█         | 297/2697 [01:50<14:30,  2.76it/s]Your max_length is set to 200, but you input_length is only 195. You might consider decreasing max_length manually, e.g. summarizer('...', max_length=97)\n",
      " 11%|█         | 300/2697 [01:51<13:33,  2.95it/s]Your max_length is set to 200, but you input_length is only 197. You might consider decreasing max_length manually, e.g. summarizer('...', max_length=98)\n",
      " 12%|█▏        | 322/2697 [01:58<13:17,  2.98it/s]Your max_length is set to 200, but you input_length is only 170. You might consider decreasing max_length manually, e.g. summarizer('...', max_length=85)\n",
      " 12%|█▏        | 326/2697 [01:59<12:44,  3.10it/s]Your max_length is set to 200, but you input_length is only 162. You might consider decreasing max_length manually, e.g. summarizer('...', max_length=81)\n",
      " 13%|█▎        | 358/2697 [02:11<14:18,  2.72it/s]Your max_length is set to 200, but you input_length is only 172. You might consider decreasing max_length manually, e.g. summarizer('...', max_length=86)\n",
      " 14%|█▎        | 370/2697 [02:16<16:49,  2.30it/s]Your max_length is set to 200, but you input_length is only 189. You might consider decreasing max_length manually, e.g. summarizer('...', max_length=94)\n",
      " 15%|█▍        | 393/2697 [02:26<18:20,  2.09it/s]Your max_length is set to 200, but you input_length is only 170. You might consider decreasing max_length manually, e.g. summarizer('...', max_length=85)\n",
      " 15%|█▍        | 397/2697 [02:27<14:54,  2.57it/s]Your max_length is set to 200, but you input_length is only 111. You might consider decreasing max_length manually, e.g. summarizer('...', max_length=55)\n",
      " 15%|█▍        | 399/2697 [02:28<13:03,  2.93it/s]Your max_length is set to 200, but you input_length is only 122. You might consider decreasing max_length manually, e.g. summarizer('...', max_length=61)\n",
      " 15%|█▌        | 416/2697 [02:34<16:20,  2.33it/s]Your max_length is set to 200, but you input_length is only 85. You might consider decreasing max_length manually, e.g. summarizer('...', max_length=42)\n",
      " 15%|█▌        | 418/2697 [02:35<14:13,  2.67it/s]Your max_length is set to 200, but you input_length is only 153. You might consider decreasing max_length manually, e.g. summarizer('...', max_length=76)\n",
      " 16%|█▌        | 434/2697 [02:41<14:08,  2.67it/s]Your max_length is set to 200, but you input_length is only 189. You might consider decreasing max_length manually, e.g. summarizer('...', max_length=94)\n",
      " 16%|█▋        | 439/2697 [02:43<12:35,  2.99it/s]Your max_length is set to 200, but you input_length is only 198. You might consider decreasing max_length manually, e.g. summarizer('...', max_length=99)\n",
      " 16%|█▋        | 443/2697 [02:44<13:34,  2.77it/s]Your max_length is set to 200, but you input_length is only 120. You might consider decreasing max_length manually, e.g. summarizer('...', max_length=60)\n",
      " 17%|█▋        | 446/2697 [02:45<16:13,  2.31it/s]Your max_length is set to 200, but you input_length is only 194. You might consider decreasing max_length manually, e.g. summarizer('...', max_length=97)\n",
      " 17%|█▋        | 460/2697 [02:51<17:28,  2.13it/s]Your max_length is set to 200, but you input_length is only 154. You might consider decreasing max_length manually, e.g. summarizer('...', max_length=77)\n",
      " 18%|█▊        | 472/2697 [02:56<13:07,  2.83it/s]Your max_length is set to 200, but you input_length is only 131. You might consider decreasing max_length manually, e.g. summarizer('...', max_length=65)\n",
      " 19%|█▊        | 500/2697 [03:07<15:46,  2.32it/s]Your max_length is set to 200, but you input_length is only 138. You might consider decreasing max_length manually, e.g. summarizer('...', max_length=69)\n",
      " 19%|█▊        | 502/2697 [03:08<16:20,  2.24it/s]Your max_length is set to 200, but you input_length is only 195. You might consider decreasing max_length manually, e.g. summarizer('...', max_length=97)\n",
      " 19%|█▉        | 518/2697 [03:16<17:08,  2.12it/s]Your max_length is set to 200, but you input_length is only 135. You might consider decreasing max_length manually, e.g. summarizer('...', max_length=67)\n",
      " 20%|█▉        | 528/2697 [03:21<14:39,  2.47it/s]Your max_length is set to 200, but you input_length is only 178. You might consider decreasing max_length manually, e.g. summarizer('...', max_length=89)\n",
      " 20%|█▉        | 531/2697 [03:22<15:55,  2.27it/s]Your max_length is set to 200, but you input_length is only 198. You might consider decreasing max_length manually, e.g. summarizer('...', max_length=99)\n",
      " 20%|█▉        | 533/2697 [03:23<16:22,  2.20it/s]Your max_length is set to 200, but you input_length is only 183. You might consider decreasing max_length manually, e.g. summarizer('...', max_length=91)\n",
      " 20%|█▉        | 536/2697 [03:24<15:59,  2.25it/s]Your max_length is set to 200, but you input_length is only 159. You might consider decreasing max_length manually, e.g. summarizer('...', max_length=79)\n",
      " 20%|██        | 547/2697 [03:29<17:17,  2.07it/s]Your max_length is set to 200, but you input_length is only 125. You might consider decreasing max_length manually, e.g. summarizer('...', max_length=62)\n",
      " 20%|██        | 551/2697 [03:31<16:28,  2.17it/s]Your max_length is set to 200, but you input_length is only 196. You might consider decreasing max_length manually, e.g. summarizer('...', max_length=98)\n",
      " 21%|██        | 556/2697 [03:33<16:28,  2.17it/s]Your max_length is set to 200, but you input_length is only 67. You might consider decreasing max_length manually, e.g. summarizer('...', max_length=33)\n",
      " 21%|██        | 557/2697 [03:34<15:40,  2.28it/s]Your max_length is set to 200, but you input_length is only 166. You might consider decreasing max_length manually, e.g. summarizer('...', max_length=83)\n",
      " 21%|██        | 562/2697 [03:36<17:05,  2.08it/s]Your max_length is set to 200, but you input_length is only 194. You might consider decreasing max_length manually, e.g. summarizer('...', max_length=97)\n",
      " 21%|██        | 565/2697 [03:37<15:44,  2.26it/s]Your max_length is set to 200, but you input_length is only 173. You might consider decreasing max_length manually, e.g. summarizer('...', max_length=86)\n",
      " 21%|██        | 569/2697 [03:40<24:40,  1.44it/s]Your max_length is set to 200, but you input_length is only 188. You might consider decreasing max_length manually, e.g. summarizer('...', max_length=94)\n",
      " 21%|██        | 571/2697 [03:41<20:38,  1.72it/s]Your max_length is set to 200, but you input_length is only 175. You might consider decreasing max_length manually, e.g. summarizer('...', max_length=87)\n",
      " 22%|██▏       | 585/2697 [03:47<16:55,  2.08it/s]Your max_length is set to 200, but you input_length is only 174. You might consider decreasing max_length manually, e.g. summarizer('...', max_length=87)\n",
      " 22%|██▏       | 602/2697 [03:56<16:24,  2.13it/s]Your max_length is set to 200, but you input_length is only 164. You might consider decreasing max_length manually, e.g. summarizer('...', max_length=82)\n",
      " 22%|██▏       | 606/2697 [03:58<16:30,  2.11it/s]Your max_length is set to 200, but you input_length is only 84. You might consider decreasing max_length manually, e.g. summarizer('...', max_length=42)\n",
      " 23%|██▎       | 611/2697 [04:00<15:56,  2.18it/s]Your max_length is set to 200, but you input_length is only 196. You might consider decreasing max_length manually, e.g. summarizer('...', max_length=98)\n",
      " 23%|██▎       | 617/2697 [04:03<16:51,  2.06it/s]Your max_length is set to 200, but you input_length is only 171. You might consider decreasing max_length manually, e.g. summarizer('...', max_length=85)\n",
      " 23%|██▎       | 619/2697 [04:04<17:06,  2.02it/s]Your max_length is set to 200, but you input_length is only 197. You might consider decreasing max_length manually, e.g. summarizer('...', max_length=98)\n",
      " 23%|██▎       | 631/2697 [04:12<30:32,  1.13it/s]Your max_length is set to 200, but you input_length is only 145. You might consider decreasing max_length manually, e.g. summarizer('...', max_length=72)\n",
      " 24%|██▍       | 647/2697 [04:25<29:25,  1.16it/s]Your max_length is set to 200, but you input_length is only 194. You might consider decreasing max_length manually, e.g. summarizer('...', max_length=97)\n",
      " 24%|██▍       | 654/2697 [04:31<25:47,  1.32it/s]Your max_length is set to 200, but you input_length is only 127. You might consider decreasing max_length manually, e.g. summarizer('...', max_length=63)\n",
      " 24%|██▍       | 658/2697 [04:34<27:48,  1.22it/s]Your max_length is set to 200, but you input_length is only 65. You might consider decreasing max_length manually, e.g. summarizer('...', max_length=32)\n",
      " 25%|██▍       | 666/2697 [04:41<26:36,  1.27it/s]Your max_length is set to 200, but you input_length is only 59. You might consider decreasing max_length manually, e.g. summarizer('...', max_length=29)\n",
      " 25%|██▌       | 676/2697 [04:48<27:36,  1.22it/s]Your max_length is set to 200, but you input_length is only 100. You might consider decreasing max_length manually, e.g. summarizer('...', max_length=50)\n",
      " 25%|██▌       | 680/2697 [04:52<27:51,  1.21it/s]Your max_length is set to 200, but you input_length is only 69. You might consider decreasing max_length manually, e.g. summarizer('...', max_length=34)\n",
      " 26%|██▌       | 692/2697 [05:01<26:00,  1.29it/s]Your max_length is set to 200, but you input_length is only 168. You might consider decreasing max_length manually, e.g. summarizer('...', max_length=84)\n",
      " 26%|██▌       | 696/2697 [05:05<27:39,  1.21it/s]Your max_length is set to 200, but you input_length is only 101. You might consider decreasing max_length manually, e.g. summarizer('...', max_length=50)\n",
      " 26%|██▌       | 698/2697 [05:06<25:11,  1.32it/s]Your max_length is set to 200, but you input_length is only 185. You might consider decreasing max_length manually, e.g. summarizer('...', max_length=92)\n",
      " 26%|██▌       | 704/2697 [05:12<30:31,  1.09it/s]Your max_length is set to 200, but you input_length is only 112. You might consider decreasing max_length manually, e.g. summarizer('...', max_length=56)\n",
      " 26%|██▋       | 708/2697 [05:15<26:25,  1.25it/s]Your max_length is set to 200, but you input_length is only 115. You might consider decreasing max_length manually, e.g. summarizer('...', max_length=57)\n",
      " 26%|██▋       | 709/2697 [05:15<25:54,  1.28it/s]Your max_length is set to 200, but you input_length is only 185. You might consider decreasing max_length manually, e.g. summarizer('...', max_length=92)\n",
      " 26%|██▋       | 710/2697 [05:16<24:49,  1.33it/s]Your max_length is set to 200, but you input_length is only 148. You might consider decreasing max_length manually, e.g. summarizer('...', max_length=74)\n",
      " 27%|██▋       | 715/2697 [05:19<22:37,  1.46it/s]Your max_length is set to 200, but you input_length is only 189. You might consider decreasing max_length manually, e.g. summarizer('...', max_length=94)\n",
      " 27%|██▋       | 723/2697 [05:26<26:18,  1.25it/s]Your max_length is set to 200, but you input_length is only 195. You might consider decreasing max_length manually, e.g. summarizer('...', max_length=97)\n",
      " 27%|██▋       | 724/2697 [05:26<24:07,  1.36it/s]Your max_length is set to 200, but you input_length is only 168. You might consider decreasing max_length manually, e.g. summarizer('...', max_length=84)\n",
      " 27%|██▋       | 730/2697 [05:31<27:39,  1.19it/s]Your max_length is set to 200, but you input_length is only 155. You might consider decreasing max_length manually, e.g. summarizer('...', max_length=77)\n",
      " 27%|██▋       | 735/2697 [05:36<28:34,  1.14it/s]Your max_length is set to 200, but you input_length is only 174. You might consider decreasing max_length manually, e.g. summarizer('...', max_length=87)\n",
      " 27%|██▋       | 737/2697 [05:37<26:12,  1.25it/s]Your max_length is set to 200, but you input_length is only 190. You might consider decreasing max_length manually, e.g. summarizer('...', max_length=95)\n",
      " 27%|██▋       | 740/2697 [05:39<24:13,  1.35it/s]Your max_length is set to 200, but you input_length is only 169. You might consider decreasing max_length manually, e.g. summarizer('...', max_length=84)\n",
      " 28%|██▊       | 748/2697 [05:46<29:55,  1.09it/s]Your max_length is set to 200, but you input_length is only 143. You might consider decreasing max_length manually, e.g. summarizer('...', max_length=71)\n",
      " 28%|██▊       | 768/2697 [06:03<25:12,  1.28it/s]Your max_length is set to 200, but you input_length is only 163. You might consider decreasing max_length manually, e.g. summarizer('...', max_length=81)\n",
      " 29%|██▊       | 770/2697 [06:04<23:16,  1.38it/s]Your max_length is set to 200, but you input_length is only 111. You might consider decreasing max_length manually, e.g. summarizer('...', max_length=55)\n",
      " 30%|██▉       | 802/2697 [06:29<23:02,  1.37it/s]Your max_length is set to 200, but you input_length is only 143. You might consider decreasing max_length manually, e.g. summarizer('...', max_length=71)\n",
      " 30%|███       | 812/2697 [06:36<23:18,  1.35it/s]Your max_length is set to 200, but you input_length is only 109. You might consider decreasing max_length manually, e.g. summarizer('...', max_length=54)\n",
      " 30%|███       | 813/2697 [06:37<22:09,  1.42it/s]Your max_length is set to 200, but you input_length is only 80. You might consider decreasing max_length manually, e.g. summarizer('...', max_length=40)\n",
      " 32%|███▏      | 850/2697 [07:07<28:05,  1.10it/s]Your max_length is set to 200, but you input_length is only 197. You might consider decreasing max_length manually, e.g. summarizer('...', max_length=98)\n",
      " 32%|███▏      | 858/2697 [07:13<26:50,  1.14it/s]Your max_length is set to 200, but you input_length is only 159. You might consider decreasing max_length manually, e.g. summarizer('...', max_length=79)\n",
      " 33%|███▎      | 879/2697 [07:31<25:42,  1.18it/s]Your max_length is set to 200, but you input_length is only 181. You might consider decreasing max_length manually, e.g. summarizer('...', max_length=90)\n",
      " 33%|███▎      | 883/2697 [07:34<23:34,  1.28it/s]Your max_length is set to 200, but you input_length is only 192. You might consider decreasing max_length manually, e.g. summarizer('...', max_length=96)\n",
      " 33%|███▎      | 884/2697 [07:34<22:11,  1.36it/s]Your max_length is set to 200, but you input_length is only 139. You might consider decreasing max_length manually, e.g. summarizer('...', max_length=69)\n",
      " 33%|███▎      | 897/2697 [07:45<27:50,  1.08it/s]Your max_length is set to 200, but you input_length is only 197. You might consider decreasing max_length manually, e.g. summarizer('...', max_length=98)\n",
      " 33%|███▎      | 902/2697 [07:49<21:46,  1.37it/s]Your max_length is set to 200, but you input_length is only 91. You might consider decreasing max_length manually, e.g. summarizer('...', max_length=45)\n",
      " 34%|███▎      | 908/2697 [07:54<26:20,  1.13it/s]Your max_length is set to 200, but you input_length is only 182. You might consider decreasing max_length manually, e.g. summarizer('...', max_length=91)\n",
      " 34%|███▍      | 924/2697 [08:08<23:32,  1.26it/s]Your max_length is set to 200, but you input_length is only 92. You might consider decreasing max_length manually, e.g. summarizer('...', max_length=46)\n",
      " 35%|███▍      | 938/2697 [08:19<26:33,  1.10it/s]Your max_length is set to 200, but you input_length is only 117. You might consider decreasing max_length manually, e.g. summarizer('...', max_length=58)\n",
      " 35%|███▌      | 954/2697 [08:33<26:52,  1.08it/s]Your max_length is set to 200, but you input_length is only 194. You might consider decreasing max_length manually, e.g. summarizer('...', max_length=97)\n",
      " 36%|███▌      | 958/2697 [08:36<24:00,  1.21it/s]Your max_length is set to 200, but you input_length is only 131. You might consider decreasing max_length manually, e.g. summarizer('...', max_length=65)\n",
      " 36%|███▌      | 975/2697 [08:50<25:03,  1.15it/s]Your max_length is set to 200, but you input_length is only 138. You might consider decreasing max_length manually, e.g. summarizer('...', max_length=69)\n",
      " 36%|███▋      | 979/2697 [08:53<23:08,  1.24it/s]Your max_length is set to 200, but you input_length is only 195. You might consider decreasing max_length manually, e.g. summarizer('...', max_length=97)\n",
      " 37%|███▋      | 995/2697 [09:07<24:52,  1.14it/s]Your max_length is set to 200, but you input_length is only 197. You might consider decreasing max_length manually, e.g. summarizer('...', max_length=98)\n",
      " 37%|███▋      | 1003/2697 [09:13<24:46,  1.14it/s]Your max_length is set to 200, but you input_length is only 108. You might consider decreasing max_length manually, e.g. summarizer('...', max_length=54)\n",
      " 37%|███▋      | 1004/2697 [09:14<24:21,  1.16it/s]Your max_length is set to 200, but you input_length is only 74. You might consider decreasing max_length manually, e.g. summarizer('...', max_length=37)\n",
      " 37%|███▋      | 1011/2697 [09:19<20:20,  1.38it/s]Your max_length is set to 200, but you input_length is only 192. You might consider decreasing max_length manually, e.g. summarizer('...', max_length=96)\n",
      " 39%|███▉      | 1058/2697 [09:57<21:41,  1.26it/s]Your max_length is set to 200, but you input_length is only 178. You might consider decreasing max_length manually, e.g. summarizer('...', max_length=89)\n",
      " 40%|███▉      | 1069/2697 [10:06<21:18,  1.27it/s]Your max_length is set to 200, but you input_length is only 157. You might consider decreasing max_length manually, e.g. summarizer('...', max_length=78)\n",
      " 40%|███▉      | 1076/2697 [10:12<20:40,  1.31it/s]Your max_length is set to 200, but you input_length is only 64. You might consider decreasing max_length manually, e.g. summarizer('...', max_length=32)\n",
      " 40%|████      | 1080/2697 [10:14<17:59,  1.50it/s]Your max_length is set to 200, but you input_length is only 178. You might consider decreasing max_length manually, e.g. summarizer('...', max_length=89)\n",
      " 41%|████      | 1097/2697 [10:27<22:42,  1.17it/s]Your max_length is set to 200, but you input_length is only 68. You might consider decreasing max_length manually, e.g. summarizer('...', max_length=34)\n",
      " 41%|████      | 1112/2697 [10:39<20:10,  1.31it/s]Your max_length is set to 200, but you input_length is only 182. You might consider decreasing max_length manually, e.g. summarizer('...', max_length=91)\n",
      " 42%|████▏     | 1127/2697 [10:52<21:25,  1.22it/s]Your max_length is set to 200, but you input_length is only 174. You might consider decreasing max_length manually, e.g. summarizer('...', max_length=87)\n",
      " 42%|████▏     | 1133/2697 [10:56<19:35,  1.33it/s]Your max_length is set to 200, but you input_length is only 69. You might consider decreasing max_length manually, e.g. summarizer('...', max_length=34)\n",
      " 42%|████▏     | 1143/2697 [11:04<19:58,  1.30it/s]Your max_length is set to 200, but you input_length is only 65. You might consider decreasing max_length manually, e.g. summarizer('...', max_length=32)\n",
      " 43%|████▎     | 1161/2697 [11:19<25:33,  1.00it/s]Your max_length is set to 200, but you input_length is only 76. You might consider decreasing max_length manually, e.g. summarizer('...', max_length=38)\n",
      " 43%|████▎     | 1166/2697 [11:23<21:19,  1.20it/s]Your max_length is set to 200, but you input_length is only 166. You might consider decreasing max_length manually, e.g. summarizer('...', max_length=83)\n",
      " 43%|████▎     | 1171/2697 [11:27<20:06,  1.27it/s]Your max_length is set to 200, but you input_length is only 166. You might consider decreasing max_length manually, e.g. summarizer('...', max_length=83)\n",
      " 43%|████▎     | 1172/2697 [11:28<19:13,  1.32it/s]Your max_length is set to 200, but you input_length is only 103. You might consider decreasing max_length manually, e.g. summarizer('...', max_length=51)\n",
      " 44%|████▍     | 1180/2697 [11:34<21:20,  1.18it/s]Your max_length is set to 200, but you input_length is only 194. You might consider decreasing max_length manually, e.g. summarizer('...', max_length=97)\n",
      " 45%|████▌     | 1216/2697 [12:04<20:21,  1.21it/s]Your max_length is set to 200, but you input_length is only 159. You might consider decreasing max_length manually, e.g. summarizer('...', max_length=79)\n",
      " 46%|████▌     | 1233/2697 [12:18<18:58,  1.29it/s]Your max_length is set to 200, but you input_length is only 83. You might consider decreasing max_length manually, e.g. summarizer('...', max_length=41)\n",
      " 46%|████▌     | 1234/2697 [12:18<19:14,  1.27it/s]Your max_length is set to 200, but you input_length is only 167. You might consider decreasing max_length manually, e.g. summarizer('...', max_length=83)\n",
      " 46%|████▌     | 1238/2697 [12:22<24:02,  1.01it/s]Your max_length is set to 200, but you input_length is only 197. You might consider decreasing max_length manually, e.g. summarizer('...', max_length=98)\n",
      " 46%|████▋     | 1248/2697 [12:31<21:05,  1.14it/s]Your max_length is set to 200, but you input_length is only 166. You might consider decreasing max_length manually, e.g. summarizer('...', max_length=83)\n",
      " 46%|████▋     | 1252/2697 [12:34<21:28,  1.12it/s]Your max_length is set to 200, but you input_length is only 120. You might consider decreasing max_length manually, e.g. summarizer('...', max_length=60)\n",
      " 47%|████▋     | 1260/2697 [12:41<19:00,  1.26it/s]Your max_length is set to 200, but you input_length is only 152. You might consider decreasing max_length manually, e.g. summarizer('...', max_length=76)\n",
      " 48%|████▊     | 1290/2697 [13:06<23:55,  1.02s/it]Your max_length is set to 200, but you input_length is only 162. You might consider decreasing max_length manually, e.g. summarizer('...', max_length=81)\n",
      " 49%|████▉     | 1319/2697 [13:29<18:10,  1.26it/s]Your max_length is set to 200, but you input_length is only 142. You might consider decreasing max_length manually, e.g. summarizer('...', max_length=71)\n",
      " 49%|████▉     | 1320/2697 [13:30<14:05,  1.63it/s]\n",
      "\n",
      "KeyboardInterrupt\n",
      "\n"
     ]
    }
   ],
   "source": [
    "from tqdm import tqdm\n",
    "tqdm.pandas()\n",
    "\n",
    "def summarize_text(text: str) -> str:\n",
    "    return summarizer(\n",
    "        text,\n",
    "        min_length=20,\n",
    "        max_length=200,\n",
    "        num_beams=10,\n",
    "        do_sample=False,\n",
    "        truncation=True,\n",
    "    )[0][\"summary_text\"]\n",
    "\n",
    "summary_df.loc[:, \"text\"] = summary_df[\"text\"].progress_apply(summarize_text)"
   ],
   "metadata": {
    "collapsed": false
   }
  },
  {
   "cell_type": "code",
   "execution_count": null,
   "outputs": [],
   "source": [],
   "metadata": {
    "collapsed": false
   }
  }
 ],
 "metadata": {
  "kernelspec": {
   "display_name": "Python 3",
   "language": "python",
   "name": "python3"
  },
  "language_info": {
   "codemirror_mode": {
    "name": "ipython",
    "version": 2
   },
   "file_extension": ".py",
   "mimetype": "text/x-python",
   "name": "python",
   "nbconvert_exporter": "python",
   "pygments_lexer": "ipython2",
   "version": "2.7.6"
  }
 },
 "nbformat": 4,
 "nbformat_minor": 0
}
