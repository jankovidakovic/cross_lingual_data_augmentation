{
 "cells": [
  {
   "cell_type": "code",
   "execution_count": 1,
   "metadata": {
    "collapsed": true
   },
   "outputs": [],
   "source": [
    "import pandas as pd"
   ]
  },
  {
   "cell_type": "code",
   "execution_count": 2,
   "outputs": [
    {
     "data": {
      "text/plain": "   Unnamed: 0.1  Unnamed: 0  \\\n0          3109        3109   \n1         20427        7826   \n2          2769        2769   \n3         20133        7532   \n4          1749        1749   \n\n                                               title  \\\n0  Five Iraqi Shia, Sunni and Kurdish political p...   \n1    Millions in Yemen ‘a step away from starvation’   \n2  Police forcibly break up a protest in Malé, Ma...   \n3  Pakistan marble mine collapse kills 22; dozens...   \n4  Near the town of Ramle, Israeli archeologists ...   \n\n                                                text  \\\n0  The accord was the second step towards rebuild...   \n1  The crisis in Yemen, now in its seventh year o...   \n2  Maldives police have used pepper spray to brea...   \n3  Army rescuers take part in a rescue search for...   \n4  Hundreds of whisky and gin bottles found at re...   \n\n                      event_type  \\\n0                 Sign Agreement   \n1                         Famine   \n2    Protest_Online Condemnation   \n3                 Mine Collapses   \n4  New archeological discoveries   \n\n                                           arguments         date  \\\n0  [{'start': 15, 'end': 73, 'type': 'Agreement C...  August 2007   \n1  [{'start': 14, 'end': 18, 'type': 'Areas affec...          NaN   \n2  [{'start': 101, 'end': 111, 'type': 'Arrested'...   April 2016   \n3  [{'start': 76, 'end': 118, 'type': 'Location',...          NaN   \n4  [{'start': 12, 'end': 33, 'type': 'Historical ...   March 2017   \n\n             metadata  \n0           ['(BBC)']  \n1                 NaN  \n2           ['(BBC)']  \n3                 NaN  \n4  ['(The Guardian)']  ",
      "text/html": "<div>\n<style scoped>\n    .dataframe tbody tr th:only-of-type {\n        vertical-align: middle;\n    }\n\n    .dataframe tbody tr th {\n        vertical-align: top;\n    }\n\n    .dataframe thead th {\n        text-align: right;\n    }\n</style>\n<table border=\"1\" class=\"dataframe\">\n  <thead>\n    <tr style=\"text-align: right;\">\n      <th></th>\n      <th>Unnamed: 0.1</th>\n      <th>Unnamed: 0</th>\n      <th>title</th>\n      <th>text</th>\n      <th>event_type</th>\n      <th>arguments</th>\n      <th>date</th>\n      <th>metadata</th>\n    </tr>\n  </thead>\n  <tbody>\n    <tr>\n      <th>0</th>\n      <td>3109</td>\n      <td>3109</td>\n      <td>Five Iraqi Shia, Sunni and Kurdish political p...</td>\n      <td>The accord was the second step towards rebuild...</td>\n      <td>Sign Agreement</td>\n      <td>[{'start': 15, 'end': 73, 'type': 'Agreement C...</td>\n      <td>August 2007</td>\n      <td>['(BBC)']</td>\n    </tr>\n    <tr>\n      <th>1</th>\n      <td>20427</td>\n      <td>7826</td>\n      <td>Millions in Yemen ‘a step away from starvation’</td>\n      <td>The crisis in Yemen, now in its seventh year o...</td>\n      <td>Famine</td>\n      <td>[{'start': 14, 'end': 18, 'type': 'Areas affec...</td>\n      <td>NaN</td>\n      <td>NaN</td>\n    </tr>\n    <tr>\n      <th>2</th>\n      <td>2769</td>\n      <td>2769</td>\n      <td>Police forcibly break up a protest in Malé, Ma...</td>\n      <td>Maldives police have used pepper spray to brea...</td>\n      <td>Protest_Online Condemnation</td>\n      <td>[{'start': 101, 'end': 111, 'type': 'Arrested'...</td>\n      <td>April 2016</td>\n      <td>['(BBC)']</td>\n    </tr>\n    <tr>\n      <th>3</th>\n      <td>20133</td>\n      <td>7532</td>\n      <td>Pakistan marble mine collapse kills 22; dozens...</td>\n      <td>Army rescuers take part in a rescue search for...</td>\n      <td>Mine Collapses</td>\n      <td>[{'start': 76, 'end': 118, 'type': 'Location',...</td>\n      <td>NaN</td>\n      <td>NaN</td>\n    </tr>\n    <tr>\n      <th>4</th>\n      <td>1749</td>\n      <td>1749</td>\n      <td>Near the town of Ramle, Israeli archeologists ...</td>\n      <td>Hundreds of whisky and gin bottles found at re...</td>\n      <td>New archeological discoveries</td>\n      <td>[{'start': 12, 'end': 33, 'type': 'Historical ...</td>\n      <td>March 2017</td>\n      <td>['(The Guardian)']</td>\n    </tr>\n  </tbody>\n</table>\n</div>"
     },
     "execution_count": 2,
     "metadata": {},
     "output_type": "execute_result"
    }
   ],
   "source": [
    "df = pd.read_csv(\"../data/dummy.csv\")\n",
    "df.head()"
   ],
   "metadata": {
    "collapsed": false
   }
  },
  {
   "cell_type": "code",
   "execution_count": 3,
   "outputs": [],
   "source": [
    "from src.data import DoceeForInference\n",
    "\n",
    "dataset = DoceeForInference(df, use_title=True)"
   ],
   "metadata": {
    "collapsed": false
   }
  },
  {
   "cell_type": "code",
   "execution_count": 4,
   "outputs": [
    {
     "data": {
      "text/plain": "'Five Iraqi Shia, Sunni and Kurdish political parties sign a deal forming a new \"Moderates Front\" supporting Prime Minister  Nouri al–Maliki. The accord was the second step towards rebuilding Iraq\\'s political process, Mr Maliki said, after four Kurdish and Shia parties formed a new alliance.\\nA committee formed by the parties had \"accomplished some solutions\", he said.\\nMr Maliki has been criticised in recent days by US politicians, but the White House hailed Sunday\\'s deal as \"an important symbol\" of unity in Iraq.\\n\"We congratulate Iraq\\'s leaders on the important agreement reached today in Baghdad... [and] their commitment to work together for the benefit of all Iraqis,\" said a statement issued from President George W Bush\\'s Texas ranch. \\'Sense of movement\\'\\nIssues under discussion between Iraqi politicians include holding provincial elections and easing a ban on former Baath party members in the civil service and military.\\nAfter the meeting, Mr Maliki appeared at a news conference alongside Iraqi President Jalal Talabani, Sunni Vice-President Tariq al-Hashemi, Shia Vice-President Adel Abdul-Mahdi and Massoud Barzani - president of the Kurdish region.\\nBut nothing suggests that the rebuilding of a broad-based government is necessarily any closer, the BBC\\'s Mike Wooldridge in Baghdad says.\\nMr Hashemi said he had taken part in the talks as vice-president but did not indicate his Iraqi Islamic Party was about to join the moderate Shia-Kurdish alliance. The news conference seemed intended more to give a sense of movement than to convey the substance of significant agreement, our correspondent adds.\\nThe deal has been pushed by the US as a key step on the path to national reconciliation in Iraq.\\n\\nEarlier on Sunday, Mr Maliki hit back at senior US politicians who have called for him to be removed from office, singling out senators Hillary Clinton and Carl Levin. He said the Democratic senators were acting as if Iraq was \"their property\" and that they should \"come to their senses\" and \"respect democracy\". US commander in Iraq, General David Petraeus, and US ambassador Ryan Crocker are expected to report to US Congress in mid-September on progress in Iraq since the troop surge.\\nThe introduction of 30,000 extra troops - completed in mid-June - was supposed give the Iraqi government extra time to make political progress. Mr Maliki said a negative report by Gen Petraeus would not cause him to change course, but he expected the general to \"be supportive of the government\".'"
     },
     "execution_count": 4,
     "metadata": {},
     "output_type": "execute_result"
    }
   ],
   "source": [
    "eg = dataset[0]\n",
    "eg"
   ],
   "metadata": {
    "collapsed": false
   }
  },
  {
   "cell_type": "code",
   "execution_count": 6,
   "outputs": [
    {
     "data": {
      "text/plain": "'Five Iraqi Shia, Sunni and Kurdish political parties sign a deal forming a new \"Moderates Front\" supporting Prime Minister  Nouri al–Maliki. The accord was the second step towards rebuilding Iraq\\'s political process, Mr Maliki said, after four Kurdish and Shia parties formed a new alliance.\\nA committee formed by the parties had \"accomplished some solutions\", he said.\\nMr Maliki has been criticised in recent days by US politicians, but the White House hailed Sunday\\'s deal as \"an important symbol\" of unity in Iraq.\\n\"We congratulate Iraq\\'s leaders on the important agreement reached today in Baghdad... [and] their commitment to work together for the benefit of all Iraqis,\" said a statement issued from President George W Bush\\'s Texas ranch. \\'Sense of movement\\'\\nIssues under discussion between Iraqi politicians include holding provincial elections and easing a ban on former Baath party members in the civil service and military.\\nAfter the meeting, Mr Maliki appeared at a news conference alongside Iraqi President Jalal Talabani, Sunni Vice-President Tariq al-Hashemi, Shia Vice-President Adel Abdul-Mahdi and Massoud Barzani - president of the Kurdish region.\\nBut nothing suggests that the rebuilding of a broad-based government is necessarily any closer, the BBC\\'s Mike Wooldridge in Baghdad says.\\nMr Hashemi said he had taken part in the talks as vice-president but did not indicate his Iraqi Islamic Party was about to join the moderate Shia-Kurdish alliance. The news conference seemed intended more to give a sense of movement than to convey the substance of significant agreement, our correspondent adds.\\nThe deal has been pushed by the US as a key step on the path to national reconciliation in Iraq.\\n\\nEarlier on Sunday, Mr Maliki hit back at senior US politicians who have called for him to be removed from office, singling out senators Hillary Clinton and Carl Levin. He said the Democratic senators were acting as if Iraq was \"their property\" and that they should \"come to their senses\" and \"respect democracy\". US commander in Iraq, General David Petraeus, and US ambassador Ryan Crocker are expected to report to US Congress in mid-September on progress in Iraq since the troop surge.\\nThe introduction of 30,000 extra troops - completed in mid-June - was supposed give the Iraqi government extra time to make political progress. Mr Maliki said a negative report by Gen Petraeus would not cause him to change course, but he expected the general to \"be supportive of the government\".'"
     },
     "execution_count": 6,
     "metadata": {},
     "output_type": "execute_result"
    }
   ],
   "source": [
    "\". \".join(eg)"
   ],
   "metadata": {
    "collapsed": false
   }
  },
  {
   "cell_type": "code",
   "execution_count": 7,
   "outputs": [
    {
     "data": {
      "text/plain": "'The accord was the second step towards rebuilding Iraq\\'s political process, Mr Maliki said, after four Kurdish and Shia parties formed a new alliance.\\nA committee formed by the parties had \"accomplished some solutions\", he said.\\nMr Maliki has been criticised in recent days by US politicians, but the White House hailed Sunday\\'s deal as \"an important symbol\" of unity in Iraq.\\n\"We congratulate Iraq\\'s leaders on the important agreement reached today in Baghdad... [and] their commitment to work together for the benefit of all Iraqis,\" said a statement issued from President George W Bush\\'s Texas ranch. \\'Sense of movement\\'\\nIssues under discussion between Iraqi politicians include holding provincial elections and easing a ban on former Baath party members in the civil service and military.\\nAfter the meeting, Mr Maliki appeared at a news conference alongside Iraqi President Jalal Talabani, Sunni Vice-President Tariq al-Hashemi, Shia Vice-President Adel Abdul-Mahdi and Massoud Barzani - president of the Kurdish region.\\nBut nothing suggests that the rebuilding of a broad-based government is necessarily any closer, the BBC\\'s Mike Wooldridge in Baghdad says.\\nMr Hashemi said he had taken part in the talks as vice-president but did not indicate his Iraqi Islamic Party was about to join the moderate Shia-Kurdish alliance. The news conference seemed intended more to give a sense of movement than to convey the substance of significant agreement, our correspondent adds.\\nThe deal has been pushed by the US as a key step on the path to national reconciliation in Iraq.\\n\\nEarlier on Sunday, Mr Maliki hit back at senior US politicians who have called for him to be removed from office, singling out senators Hillary Clinton and Carl Levin. He said the Democratic senators were acting as if Iraq was \"their property\" and that they should \"come to their senses\" and \"respect democracy\". US commander in Iraq, General David Petraeus, and US ambassador Ryan Crocker are expected to report to US Congress in mid-September on progress in Iraq since the troop surge.\\nThe introduction of 30,000 extra troops - completed in mid-June - was supposed give the Iraqi government extra time to make political progress. Mr Maliki said a negative report by Gen Petraeus would not cause him to change course, but he expected the general to \"be supportive of the government\".'"
     },
     "execution_count": 7,
     "metadata": {},
     "output_type": "execute_result"
    }
   ],
   "source": [
    "ds2 = DoceeForInference(df, use_title=False)\n",
    "eg2 = ds2[0]\n",
    "eg2"
   ],
   "metadata": {
    "collapsed": false
   }
  },
  {
   "cell_type": "code",
   "execution_count": null,
   "outputs": [],
   "source": [],
   "metadata": {
    "collapsed": false
   }
  }
 ],
 "metadata": {
  "kernelspec": {
   "display_name": "Python 3",
   "language": "python",
   "name": "python3"
  },
  "language_info": {
   "codemirror_mode": {
    "name": "ipython",
    "version": 2
   },
   "file_extension": ".py",
   "mimetype": "text/x-python",
   "name": "python",
   "nbconvert_exporter": "python",
   "pygments_lexer": "ipython2",
   "version": "2.7.6"
  }
 },
 "nbformat": 4,
 "nbformat_minor": 0
}
