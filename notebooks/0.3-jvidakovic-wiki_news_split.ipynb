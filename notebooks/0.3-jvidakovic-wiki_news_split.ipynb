{
 "cells": [
  {
   "cell_type": "markdown",
   "source": [
    "First, let's load the dataset."
   ],
   "metadata": {
    "collapsed": false
   }
  },
  {
   "cell_type": "code",
   "execution_count": 10,
   "outputs": [
    {
     "name": "stdout",
     "output_type": "stream",
     "text": [
      "Loaded 21949 examples.\n"
     ]
    },
    {
     "data": {
      "text/plain": "   index  index.3  index.2  index.1  \\\n0      0        0        0        0   \n1      1        1        1        1   \n2      2        2        2        2   \n3      3        3        3        3   \n4      4        4        4        4   \n\n                                               title  \\\n0  Vietnam reelects conservative Nguyễn Phú Trọng...   \n1  At least 42 people are killed in a bus crash i...   \n2  At least 27 migrants die in a shipwreck in the...   \n3  Colten Treu faces charges of vehicular homicid...   \n4  Hours after the announcement, Morales resigns ...   \n\n                                                text  \\\n0  Vietnam's Communist Party Wednesday re-elected...   \n1  Another 43 people were injured when the bus ca...   \n2  At least 27 migrants have died off the Turkish...   \n3  Colten Treu, 21, and his roommate both told au...   \n4  Bolivian President Evo Morales has resigned af...   \n\n                                      event_type  \\\n0               Government Job change - Election   \n1                                     Road Crash   \n2                                      Shipwreck   \n3                                     Road Crash   \n4  Government Job change - Resignation_Dismissal   \n\n                                           arguments           date  \\\n0  [{'start': 0, 'end': 24, 'type': 'Candidates a...   January 2016   \n1  [{'start': 8, 'end': 29, 'type': 'Casualties a...   October 2006   \n2  [{'start': 0, 'end': 29, 'type': 'Casualties a...  February 2016   \n3  [{'start': 183, 'end': 207, 'type': 'Number of...  November 2018   \n4  [{'start': 0, 'end': 17, 'type': 'Position', '...  November 2019   \n\n                                            metadata  \n0        ['(AP via ABC News)', '(Channel NewsAsia)']  \n1                                          ['(BBC)']  \n2  ['(ANSAmed)', '(Leadership)', '(news.com.au)',...  \n3                             ['(KSTP)', '(Oxygen)']  \n4                   ['(BBC News)', '(The Guardian)']  ",
      "text/html": "<div>\n<style scoped>\n    .dataframe tbody tr th:only-of-type {\n        vertical-align: middle;\n    }\n\n    .dataframe tbody tr th {\n        vertical-align: top;\n    }\n\n    .dataframe thead th {\n        text-align: right;\n    }\n</style>\n<table border=\"1\" class=\"dataframe\">\n  <thead>\n    <tr style=\"text-align: right;\">\n      <th></th>\n      <th>index</th>\n      <th>index.3</th>\n      <th>index.2</th>\n      <th>index.1</th>\n      <th>title</th>\n      <th>text</th>\n      <th>event_type</th>\n      <th>arguments</th>\n      <th>date</th>\n      <th>metadata</th>\n    </tr>\n  </thead>\n  <tbody>\n    <tr>\n      <th>0</th>\n      <td>0</td>\n      <td>0</td>\n      <td>0</td>\n      <td>0</td>\n      <td>Vietnam reelects conservative Nguyễn Phú Trọng...</td>\n      <td>Vietnam's Communist Party Wednesday re-elected...</td>\n      <td>Government Job change - Election</td>\n      <td>[{'start': 0, 'end': 24, 'type': 'Candidates a...</td>\n      <td>January 2016</td>\n      <td>['(AP via ABC News)', '(Channel NewsAsia)']</td>\n    </tr>\n    <tr>\n      <th>1</th>\n      <td>1</td>\n      <td>1</td>\n      <td>1</td>\n      <td>1</td>\n      <td>At least 42 people are killed in a bus crash i...</td>\n      <td>Another 43 people were injured when the bus ca...</td>\n      <td>Road Crash</td>\n      <td>[{'start': 8, 'end': 29, 'type': 'Casualties a...</td>\n      <td>October 2006</td>\n      <td>['(BBC)']</td>\n    </tr>\n    <tr>\n      <th>2</th>\n      <td>2</td>\n      <td>2</td>\n      <td>2</td>\n      <td>2</td>\n      <td>At least 27 migrants die in a shipwreck in the...</td>\n      <td>At least 27 migrants have died off the Turkish...</td>\n      <td>Shipwreck</td>\n      <td>[{'start': 0, 'end': 29, 'type': 'Casualties a...</td>\n      <td>February 2016</td>\n      <td>['(ANSAmed)', '(Leadership)', '(news.com.au)',...</td>\n    </tr>\n    <tr>\n      <th>3</th>\n      <td>3</td>\n      <td>3</td>\n      <td>3</td>\n      <td>3</td>\n      <td>Colten Treu faces charges of vehicular homicid...</td>\n      <td>Colten Treu, 21, and his roommate both told au...</td>\n      <td>Road Crash</td>\n      <td>[{'start': 183, 'end': 207, 'type': 'Number of...</td>\n      <td>November 2018</td>\n      <td>['(KSTP)', '(Oxygen)']</td>\n    </tr>\n    <tr>\n      <th>4</th>\n      <td>4</td>\n      <td>4</td>\n      <td>4</td>\n      <td>4</td>\n      <td>Hours after the announcement, Morales resigns ...</td>\n      <td>Bolivian President Evo Morales has resigned af...</td>\n      <td>Government Job change - Resignation_Dismissal</td>\n      <td>[{'start': 0, 'end': 17, 'type': 'Position', '...</td>\n      <td>November 2019</td>\n      <td>['(BBC News)', '(The Guardian)']</td>\n    </tr>\n  </tbody>\n</table>\n</div>"
     },
     "execution_count": 10,
     "metadata": {},
     "output_type": "execute_result"
    }
   ],
   "source": [
    "import pandas as pd\n",
    "\n",
    "DATASET_PATH = \"../data/docee/train_all.csv\"\n",
    "df = pd.read_csv(DATASET_PATH)\n",
    "print(f\"Loaded {len(df)} examples.\")\n",
    "df.head()"
   ],
   "metadata": {
    "collapsed": false
   }
  },
  {
   "cell_type": "markdown",
   "source": [
    "Before proceeding, let's get rid of unnamed rows. This operation is idempotent, so it can safely be run multiple times."
   ],
   "metadata": {
    "collapsed": false
   }
  },
  {
   "cell_type": "code",
   "execution_count": 11,
   "outputs": [],
   "source": [
    "df = df.loc[:, ~df.columns.str.contains(\"^Unnamed\")]\n",
    "df.to_csv(DATASET_PATH, index_label=\"index\")"
   ],
   "metadata": {
    "collapsed": false
   }
  },
  {
   "cell_type": "markdown",
   "source": [
    "Now, let's split the dataset according to the presence of `data` attribute. Wiki articles do not have this attribute set, while news articles do."
   ],
   "metadata": {
    "collapsed": false
   }
  },
  {
   "cell_type": "code",
   "execution_count": 12,
   "outputs": [
    {
     "name": "stdout",
     "output_type": "stream",
     "text": [
      "Extracted 12601 news examples\n"
     ]
    }
   ],
   "source": [
    "df_news = df.loc[~df[\"date\"].isna(), :]\n",
    "print(f\"Extracted {len(df_news)} news examples\")"
   ],
   "metadata": {
    "collapsed": false
   }
  },
  {
   "cell_type": "code",
   "execution_count": 13,
   "outputs": [
    {
     "name": "stdout",
     "output_type": "stream",
     "text": [
      "Extracted 9348 wiki examples\n"
     ]
    }
   ],
   "source": [
    "df_wiki = df.loc[df[\"date\"].isna(), :]\n",
    "print(f\"Extracted {len(df_wiki)} wiki examples\")"
   ],
   "metadata": {
    "collapsed": false
   }
  },
  {
   "cell_type": "markdown",
   "source": [
    "Let's check the class distribution.\n",
    "We want to create a two-dimensional visual structure. One dimension represents the class name, while the other dimension represents the example count.\n",
    "\n",
    "Class name is a categorical value, while example count is quantitative ordinal.\n",
    "We can use a bar plot to show this."
   ],
   "metadata": {
    "collapsed": false
   }
  },
  {
   "cell_type": "code",
   "execution_count": 14,
   "outputs": [
    {
     "name": "stdout",
     "output_type": "stream",
     "text": [
      "Total of 59 class names.\n",
      "Sum of all class counts equals 21949.\n"
     ]
    },
    {
     "data": {
      "text/plain": "<Figure size 640x480 with 1 Axes>",
      "image/png": "[encoded data removed]"
     },
     "metadata": {},
     "output_type": "display_data"
    }
   ],
   "source": [
    "from src.utils import plot_class_distribution\n",
    "\n",
    "plot_class_distribution(df)"
   ],
   "metadata": {
    "collapsed": false
   }
  },
  {
   "cell_type": "code",
   "execution_count": 15,
   "outputs": [
    {
     "name": "stdout",
     "output_type": "stream",
     "text": [
      "Total of 54 class names.\n",
      "Sum of all class counts equals 12601.\n"
     ]
    },
    {
     "data": {
      "text/plain": "<Figure size 640x480 with 1 Axes>",
      "image/png": "[encoded data removed]"
     },
     "metadata": {},
     "output_type": "display_data"
    }
   ],
   "source": [
    "plot_class_distribution(df_news)"
   ],
   "metadata": {
    "collapsed": false
   }
  },
  {
   "cell_type": "code",
   "execution_count": 16,
   "outputs": [
    {
     "name": "stdout",
     "output_type": "stream",
     "text": [
      "Total of 52 class names.\n",
      "Sum of all class counts equals 9348.\n"
     ]
    },
    {
     "data": {
      "text/plain": "<Figure size 640x480 with 1 Axes>",
      "image/png": "[encoded data removed]"
     },
     "metadata": {},
     "output_type": "display_data"
    }
   ],
   "source": [
    "plot_class_distribution(df_wiki)"
   ],
   "metadata": {
    "collapsed": false
   }
  },
  {
   "cell_type": "markdown",
   "source": [
    "Since we initially want to augment only low-resource classes, we should specify a cutoff threshold and take only classes for which the example count is less than the threshold."
   ],
   "metadata": {
    "collapsed": false
   }
  },
  {
   "cell_type": "code",
   "execution_count": 17,
   "outputs": [
    {
     "data": {
      "text/plain": "  key  value\n0   a      1\n1   b      2",
      "text/html": "<div>\n<style scoped>\n    .dataframe tbody tr th:only-of-type {\n        vertical-align: middle;\n    }\n\n    .dataframe tbody tr th {\n        vertical-align: top;\n    }\n\n    .dataframe thead th {\n        text-align: right;\n    }\n</style>\n<table border=\"1\" class=\"dataframe\">\n  <thead>\n    <tr style=\"text-align: right;\">\n      <th></th>\n      <th>key</th>\n      <th>value</th>\n    </tr>\n  </thead>\n  <tbody>\n    <tr>\n      <th>0</th>\n      <td>a</td>\n      <td>1</td>\n    </tr>\n    <tr>\n      <th>1</th>\n      <td>b</td>\n      <td>2</td>\n    </tr>\n  </tbody>\n</table>\n</div>"
     },
     "execution_count": 17,
     "metadata": {},
     "output_type": "execute_result"
    }
   ],
   "source": [
    "data = [[\"a\", 1], [\"b\", 2], [\"c\", 3]]\n",
    "columns = [\"key\", \"value\"]\n",
    "dummy = pd.DataFrame(data, columns=columns)\n",
    "dummy.loc[dummy[\"key\"].isin([\"a\", \"b\"]), :]"
   ],
   "metadata": {
    "collapsed": false
   }
  },
  {
   "cell_type": "code",
   "execution_count": 19,
   "outputs": [
    {
     "name": "stdout",
     "output_type": "stream",
     "text": [
      "Total of 54 class names.\n",
      "Sum of all class counts equals 12601.\n"
     ]
    }
   ],
   "source": [
    "from src.utils import low_resource_slice\n",
    "\n",
    "lr_news, lr_news_df = low_resource_slice(df_news, 250, return_classes=True)"
   ],
   "metadata": {
    "collapsed": false
   }
  },
  {
   "cell_type": "markdown",
   "source": [
    "Once we have our low resource classes, we would like to compare event detection performance before and after augmentation.\n",
    "\n",
    "The dataset will be augmented by adding, for each example, its summary as produced by a trained BART model. Such augmentation is performed under the assumption that the class label (i.e. event type) is unchanged if the document is summarized.\n",
    "\n",
    "The research hypothesis that we're testing is as follows:\n",
    "\"If abstractive summarization is unsuccessful as an augmentation method for document-level event detection, then no statistically significant performance gains will be observed.\"\n",
    "\n",
    "TODO: implement per-class evaluation of model performance\n",
    "TODO: determine the procedure of testing for statistical significance."
   ],
   "metadata": {
    "collapsed": false
   }
  },
  {
   "cell_type": "markdown",
   "source": [
    "As a final step of this prototyping notebook, we will do the following:\n",
    "    1) load the training split\n",
    "    2) for extraction_prodecure in (before newswiki, after newswiki):\n",
    "        3) extract low-resource classes\n",
    "        4) save the portion of the dataset"
   ],
   "metadata": {
    "collapsed": false
   }
  },
  {
   "cell_type": "code",
   "execution_count": 24,
   "outputs": [],
   "source": [
    "from src.data import NewsWikiSplit\n",
    "from src.utils import news_wiki_split\n",
    "from pprint import pprint\n",
    "import os\n",
    "from typing import TypeAlias, Callable\n",
    "\n",
    "# extraction_strategy :: pd.DataFrame -> (Pd.DataFrame, pd.DataFrame)\n",
    "ExtractionStrategy: TypeAlias = Callable[[pd.DataFrame], NewsWikiSplit]\n",
    "\n",
    "def low_resource_dataset_pipeline(\n",
    "        load_path: str,\n",
    "        extraction_strategy: ExtractionStrategy,\n",
    "        save_path: str\n",
    ") -> None:\n",
    "    # load dataset from the given path\n",
    "    df = pd.read_csv(load_path)\n",
    "    print(f\"Pipeline loaded {len(df)} rows \"\n",
    "          f\"from {load_path}\")\n",
    "\n",
    "    pprint(df.head())\n",
    "\n",
    "    # extract news and wiki, according to some extraction strategy\n",
    "    news_wiki_split = extraction_strategy(df)\n",
    "\n",
    "    # save extracted datasets to save path\n",
    "    news_save_path = os.path.join(save_path, \"train_news.csv\")\n",
    "    news_wiki_split.news.to_csv(\n",
    "        os.path.join(save_path, \"train_news.csv\"),\n",
    "        index=False\n",
    "    )\n",
    "    print(f\"Low reseource dataset pipeline saved news_df to {news_save_path}\")\n",
    "\n",
    "    wiki_save_path = os.path.join(save_path, \"train_wiki.csv\")\n",
    "    news_wiki_split.wiki.to_csv(\n",
    "        os.path.join(save_path, \"train_wiki.csv\"),\n",
    "        index=False\n",
    "    )\n",
    "    print(f\"Low reseource dataset pipeline saved wiki_df to {wiki_save_path}\")\n",
    "\n",
    "\n",
    "def extract_before_splitting(cutoff: int) -> ExtractionStrategy:\n",
    "    def extraction_strategy(df: pd.DataFrame) -> NewsWikiSplit:\n",
    "        return news_wiki_split(low_resource_slice(df, cutoff, return_classes=False))\n",
    "\n",
    "    return extraction_strategy\n",
    "\n",
    "def split_before_extracting(cutoff: int) -> ExtractionStrategy:\n",
    "    def extraction_strategy(df: pd.DataFrame) -> NewsWikiSplit:\n",
    "        return news_wiki_split(df).map(lambda x: low_resource_slice(x, cutoff, return_classes=False))\n",
    "    return extraction_strategy\n"
   ],
   "metadata": {
    "collapsed": false
   }
  },
  {
   "cell_type": "code",
   "execution_count": 25,
   "outputs": [
    {
     "name": "stdout",
     "output_type": "stream",
     "text": [
      "Pipeline loaded 17559 rows from ../data/docee/18091999/train.csv\n",
      "   index                                              title  \\\n",
      "0      0  North Korea responds to nearby joint United St...   \n",
      "1      1  5,300 people flee flames which thousands of fi...   \n",
      "2      2            Trans-Canada Air Lines Flight 831 crash   \n",
      "3      3  Severe drought conditions continue in Zimbabwe...   \n",
      "4      4  Saudi Arabian blogger Raif Badawi, who has bee...   \n",
      "\n",
      "                                                text         event_type  \\\n",
      "0  North Korea says it will use its \"nuclear dete...  Military Exercise   \n",
      "1  VANCOUVER — More than 100 new forest fires are...               Fire   \n",
      "2  Trans-Canada Air Lines (TCA) Flight 831 was a ...          Air crash   \n",
      "3  As severe drought conditions continue in Zimba...           Droughts   \n",
      "4  Raif Badawi is the laureate of this year's Sak...    Awards ceremony   \n",
      "\n",
      "                                           arguments           date  \\\n",
      "0  [{'start': 74, 'end': 75, 'type': 'Countries p...      July 2010   \n",
      "1  [{'start': 68, 'end': 92, 'type': 'Location', ...    August 2009   \n",
      "2  [{'start': 0, 'end': 27, 'type': 'Agency to wh...            NaN   \n",
      "3  [{'start': 41, 'end': 48, 'type': 'Areas Affec...  December 2019   \n",
      "4  [{'start': 0, 'end': 10, 'type': 'Winner', 'te...   October 2015   \n",
      "\n",
      "                                            metadata  \n",
      "0                                          ['(BBC)']  \n",
      "1  ['(BBC)', '(Canada.com)', '(CBS News)', '(Nati...  \n",
      "2                                                NaN  \n",
      "3     ['(Catholic News Agency)', '(Bloomberg News)']  \n",
      "4              ['(Reuters)', '(Al Jazeera)', '(EU)']  \n",
      "Total of 59 class names.\n",
      "Sum of all class counts equals 17559.\n",
      "Low reseource dataset pipeline saved news_df to ../data/docee/low_resource_augmentation/train_news.csv\n",
      "Low reseource dataset pipeline saved wiki_df to ../data/docee/low_resource_augmentation/train_wiki.csv\n"
     ]
    }
   ],
   "source": [
    "low_resource_dataset_pipeline(\n",
    "    \"../data/docee/18091999/train.csv\",\n",
    "    extract_before_splitting(cutoff=300),\n",
    "    \"../data/docee/low_resource_augmentation\"\n",
    ")"
   ],
   "metadata": {
    "collapsed": false
   }
  },
  {
   "cell_type": "code",
   "execution_count": null,
   "outputs": [],
   "source": [],
   "metadata": {
    "collapsed": false
   }
  }
 ],
 "metadata": {
  "kernelspec": {
   "display_name": "Python 3",
   "language": "python",
   "name": "python3"
  },
  "language_info": {
   "codemirror_mode": {
    "name": "ipython",
    "version": 2
   },
   "file_extension": ".py",
   "mimetype": "text/x-python",
   "name": "python",
   "nbconvert_exporter": "python",
   "pygments_lexer": "ipython2",
   "version": "2.7.6"
  }
 },
 "nbformat": 4,
 "nbformat_minor": 0
}
