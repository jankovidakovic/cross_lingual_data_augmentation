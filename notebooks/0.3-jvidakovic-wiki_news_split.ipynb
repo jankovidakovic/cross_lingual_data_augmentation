{
 "cells": [
  {
   "cell_type": "markdown",
   "source": [
    "First, let's load the dataset."
   ],
   "metadata": {
    "collapsed": false
   }
  },
  {
   "cell_type": "code",
   "execution_count": 11,
   "outputs": [
    {
     "name": "stdout",
     "output_type": "stream",
     "text": [
      "Loaded 17559 examples.\n"
     ]
    },
    {
     "data": {
      "text/plain": "   index                                              title  \\\n0      0  North Korea responds to nearby joint United St...   \n1      1  5,300 people flee flames which thousands of fi...   \n2      2            Trans-Canada Air Lines Flight 831 crash   \n3      3  Severe drought conditions continue in Zimbabwe...   \n4      4  Saudi Arabian blogger Raif Badawi, who has bee...   \n\n                                                text         event_type  \\\n0  North Korea says it will use its \"nuclear dete...  Military Exercise   \n1  VANCOUVER — More than 100 new forest fires are...               Fire   \n2  Trans-Canada Air Lines (TCA) Flight 831 was a ...          Air crash   \n3  As severe drought conditions continue in Zimba...           Droughts   \n4  Raif Badawi is the laureate of this year's Sak...    Awards ceremony   \n\n                                           arguments           date  \\\n0  [{'start': 74, 'end': 75, 'type': 'Countries p...      July 2010   \n1  [{'start': 68, 'end': 92, 'type': 'Location', ...    August 2009   \n2  [{'start': 0, 'end': 27, 'type': 'Agency to wh...            NaN   \n3  [{'start': 41, 'end': 48, 'type': 'Areas Affec...  December 2019   \n4  [{'start': 0, 'end': 10, 'type': 'Winner', 'te...   October 2015   \n\n                                            metadata  \n0                                          ['(BBC)']  \n1  ['(BBC)', '(Canada.com)', '(CBS News)', '(Nati...  \n2                                                NaN  \n3     ['(Catholic News Agency)', '(Bloomberg News)']  \n4              ['(Reuters)', '(Al Jazeera)', '(EU)']  ",
      "text/html": "<div>\n<style scoped>\n    .dataframe tbody tr th:only-of-type {\n        vertical-align: middle;\n    }\n\n    .dataframe tbody tr th {\n        vertical-align: top;\n    }\n\n    .dataframe thead th {\n        text-align: right;\n    }\n</style>\n<table border=\"1\" class=\"dataframe\">\n  <thead>\n    <tr style=\"text-align: right;\">\n      <th></th>\n      <th>index</th>\n      <th>title</th>\n      <th>text</th>\n      <th>event_type</th>\n      <th>arguments</th>\n      <th>date</th>\n      <th>metadata</th>\n    </tr>\n  </thead>\n  <tbody>\n    <tr>\n      <th>0</th>\n      <td>0</td>\n      <td>North Korea responds to nearby joint United St...</td>\n      <td>North Korea says it will use its \"nuclear dete...</td>\n      <td>Military Exercise</td>\n      <td>[{'start': 74, 'end': 75, 'type': 'Countries p...</td>\n      <td>July 2010</td>\n      <td>['(BBC)']</td>\n    </tr>\n    <tr>\n      <th>1</th>\n      <td>1</td>\n      <td>5,300 people flee flames which thousands of fi...</td>\n      <td>VANCOUVER — More than 100 new forest fires are...</td>\n      <td>Fire</td>\n      <td>[{'start': 68, 'end': 92, 'type': 'Location', ...</td>\n      <td>August 2009</td>\n      <td>['(BBC)', '(Canada.com)', '(CBS News)', '(Nati...</td>\n    </tr>\n    <tr>\n      <th>2</th>\n      <td>2</td>\n      <td>Trans-Canada Air Lines Flight 831 crash</td>\n      <td>Trans-Canada Air Lines (TCA) Flight 831 was a ...</td>\n      <td>Air crash</td>\n      <td>[{'start': 0, 'end': 27, 'type': 'Agency to wh...</td>\n      <td>NaN</td>\n      <td>NaN</td>\n    </tr>\n    <tr>\n      <th>3</th>\n      <td>3</td>\n      <td>Severe drought conditions continue in Zimbabwe...</td>\n      <td>As severe drought conditions continue in Zimba...</td>\n      <td>Droughts</td>\n      <td>[{'start': 41, 'end': 48, 'type': 'Areas Affec...</td>\n      <td>December 2019</td>\n      <td>['(Catholic News Agency)', '(Bloomberg News)']</td>\n    </tr>\n    <tr>\n      <th>4</th>\n      <td>4</td>\n      <td>Saudi Arabian blogger Raif Badawi, who has bee...</td>\n      <td>Raif Badawi is the laureate of this year's Sak...</td>\n      <td>Awards ceremony</td>\n      <td>[{'start': 0, 'end': 10, 'type': 'Winner', 'te...</td>\n      <td>October 2015</td>\n      <td>['(Reuters)', '(Al Jazeera)', '(EU)']</td>\n    </tr>\n  </tbody>\n</table>\n</div>"
     },
     "execution_count": 11,
     "metadata": {},
     "output_type": "execute_result"
    }
   ],
   "source": [
    "import pandas as pd\n",
    "\n",
    "DATASET_PATH = \"../data/docee/18091999/train.csv\"\n",
    "df = pd.read_csv(DATASET_PATH)\n",
    "print(f\"Loaded {len(df)} examples.\")\n",
    "df.head()"
   ],
   "metadata": {
    "collapsed": false
   }
  },
  {
   "cell_type": "markdown",
   "source": [
    "Before proceeding, let's get rid of unnamed rows. This operation is idempotent, so it can safely be run multiple times."
   ],
   "metadata": {
    "collapsed": false
   }
  },
  {
   "cell_type": "code",
   "execution_count": 10,
   "outputs": [],
   "source": [
    "df = df.loc[:, ~df.columns.str.contains(\"^Unnamed\")]\n",
    "df.to_csv(DATASET_PATH, index_label=\"index\")"
   ],
   "metadata": {
    "collapsed": false
   }
  },
  {
   "cell_type": "markdown",
   "source": [
    "Now, let's split the dataset according to the presence of `data` attribute. Wiki articles do not have this attribute set, while news articles do."
   ],
   "metadata": {
    "collapsed": false
   }
  },
  {
   "cell_type": "code",
   "execution_count": 7,
   "outputs": [
    {
     "name": "stdout",
     "output_type": "stream",
     "text": [
      "Extracted 10058 news examples\n"
     ]
    }
   ],
   "source": [
    "df_news = df.loc[~df[\"date\"].isna(), :]\n",
    "print(f\"Extracted {len(df_news)} news examples\")"
   ],
   "metadata": {
    "collapsed": false
   }
  },
  {
   "cell_type": "code",
   "execution_count": 8,
   "outputs": [
    {
     "name": "stdout",
     "output_type": "stream",
     "text": [
      "Extracted 7501 wiki examples\n"
     ]
    }
   ],
   "source": [
    "df_wiki = df.loc[df[\"date\"].isna(), :]\n",
    "print(f\"Extracted {len(df_wiki)} wiki examples\")"
   ],
   "metadata": {
    "collapsed": false
   }
  },
  {
   "cell_type": "markdown",
   "source": [
    "Let's check the class distribution.\n",
    "We want to create a two-dimensional visual structure. One dimension represents the class name, while the other dimension represents the example count.\n",
    "\n",
    "Class name is a categorical value, while example count is quantitative ordinal.\n",
    "We can use a bar plot to show this."
   ],
   "metadata": {
    "collapsed": false
   }
  },
  {
   "cell_type": "code",
   "execution_count": 19,
   "outputs": [
    {
     "name": "stdout",
     "output_type": "stream",
     "text": [
      "Total of 59 class names.\n",
      "Sum of all class counts equals 17559.\n"
     ]
    },
    {
     "data": {
      "text/plain": "<BarContainer object of 59 artists>"
     },
     "execution_count": 19,
     "metadata": {},
     "output_type": "execute_result"
    },
    {
     "data": {
      "text/plain": "<Figure size 640x480 with 1 Axes>",
      "image/png": "[encoded data removed]"
     },
     "metadata": {},
     "output_type": "display_data"
    }
   ],
   "source": [
    "import matplotlib.pyplot as plt\n",
    "import numpy as np\n",
    "\n",
    "class_names = set(df[\"event_type\"].tolist())\n",
    "print(f\"Total of {len(class_names)} class names.\")\n",
    "\n",
    "class_counts = {\n",
    "    class_name: np.sum(df.event_type.values == class_name)\n",
    "    for class_name in class_names\n",
    "}\n",
    "print(f\"Sum of all class counts equals {sum(class_counts.values())}.\")\n",
    "\n",
    "class_counts = dict(sorted(class_counts.items(), key=lambda e: e[1], reverse=True))\n",
    "\n",
    "plt.bar(\n",
    "    class_counts.keys(),\n",
    "    class_counts.values(),\n",
    ")"
   ],
   "metadata": {
    "collapsed": false
   }
  },
  {
   "cell_type": "markdown",
   "source": [
    "Since we initially want to augment only low-resource classes, we should specify a cutoff threshold and take only classes for which the example count is less than the threshold."
   ],
   "metadata": {
    "collapsed": false
   }
  },
  {
   "cell_type": "code",
   "execution_count": 22,
   "outputs": [
    {
     "name": "stdout",
     "output_type": "stream",
     "text": [
      "Extracted 42 low resource classes.\n",
      "['Strike', 'Government Job change - Appoint_Inauguration', 'Famous Person - Commit Crime - Arrest', 'Road Crash', 'Organization Closed', 'Environment Pollution', 'Break historical records', 'Gas explosion', 'Bank Robbery', 'Awards ceremony', 'Shipwreck', 'Famous Person - Give a speech', 'Sign Agreement', 'Mine Collapses', 'Mass Poisoning', 'New achievements in aerospace', 'Military Exercise', 'Financial Crisis', 'Famous Person - Commit Crime - Release', 'Train collisions', 'Withdraw from an Organization', 'Diplomatic Visit', 'Insect Disaster', 'Organization Fine', 'Famous Person - Commit Crime - Investigate', 'New wonders in nature', 'Volcano Eruption', 'Organization Merge', 'Famous Person - Sick', 'New archeological discoveries', 'Famine', 'Tear Up Agreement', 'Financial Aid', 'Famous Person - Marriage', 'Organization Established', 'Famous Person - Divorce', 'Tsunamis', 'Droughts', 'Famous Person - Recovered', 'Mudslides', 'Join in an Organization', 'Regime Change']\n"
     ]
    }
   ],
   "source": [
    "CUTOFF_COUNT = 300\n",
    "low_resource_classes = list(filter(lambda k: class_counts[k] <= CUTOFF_COUNT, class_counts))\n",
    "print(f\"Extracted {len(low_resource_classes)} low resource classes.\")\n",
    "print(low_resource_classes)"
   ],
   "metadata": {
    "collapsed": false
   }
  },
  {
   "cell_type": "markdown",
   "source": [
    "Once we have our low resource classes, we would like to compare event detection performance before and after augmentation.\n",
    "\n",
    "The dataset will be augmented by adding, for each example, its summary as produced by a trained BART model. Such augmentation is performed under the assumption that the class label (i.e. event type) is unchanged if the document is summarized.\n",
    "\n",
    "The research hypothesis that we're testing is as follows:\n",
    "\"If abstractive summarization is unsuccessful as an augmentation method for document-level event detection, then no statistically significant performance gains will be observed.\"\n",
    "\n",
    "TODO: implement per-class evaluation of model performance\n",
    "TODO: determine the procedure of testing for statistical significance."
   ],
   "metadata": {
    "collapsed": false
   }
  },
  {
   "cell_type": "markdown",
   "source": [
    "As a final step of this prototyping notebook, we will do the following:\n",
    "    1) load the training split\n",
    "    2) for extraction_prodecure in (before newswiki, after newswiki):\n",
    "        3) extract low-resource classes\n",
    "        4) save the portion of the dataset"
   ],
   "metadata": {
    "collapsed": false
   }
  },
  {
   "cell_type": "code",
   "execution_count": 29,
   "outputs": [],
   "source": [
    "from pprint import pprint\n",
    "import os\n",
    "from typing import TypeAlias, Callable, TypeVar, Tuple\n",
    "\n",
    "# extraction_strategy :: pd.DataFrame -> (Pd.DataFrame, pd.DataFrame)\n",
    "ExtractionStrategy: TypeAlias = Callable[[pd.DataFrame], Tuple[pd.DataFrame, pd.DataFrame]]\n",
    "\n",
    "def low_resource_dataset_pipeline(\n",
    "        load_path: str,\n",
    "        extraction_strategy: ExtractionStrategy,\n",
    "        save_path: str\n",
    ") -> None:\n",
    "    # load dataset from the given path\n",
    "    df = pd.read_csv(load_path)\n",
    "    print(f\"Low resource dataset pipeline loaded {len(df)} rows \"\n",
    "          f\"from {load_path}\")\n",
    "    pprint(df.head())\n",
    "\n",
    "    # extract news and wiki, according to some extraction strategy\n",
    "    news_df, wiki_df = extraction_strategy(df)\n",
    "\n",
    "    # save extracted datasets to save path\n",
    "    news_save_path = os.path.join(save_path, \"train_news.csv\")\n",
    "    news_df.to_csv(\n",
    "        os.path.join(save_path, \"train_news.csv\"),\n",
    "        index=False\n",
    "    )\n",
    "    print(f\"Low reseource dataset pipeline saved news_df to {news_save_path}\")\n",
    "\n",
    "    wiki_save_path = os.path.join(save_path, \"train_wiki.csv\")\n",
    "    wiki_df.to_csv(\n",
    "        os.path.join(save_path, \"train_wiki.csv\"),\n",
    "        index=False\n",
    "    )\n",
    "    print(f\"Low reseource dataset pipeline saved wiki_df to {wiki_save_path}\")\n",
    "\n",
    "def extract_low_resource_classes(\n",
    "        df: pd.DataFrame,\n",
    "        cutoff: int\n",
    ") -> pd.DataFrame:\n",
    "    # keeps only examples from classes which contain no more than `cutoff` elements\n",
    "\n",
    "    # extract class names\n",
    "    class_names = set(df[\"event_type\"].tolist())\n",
    "    print(f\"Extracted {len(class_names)} unique class names.\")\n",
    "\n",
    "    # extract class counts\n",
    "    class_counts = {\n",
    "        class_name: np.sum(df.event_type.values == class_name)\n",
    "        for class_name in class_names\n",
    "    }\n",
    "\n",
    "    # create a boolean mask\n",
    "    return df.loc[\n",
    "        df.apply(lambda x: class_counts[x[\"event_type\"]] <= cutoff, axis=1),\n",
    "        :\n",
    "    ]\n",
    "\n",
    "\n",
    "def extract_before_splitting(cutoff: int) -> ExtractionStrategy:\n",
    "    def extraction_strategy(df: pd.DataFrame) -> (pd.DataFrame, pd.DataFrame):\n",
    "        # first, extract low-resource classes\n",
    "        df = extract_low_resource_classes(df, cutoff)\n",
    "\n",
    "        # next, split by news/wiki\n",
    "        df_news = df.loc[~df.date.isna(), :]\n",
    "        df_wiki = df.loc[df.date.isna(), :]\n",
    "\n",
    "        return df_news, df_wiki\n",
    "\n",
    "    return extraction_strategy"
   ],
   "metadata": {
    "collapsed": false
   }
  },
  {
   "cell_type": "code",
   "execution_count": 30,
   "outputs": [
    {
     "name": "stdout",
     "output_type": "stream",
     "text": [
      "Low resource dataset pipeline loaded 17559 rows from ../data/docee/18091999/train.csv\n",
      "   index                                              title  \\\n",
      "0      0  North Korea responds to nearby joint United St...   \n",
      "1      1  5,300 people flee flames which thousands of fi...   \n",
      "2      2            Trans-Canada Air Lines Flight 831 crash   \n",
      "3      3  Severe drought conditions continue in Zimbabwe...   \n",
      "4      4  Saudi Arabian blogger Raif Badawi, who has bee...   \n",
      "\n",
      "                                                text         event_type  \\\n",
      "0  North Korea says it will use its \"nuclear dete...  Military Exercise   \n",
      "1  VANCOUVER — More than 100 new forest fires are...               Fire   \n",
      "2  Trans-Canada Air Lines (TCA) Flight 831 was a ...          Air crash   \n",
      "3  As severe drought conditions continue in Zimba...           Droughts   \n",
      "4  Raif Badawi is the laureate of this year's Sak...    Awards ceremony   \n",
      "\n",
      "                                           arguments           date  \\\n",
      "0  [{'start': 74, 'end': 75, 'type': 'Countries p...      July 2010   \n",
      "1  [{'start': 68, 'end': 92, 'type': 'Location', ...    August 2009   \n",
      "2  [{'start': 0, 'end': 27, 'type': 'Agency to wh...            NaN   \n",
      "3  [{'start': 41, 'end': 48, 'type': 'Areas Affec...  December 2019   \n",
      "4  [{'start': 0, 'end': 10, 'type': 'Winner', 'te...   October 2015   \n",
      "\n",
      "                                            metadata  \n",
      "0                                          ['(BBC)']  \n",
      "1  ['(BBC)', '(Canada.com)', '(CBS News)', '(Nati...  \n",
      "2                                                NaN  \n",
      "3     ['(Catholic News Agency)', '(Bloomberg News)']  \n",
      "4              ['(Reuters)', '(Al Jazeera)', '(EU)']  \n",
      "Extracted 59 unique class names.\n",
      "Low reseource dataset pipeline saved news_df to ../data/docee/low_resource_augmentation/train_news.csv\n",
      "Low reseource dataset pipeline saved wiki_df to ../data/docee/low_resource_augmentation/train_wiki.csv\n"
     ]
    }
   ],
   "source": [
    "low_resource_dataset_pipeline(\n",
    "    \"../data/docee/18091999/train.csv\",\n",
    "    extract_before_splitting(cutoff=300),\n",
    "    \"../data/docee/low_resource_augmentation\"\n",
    ")"
   ],
   "metadata": {
    "collapsed": false
   }
  },
  {
   "cell_type": "code",
   "execution_count": null,
   "outputs": [],
   "source": [],
   "metadata": {
    "collapsed": false
   }
  }
 ],
 "metadata": {
  "kernelspec": {
   "display_name": "Python 3",
   "language": "python",
   "name": "python3"
  },
  "language_info": {
   "codemirror_mode": {
    "name": "ipython",
    "version": 2
   },
   "file_extension": ".py",
   "mimetype": "text/x-python",
   "name": "python",
   "nbconvert_exporter": "python",
   "pygments_lexer": "ipython2",
   "version": "2.7.6"
  }
 },
 "nbformat": 4,
 "nbformat_minor": 0
}
