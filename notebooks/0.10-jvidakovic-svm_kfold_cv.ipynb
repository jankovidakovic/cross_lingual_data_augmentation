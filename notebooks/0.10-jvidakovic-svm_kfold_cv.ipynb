{
 "cells": [
  {
   "cell_type": "code",
   "execution_count": 23,
   "metadata": {
    "collapsed": true
   },
   "outputs": [],
   "source": [
    "import pandas as pd\n",
    "import numpy as np"
   ]
  },
  {
   "cell_type": "code",
   "execution_count": 11,
   "outputs": [
    {
     "data": {
      "text/plain": "   id                                               text  \\\n0   0  Vietnam's Communist Party Wednesday re-elected...   \n1   1  Another 43 people were injured when the bus ca...   \n2   2  At least 27 migrants have died off the Turkish...   \n3   3  Colten Treu, 21, and his roommate both told au...   \n4   4  Bolivian President Evo Morales has resigned af...   \n\n                                               title  \\\n0  Vietnam reelects conservative Nguyễn Phú Trọng...   \n1  At least 42 people are killed in a bus crash i...   \n2  At least 27 migrants die in a shipwreck in the...   \n3  Colten Treu faces charges of vehicular homicid...   \n4  Hours after the announcement, Morales resigns ...   \n\n                                      event_type           date  \\\n0               Government Job change - Election   January 2016   \n1                                     Road Crash   October 2006   \n2                                      Shipwreck  February 2016   \n3                                     Road Crash  November 2018   \n4  Government Job change - Resignation_Dismissal  November 2019   \n\n   source_doc_id                                             tokens  \n0            NaN  ['Vietnam', \"'s\", 'Communist', 'Party', 'Wedne...  \n1            NaN  ['Another', '43', 'people', 'were', 'injured',...  \n2            NaN  ['At', 'least', '27', 'migrants', 'have', 'die...  \n3            NaN  ['Colten', 'Treu', ',', '21', ',', 'and', 'his...  \n4            NaN  ['Bolivian', 'President', 'Evo', 'Morales', 'h...  ",
      "text/html": "<div>\n<style scoped>\n    .dataframe tbody tr th:only-of-type {\n        vertical-align: middle;\n    }\n\n    .dataframe tbody tr th {\n        vertical-align: top;\n    }\n\n    .dataframe thead th {\n        text-align: right;\n    }\n</style>\n<table border=\"1\" class=\"dataframe\">\n  <thead>\n    <tr style=\"text-align: right;\">\n      <th></th>\n      <th>id</th>\n      <th>text</th>\n      <th>title</th>\n      <th>event_type</th>\n      <th>date</th>\n      <th>source_doc_id</th>\n      <th>tokens</th>\n    </tr>\n  </thead>\n  <tbody>\n    <tr>\n      <th>0</th>\n      <td>0</td>\n      <td>Vietnam's Communist Party Wednesday re-elected...</td>\n      <td>Vietnam reelects conservative Nguyễn Phú Trọng...</td>\n      <td>Government Job change - Election</td>\n      <td>January 2016</td>\n      <td>NaN</td>\n      <td>['Vietnam', \"'s\", 'Communist', 'Party', 'Wedne...</td>\n    </tr>\n    <tr>\n      <th>1</th>\n      <td>1</td>\n      <td>Another 43 people were injured when the bus ca...</td>\n      <td>At least 42 people are killed in a bus crash i...</td>\n      <td>Road Crash</td>\n      <td>October 2006</td>\n      <td>NaN</td>\n      <td>['Another', '43', 'people', 'were', 'injured',...</td>\n    </tr>\n    <tr>\n      <th>2</th>\n      <td>2</td>\n      <td>At least 27 migrants have died off the Turkish...</td>\n      <td>At least 27 migrants die in a shipwreck in the...</td>\n      <td>Shipwreck</td>\n      <td>February 2016</td>\n      <td>NaN</td>\n      <td>['At', 'least', '27', 'migrants', 'have', 'die...</td>\n    </tr>\n    <tr>\n      <th>3</th>\n      <td>3</td>\n      <td>Colten Treu, 21, and his roommate both told au...</td>\n      <td>Colten Treu faces charges of vehicular homicid...</td>\n      <td>Road Crash</td>\n      <td>November 2018</td>\n      <td>NaN</td>\n      <td>['Colten', 'Treu', ',', '21', ',', 'and', 'his...</td>\n    </tr>\n    <tr>\n      <th>4</th>\n      <td>4</td>\n      <td>Bolivian President Evo Morales has resigned af...</td>\n      <td>Hours after the announcement, Morales resigns ...</td>\n      <td>Government Job change - Resignation_Dismissal</td>\n      <td>November 2019</td>\n      <td>NaN</td>\n      <td>['Bolivian', 'President', 'Evo', 'Morales', 'h...</td>\n    </tr>\n  </tbody>\n</table>\n</div>"
     },
     "execution_count": 11,
     "metadata": {},
     "output_type": "execute_result"
    }
   ],
   "source": [
    "df = pd.read_csv(\"../data/docee/all/beam.aug_title.tok_notitle.csv\")\n",
    "df.head()"
   ],
   "metadata": {
    "collapsed": false
   }
  },
  {
   "cell_type": "code",
   "execution_count": 3,
   "outputs": [],
   "source": [
    "from sklearn.svm import LinearSVC\n",
    "from sklearn.pipeline import make_pipeline\n",
    "from src.utils import identity\n",
    "from sklearn.feature_extraction.text import TfidfVectorizer\n",
    "\n",
    "pipeline = make_pipeline(\n",
    "    TfidfVectorizer(\n",
    "        tokenizer=identity,\n",
    "        preprocessor=identity,\n",
    "        min_df=3,\n",
    "        max_df=0.95,\n",
    "        ngram_range=(1,3),\n",
    "        lowercase=True\n",
    "    ),\n",
    "    LinearSVC(verbose=True),\n",
    "    verbose=True\n",
    ")"
   ],
   "metadata": {
    "collapsed": false
   }
  },
  {
   "cell_type": "code",
   "execution_count": 12,
   "outputs": [
    {
     "name": "stdout",
     "output_type": "stream",
     "text": [
      "len(df_noaug) = 21949\n",
      "len(df_aug) = 34110\n"
     ]
    }
   ],
   "source": [
    "# first we need to split the data according to aug/nonaug\n",
    "df_noaug = df.loc[df.source_doc_id.isna(), :]\n",
    "df_aug = df.loc[~df.source_doc_id.isna(), :]\n",
    "\n",
    "print(f\"{len(df_noaug) = }\")\n",
    "print(f\"{len(df_aug) = }\")\n",
    "assert len(df_noaug) + len(df_aug) == len(df)"
   ],
   "metadata": {
    "collapsed": false
   }
  },
  {
   "cell_type": "code",
   "execution_count": 5,
   "outputs": [
    {
     "data": {
      "text/plain": "56059"
     },
     "execution_count": 5,
     "metadata": {},
     "output_type": "execute_result"
    }
   ],
   "source": [
    "len(df)"
   ],
   "metadata": {
    "collapsed": false
   }
  },
  {
   "cell_type": "code",
   "execution_count": 13,
   "outputs": [
    {
     "data": {
      "text/plain": "   id                                               text  \\\n0   0  Vietnam's Communist Party Wednesday re-elected...   \n1   1  Another 43 people were injured when the bus ca...   \n2   2  At least 27 migrants have died off the Turkish...   \n3   3  Colten Treu, 21, and his roommate both told au...   \n4   4  Bolivian President Evo Morales has resigned af...   \n\n                                               title  \\\n0  Vietnam reelects conservative Nguyễn Phú Trọng...   \n1  At least 42 people are killed in a bus crash i...   \n2  At least 27 migrants die in a shipwreck in the...   \n3  Colten Treu faces charges of vehicular homicid...   \n4  Hours after the announcement, Morales resigns ...   \n\n                                      event_type           date  \\\n0               Government Job change - Election   January 2016   \n1                                     Road Crash   October 2006   \n2                                      Shipwreck  February 2016   \n3                                     Road Crash  November 2018   \n4  Government Job change - Resignation_Dismissal  November 2019   \n\n   source_doc_id                                             tokens  \n0            NaN  ['Vietnam', \"'s\", 'Communist', 'Party', 'Wedne...  \n1            NaN  ['Another', '43', 'people', 'were', 'injured',...  \n2            NaN  ['At', 'least', '27', 'migrants', 'have', 'die...  \n3            NaN  ['Colten', 'Treu', ',', '21', ',', 'and', 'his...  \n4            NaN  ['Bolivian', 'President', 'Evo', 'Morales', 'h...  ",
      "text/html": "<div>\n<style scoped>\n    .dataframe tbody tr th:only-of-type {\n        vertical-align: middle;\n    }\n\n    .dataframe tbody tr th {\n        vertical-align: top;\n    }\n\n    .dataframe thead th {\n        text-align: right;\n    }\n</style>\n<table border=\"1\" class=\"dataframe\">\n  <thead>\n    <tr style=\"text-align: right;\">\n      <th></th>\n      <th>id</th>\n      <th>text</th>\n      <th>title</th>\n      <th>event_type</th>\n      <th>date</th>\n      <th>source_doc_id</th>\n      <th>tokens</th>\n    </tr>\n  </thead>\n  <tbody>\n    <tr>\n      <th>0</th>\n      <td>0</td>\n      <td>Vietnam's Communist Party Wednesday re-elected...</td>\n      <td>Vietnam reelects conservative Nguyễn Phú Trọng...</td>\n      <td>Government Job change - Election</td>\n      <td>January 2016</td>\n      <td>NaN</td>\n      <td>['Vietnam', \"'s\", 'Communist', 'Party', 'Wedne...</td>\n    </tr>\n    <tr>\n      <th>1</th>\n      <td>1</td>\n      <td>Another 43 people were injured when the bus ca...</td>\n      <td>At least 42 people are killed in a bus crash i...</td>\n      <td>Road Crash</td>\n      <td>October 2006</td>\n      <td>NaN</td>\n      <td>['Another', '43', 'people', 'were', 'injured',...</td>\n    </tr>\n    <tr>\n      <th>2</th>\n      <td>2</td>\n      <td>At least 27 migrants have died off the Turkish...</td>\n      <td>At least 27 migrants die in a shipwreck in the...</td>\n      <td>Shipwreck</td>\n      <td>February 2016</td>\n      <td>NaN</td>\n      <td>['At', 'least', '27', 'migrants', 'have', 'die...</td>\n    </tr>\n    <tr>\n      <th>3</th>\n      <td>3</td>\n      <td>Colten Treu, 21, and his roommate both told au...</td>\n      <td>Colten Treu faces charges of vehicular homicid...</td>\n      <td>Road Crash</td>\n      <td>November 2018</td>\n      <td>NaN</td>\n      <td>['Colten', 'Treu', ',', '21', ',', 'and', 'his...</td>\n    </tr>\n    <tr>\n      <th>4</th>\n      <td>4</td>\n      <td>Bolivian President Evo Morales has resigned af...</td>\n      <td>Hours after the announcement, Morales resigns ...</td>\n      <td>Government Job change - Resignation_Dismissal</td>\n      <td>November 2019</td>\n      <td>NaN</td>\n      <td>['Bolivian', 'President', 'Evo', 'Morales', 'h...</td>\n    </tr>\n  </tbody>\n</table>\n</div>"
     },
     "execution_count": 13,
     "metadata": {},
     "output_type": "execute_result"
    }
   ],
   "source": [
    "from src.data import subsample_unique_text\n",
    "# for simplicity, let's extract only one augmented example per source_doc_id\n",
    "df_aug = subsample_unique_text(df_aug)\n",
    "df = pd.concat((df_noaug, df_aug), ignore_index=True)\n",
    "df.reset_index(drop=True, inplace=True)\n",
    "df.drop(columns=\"id\", inplace=True)\n",
    "df.reset_index(names=\"id\", inplace=True)\n",
    "df.head()\n"
   ],
   "metadata": {
    "collapsed": false
   }
  },
  {
   "cell_type": "code",
   "execution_count": 14,
   "outputs": [
    {
     "name": "stdout",
     "output_type": "stream",
     "text": [
      "len(df) = 51803\n",
      "df.id.nunique() = 51803\n"
     ]
    }
   ],
   "source": [
    "print(f\"{len(df) = }\")\n",
    "print(f\"{df.id.nunique() = }\")"
   ],
   "metadata": {
    "collapsed": false
   }
  },
  {
   "cell_type": "code",
   "execution_count": 15,
   "outputs": [],
   "source": [
    "for i, j in zip(df.index.values, df.index.values[1:]):\n",
    "    if j != i+1:\n",
    "        raise ValueError(f\"{i = }; {j = }\")\n",
    "for i, j in zip(df.id.values, df.id.values[1:]):\n",
    "    if j != i+1:\n",
    "        raise ValueError(f\"{i = }; {j = }\")\n"
   ],
   "metadata": {
    "collapsed": false
   }
  },
  {
   "cell_type": "code",
   "execution_count": 16,
   "outputs": [],
   "source": [
    "from src.data import custom_kfold\n",
    "\n",
    "ckf = custom_kfold(n_splits=5, df=df)"
   ],
   "metadata": {
    "collapsed": false
   }
  },
  {
   "cell_type": "code",
   "execution_count": 17,
   "outputs": [
    {
     "name": "stdout",
     "output_type": "stream",
     "text": [
      "len(df_noaug) = 21949\n",
      "len(df_aug) = 29854\n",
      "test ids range from 2 to 21941\n",
      "Source doc ids in aug range from 1.0 to 21948.0\n",
      "From 29854 examples in df_aug, retained only 23856 for which source is not in test set.\n"
     ]
    }
   ],
   "source": [
    "train_idx, test_idx = next(ckf)"
   ],
   "metadata": {
    "collapsed": false
   }
  },
  {
   "cell_type": "code",
   "execution_count": 18,
   "outputs": [
    {
     "name": "stdout",
     "output_type": "stream",
     "text": [
      "min(train_idx) = 0\n",
      "max(train_idx) = 51802\n",
      "min(test_idx) = 2\n",
      "max(test_idx) = 21941\n"
     ]
    }
   ],
   "source": [
    "print(f\"{min(train_idx) = }\")\n",
    "print(f\"{max(train_idx) = }\")\n",
    "print(f\"{min(test_idx) = }\")\n",
    "print(f\"{max(test_idx) = }\")"
   ],
   "metadata": {
    "collapsed": false
   }
  },
  {
   "cell_type": "code",
   "execution_count": 19,
   "outputs": [
    {
     "name": "stdout",
     "output_type": "stream",
     "text": [
      "min(df.index) = 0\n",
      "max(df.index) = 51802\n",
      "df.index.nunique() = 51803\n"
     ]
    }
   ],
   "source": [
    "print(f\"{min(df.index) = }\")\n",
    "print(f\"{max(df.index) = }\")\n",
    "print(f\"{df.index.nunique() = }\")"
   ],
   "metadata": {
    "collapsed": false
   }
  },
  {
   "cell_type": "code",
   "execution_count": 20,
   "outputs": [
    {
     "name": "stdout",
     "output_type": "stream",
     "text": [
      "len(df.iloc[train_idx]) =41415\n",
      "len(df.iloc[test_idx]) =4390\n"
     ]
    }
   ],
   "source": [
    "print(f\"{len(df.iloc[train_idx]) =}\")\n",
    "print(f\"{len(df.iloc[test_idx]) =}\")\n"
   ],
   "metadata": {
    "collapsed": false
   }
  },
  {
   "cell_type": "code",
   "execution_count": 21,
   "outputs": [],
   "source": [
    "ckf = custom_kfold(n_splits=5, df=df)"
   ],
   "metadata": {
    "collapsed": false
   }
  },
  {
   "cell_type": "code",
   "execution_count": 22,
   "outputs": [
    {
     "name": "stdout",
     "output_type": "stream",
     "text": [
      "len(df_noaug) = 21949\n",
      "len(df_aug) = 29854\n",
      "test ids range from 0 to 21945\n",
      "Source doc ids in aug range from 1.0 to 21948.0\n",
      "From 29854 examples in df_aug, retained only 14885 for which source is not in test set.\n",
      "test ids range from 3 to 21948\n",
      "Source doc ids in aug range from 1.0 to 21948.0\n",
      "From 29854 examples in df_aug, retained only 14969 for which source is not in test set.\n",
      "[Pipeline] ... (step 1 of 2) Processing tfidfvectorizer, total=  24.4s\n",
      "[LibLinear]...*\n",
      "optimization finished, #iter = 36\n",
      "Objective value = -132.664163\n",
      "nSV = 1876\n",
      "...*\n",
      "optimization finished, #iter = 35\n",
      "Objective value = -577.371007\n",
      "nSV = 4172\n",
      "...*\n",
      "optimization finished, #iter = 36\n",
      "Objective value = -204.493715\n",
      "nSV = 7159\n",
      "...*\n",
      "optimization finished, #iter = 35\n",
      "Objective value = -132.198742\n",
      "nSV = 5069\n",
      "...*\n",
      "optimization finished, #iter = 35\n",
      "Objective value = -144.648382\n",
      "nSV = 4861\n",
      "...*\n",
      "optimization finished, #iter = 36\n",
      "Objective value = -422.538625\n",
      "nSV = 7239\n",
      "...*\n",
      "optimization finished, #iter = 35\n",
      "Objective value = -229.086123\n",
      "nSV = 5047\n",
      "...*\n",
      "optimization finished, #iter = 35\n",
      "Objective value = -262.589766\n",
      "nSV = 7101\n",
      "...*\n",
      "optimization finished, #iter = 35\n",
      "Objective value = -86.127999\n",
      "nSV = 3748\n",
      "...*\n",
      "optimization finished, #iter = 34\n",
      "Objective value = -98.676034\n",
      "nSV = 1916\n",
      "...*\n",
      "optimization finished, #iter = 38\n",
      "Objective value = -251.065861\n",
      "nSV = 6859\n",
      "...*\n",
      "optimization finished, #iter = 34\n",
      "Objective value = -131.591768\n",
      "nSV = 4963\n",
      "....*\n",
      "optimization finished, #iter = 41\n",
      "Objective value = -542.172795\n",
      "nSV = 3800\n",
      "....*\n",
      "optimization finished, #iter = 41\n",
      "Objective value = -490.183975\n",
      "nSV = 8270\n",
      "...*\n",
      "optimization finished, #iter = 34\n",
      "Objective value = -245.233486\n",
      "nSV = 7287\n",
      "...*\n",
      "optimization finished, #iter = 34\n",
      "Objective value = -274.246725\n",
      "nSV = 6690\n",
      "...*\n",
      "optimization finished, #iter = 34\n",
      "Objective value = -287.431194\n",
      "nSV = 2755\n",
      "...*\n",
      "optimization finished, #iter = 36\n",
      "Objective value = -453.719039\n",
      "nSV = 7778\n",
      "...*\n",
      "optimization finished, #iter = 34\n",
      "Objective value = -99.897055\n",
      "nSV = 4544\n",
      "...*\n",
      "optimization finished, #iter = 35\n",
      "Objective value = -322.137655\n",
      "nSV = 7362\n",
      "...*\n",
      "optimization finished, #iter = 34\n",
      "Objective value = -118.699016\n",
      "nSV = 5155\n",
      "...*\n",
      "optimization finished, #iter = 33\n",
      "Objective value = -100.691566\n",
      "nSV = 4301\n",
      "...*\n",
      "optimization finished, #iter = 36\n",
      "Objective value = -196.041449\n",
      "nSV = 5908\n",
      "...*\n",
      "optimization finished, #iter = 34\n",
      "Objective value = -150.481573\n",
      "nSV = 4584\n",
      "...*\n",
      "optimization finished, #iter = 34\n",
      "Objective value = -212.831818\n",
      "nSV = 6250\n",
      "...*\n",
      "optimization finished, #iter = 33\n",
      "Objective value = -153.855672\n",
      "nSV = 2247\n",
      "...*\n",
      "optimization finished, #iter = 35\n",
      "Objective value = -265.936148\n",
      "nSV = 5976\n",
      "...*\n",
      "optimization finished, #iter = 35\n",
      "Objective value = -220.150377\n",
      "nSV = 6333\n",
      "...*\n",
      "optimization finished, #iter = 39\n",
      "Objective value = -422.671730\n",
      "nSV = 7725\n",
      "...*\n",
      "optimization finished, #iter = 39\n",
      "Objective value = -281.308857\n",
      "nSV = 2493\n",
      "...*\n",
      "optimization finished, #iter = 35\n",
      "Objective value = -283.847901\n",
      "nSV = 3145\n",
      "...*\n",
      "optimization finished, #iter = 32\n",
      "Objective value = -348.689700\n",
      "nSV = 3704\n",
      "...*\n",
      "optimization finished, #iter = 35\n",
      "Objective value = -278.309586\n",
      "nSV = 6531\n",
      "...*\n",
      "optimization finished, #iter = 36\n",
      "Objective value = -132.018260\n",
      "nSV = 6510\n",
      "...*\n",
      "optimization finished, #iter = 33\n",
      "Objective value = -96.933483\n",
      "nSV = 4043\n",
      "...*\n",
      "optimization finished, #iter = 34\n",
      "Objective value = -184.362692\n",
      "nSV = 6894\n",
      "...*\n",
      "optimization finished, #iter = 34\n",
      "Objective value = -168.525710\n",
      "nSV = 5431\n",
      "...*\n",
      "optimization finished, #iter = 35\n",
      "Objective value = -157.921737\n",
      "nSV = 5141\n",
      "...*\n",
      "optimization finished, #iter = 33\n",
      "Objective value = -93.138054\n",
      "nSV = 4526\n",
      "...*\n",
      "optimization finished, #iter = 35\n",
      "Objective value = -156.016340\n",
      "nSV = 6050\n",
      "...*\n",
      "optimization finished, #iter = 35\n",
      "Objective value = -154.290405\n",
      "nSV = 5965\n",
      "...*\n",
      "optimization finished, #iter = 33\n",
      "Objective value = -92.354546\n",
      "nSV = 4776\n",
      "...*\n",
      "optimization finished, #iter = 35\n",
      "Objective value = -294.833417\n",
      "nSV = 7846\n",
      "...*\n",
      "optimization finished, #iter = 35\n",
      "Objective value = -129.008580\n",
      "nSV = 5404\n",
      "...*\n",
      "optimization finished, #iter = 38\n",
      "Objective value = -154.501180\n",
      "nSV = 4910\n",
      "...*\n",
      "optimization finished, #iter = 35\n",
      "Objective value = -172.224763\n",
      "nSV = 5993\n",
      "...*\n",
      "optimization finished, #iter = 35\n",
      "Objective value = -363.687487\n",
      "nSV = 3334\n",
      "...*\n",
      "optimization finished, #iter = 32\n",
      "Objective value = -67.306697\n",
      "nSV = 3477\n",
      "...*\n",
      "optimization finished, #iter = 31\n",
      "Objective value = -291.597152\n",
      "nSV = 3388\n",
      "...*\n",
      "optimization finished, #iter = 35\n",
      "Objective value = -227.675645\n",
      "nSV = 5149\n",
      "...*\n",
      "optimization finished, #iter = 33\n",
      "Objective value = -204.400412\n",
      "nSV = 6733\n",
      "...*\n",
      "optimization finished, #iter = 39\n",
      "Objective value = -306.001901\n",
      "nSV = 7063\n",
      "...*\n",
      "optimization finished, #iter = 34\n",
      "Objective value = -194.549892\n",
      "nSV = 2676\n",
      "...*\n",
      "optimization finished, #iter = 35\n",
      "Objective value = -206.305818\n",
      "nSV = 6571\n",
      "...*\n",
      "optimization finished, #iter = 38\n",
      "Objective value = -161.690744\n",
      "nSV = 4228\n",
      "...*\n",
      "optimization finished, #iter = 34\n",
      "Objective value = -127.841175\n",
      "nSV = 4528\n",
      "...*\n",
      "optimization finished, #iter = 35\n",
      "Objective value = -101.302832\n",
      "nSV = 5136\n",
      "...*\n",
      "optimization finished, #iter = 36\n",
      "Objective value = -103.876845\n",
      "nSV = 6049\n",
      "...*\n",
      "optimization finished, #iter = 35\n",
      "Objective value = -170.105839\n",
      "nSV = 4717\n",
      "[Pipeline] ......... (step 2 of 2) Processing linearsvc, total=  51.2s\n",
      "[Pipeline] ... (step 1 of 2) Processing tfidfvectorizer, total=  21.6s\n",
      "[LibLinear]...*\n",
      "optimization finished, #iter = 31\n",
      "Objective value = -127.546759\n",
      "nSV = 1949\n",
      "...*\n",
      "optimization finished, #iter = 38\n",
      "Objective value = -557.401656\n",
      "nSV = 4270\n",
      "...*\n",
      "optimization finished, #iter = 35\n",
      "Objective value = -205.888416\n",
      "nSV = 7384\n",
      "...*\n",
      "optimization finished, #iter = 35\n",
      "Objective value = -145.917723\n",
      "nSV = 5197\n",
      "...*\n",
      "optimization finished, #iter = 35\n",
      "Objective value = -153.812593\n",
      "nSV = 4971\n",
      "...*\n",
      "optimization finished, #iter = 39\n",
      "Objective value = -437.882328\n",
      "nSV = 7534\n",
      "...*\n",
      "optimization finished, #iter = 34\n",
      "Objective value = -236.344655\n",
      "nSV = 5225\n",
      "...*\n",
      "optimization finished, #iter = 36\n",
      "Objective value = -284.768914\n",
      "nSV = 7174\n",
      "...*\n",
      "optimization finished, #iter = 34\n",
      "Objective value = -89.091866\n",
      "nSV = 3839\n",
      "..*\n",
      "optimization finished, #iter = 28\n",
      "Objective value = -94.611199\n",
      "nSV = 1946\n",
      "...*\n",
      "optimization finished, #iter = 35\n",
      "Objective value = -243.911459\n",
      "nSV = 6786\n",
      "...*\n",
      "optimization finished, #iter = 35\n",
      "Objective value = -121.369438\n",
      "nSV = 4757\n",
      "....*\n",
      "optimization finished, #iter = 42\n",
      "Objective value = -568.277251\n",
      "nSV = 3994\n",
      "....*\n",
      "optimization finished, #iter = 42\n",
      "Objective value = -502.889856\n",
      "nSV = 8391\n",
      "...*\n",
      "optimization finished, #iter = 35\n",
      "Objective value = -247.929546\n",
      "nSV = 7213\n",
      "...*\n",
      "optimization finished, #iter = 34\n",
      "Objective value = -266.140136\n",
      "nSV = 6418\n",
      "...*\n",
      "optimization finished, #iter = 39\n",
      "Objective value = -281.467355\n",
      "nSV = 2546\n",
      "...*\n",
      "optimization finished, #iter = 36\n",
      "Objective value = -448.898030\n",
      "nSV = 8274\n",
      "...*\n",
      "optimization finished, #iter = 35\n",
      "Objective value = -98.415027\n",
      "nSV = 4309\n",
      "...*\n",
      "optimization finished, #iter = 34\n",
      "Objective value = -316.621324\n",
      "nSV = 7633\n",
      "...*\n",
      "optimization finished, #iter = 34\n",
      "Objective value = -127.603045\n",
      "nSV = 5346\n",
      "...*\n",
      "optimization finished, #iter = 34\n",
      "Objective value = -99.849870\n",
      "nSV = 4000\n",
      "...*\n",
      "optimization finished, #iter = 34\n",
      "Objective value = -197.561609\n",
      "nSV = 5824\n",
      "...*\n",
      "optimization finished, #iter = 34\n",
      "Objective value = -154.491062\n",
      "nSV = 4735\n",
      "...*\n",
      "optimization finished, #iter = 35\n",
      "Objective value = -203.170038\n",
      "nSV = 5934\n",
      "..*\n",
      "optimization finished, #iter = 29\n",
      "Objective value = -151.525712\n",
      "nSV = 2088\n",
      "...*\n",
      "optimization finished, #iter = 36\n",
      "Objective value = -260.030864\n",
      "nSV = 6148\n",
      "...*\n",
      "optimization finished, #iter = 34\n",
      "Objective value = -191.034023\n",
      "nSV = 5792\n",
      "...*\n",
      "optimization finished, #iter = 38\n",
      "Objective value = -425.296725\n",
      "nSV = 7632\n",
      "...*\n",
      "optimization finished, #iter = 39\n",
      "Objective value = -267.069026\n",
      "nSV = 2549\n",
      "...*\n",
      "optimization finished, #iter = 31\n",
      "Objective value = -275.041316\n",
      "nSV = 2922\n",
      "...*\n",
      "optimization finished, #iter = 33\n",
      "Objective value = -335.269532\n",
      "nSV = 3664\n",
      "...*\n",
      "optimization finished, #iter = 35\n",
      "Objective value = -265.864892\n",
      "nSV = 6491\n",
      "...*\n",
      "optimization finished, #iter = 36\n",
      "Objective value = -142.289934\n",
      "nSV = 6845\n",
      "...*\n",
      "optimization finished, #iter = 32\n",
      "Objective value = -93.288700\n",
      "nSV = 3681\n",
      "...*\n",
      "optimization finished, #iter = 36\n",
      "Objective value = -187.529730\n",
      "nSV = 6602\n",
      "...*\n",
      "optimization finished, #iter = 36\n",
      "Objective value = -171.953292\n",
      "nSV = 5602\n",
      "...*\n",
      "optimization finished, #iter = 36\n",
      "Objective value = -147.612325\n",
      "nSV = 5112\n",
      "...*\n",
      "optimization finished, #iter = 34\n",
      "Objective value = -95.618487\n",
      "nSV = 4532\n",
      "...*\n",
      "optimization finished, #iter = 34\n",
      "Objective value = -139.895424\n",
      "nSV = 6007\n",
      "...*\n",
      "optimization finished, #iter = 35\n",
      "Objective value = -157.541603\n",
      "nSV = 5396\n",
      "...*\n",
      "optimization finished, #iter = 34\n",
      "Objective value = -96.522286\n",
      "nSV = 5047\n",
      "...*\n",
      "optimization finished, #iter = 35\n",
      "Objective value = -284.324007\n",
      "nSV = 7755\n",
      "...*\n",
      "optimization finished, #iter = 34\n",
      "Objective value = -125.633095\n",
      "nSV = 5334\n",
      "...*\n",
      "optimization finished, #iter = 34\n",
      "Objective value = -166.550591\n",
      "nSV = 5513\n",
      "...*\n",
      "optimization finished, #iter = 34\n",
      "Objective value = -169.959124\n",
      "nSV = 5930\n",
      "...*\n",
      "optimization finished, #iter = 34\n",
      "Objective value = -344.758643\n",
      "nSV = 3521\n",
      "...*\n",
      "optimization finished, #iter = 32\n",
      "Objective value = -68.372012\n",
      "nSV = 3404\n",
      "...*\n",
      "optimization finished, #iter = 32\n",
      "Objective value = -287.838993\n",
      "nSV = 3584\n",
      "...*\n",
      "optimization finished, #iter = 36\n",
      "Objective value = -232.623030\n",
      "nSV = 5338\n",
      "...*\n",
      "optimization finished, #iter = 34\n",
      "Objective value = -193.999677\n",
      "nSV = 6126\n",
      "...*\n",
      "optimization finished, #iter = 34\n",
      "Objective value = -304.564840\n",
      "nSV = 6934\n",
      "...*\n",
      "optimization finished, #iter = 32\n",
      "Objective value = -204.113428\n",
      "nSV = 2762\n",
      "...*\n",
      "optimization finished, #iter = 34\n",
      "Objective value = -203.762882\n",
      "nSV = 6485\n",
      "...*\n",
      "optimization finished, #iter = 38\n",
      "Objective value = -159.699722\n",
      "nSV = 4098\n",
      "...*\n",
      "optimization finished, #iter = 34\n",
      "Objective value = -127.532694\n",
      "nSV = 4424\n",
      "...*\n",
      "optimization finished, #iter = 33\n",
      "Objective value = -101.207626\n",
      "nSV = 5135\n",
      "...*\n",
      "optimization finished, #iter = 34\n",
      "Objective value = -107.977893\n",
      "nSV = 6192\n",
      "...*\n",
      "optimization finished, #iter = 37\n",
      "Objective value = -156.038851\n",
      "nSV = 4347\n",
      "[Pipeline] ......... (step 2 of 2) Processing linearsvc, total=  51.3s\n"
     ]
    },
    {
     "data": {
      "text/plain": "{'fit_time': array([75.60204053, 73.72294497]),\n 'score_time': array([23.10430622, 13.39590716]),\n 'test_score': array([0.78684909, 0.78793486])}"
     },
     "execution_count": 22,
     "metadata": {},
     "output_type": "execute_result"
    }
   ],
   "source": [
    "from ast import literal_eval\n",
    "from sklearn.model_selection import cross_validate\n",
    "\n",
    "df.loc[:, \"tokens\"] = df.tokens.apply(literal_eval)\n",
    "\n",
    "scores = cross_validate(\n",
    "    pipeline,\n",
    "    df.tokens.values, df.event_type.values,\n",
    "    scoring=\"f1_macro\",\n",
    "    cv=custom_kfold(n_splits=2, df=df)\n",
    ")\n",
    "scores"
   ],
   "metadata": {
    "collapsed": false
   }
  },
  {
   "cell_type": "code",
   "execution_count": 24,
   "outputs": [
    {
     "data": {
      "text/plain": "(0.7873919746221218, 2.947251547254414e-07)"
     },
     "execution_count": 24,
     "metadata": {},
     "output_type": "execute_result"
    }
   ],
   "source": [
    "np.mean(scores[\"test_score\"]), np.var(scores[\"test_score\"])"
   ],
   "metadata": {
    "collapsed": false
   }
  },
  {
   "cell_type": "code",
   "execution_count": 28,
   "outputs": [],
   "source": [
    "from typing import Callable\n",
    "\n",
    "\n",
    "# okay now we can try filtering only the duplicate examples\n",
    "def subsample_aug(\n",
    "        df: pd.DataFrame,\n",
    "        subsampler: Callable[[pd.DataFrame], pd.DataFrame]\n",
    "):\n",
    "    # split into aug and non-aug\n",
    "    df_aug = df.loc[~df.source_doc_id.isna(), :]\n",
    "    df_source = df.loc[df.source_doc_id.isna(), :]\n",
    "\n",
    "    # subsample the df_aug\n",
    "    df_aug = subsampler(df_aug)\n",
    "\n",
    "    # concatenate, ignoring the index\n",
    "    df = pd.concat((df_source, df_aug), ignore_index=True)\n",
    "\n",
    "    # normalize id column\n",
    "\n",
    "    df.drop(columns=[\"id\"], inplace=True)\n",
    "    df.reset_index(drop=True, inplace=True)\n",
    "    df.reset_index(names=\"id\", inplace=True)\n",
    "\n",
    "    return df"
   ],
   "metadata": {
    "collapsed": false
   }
  },
  {
   "cell_type": "code",
   "execution_count": 32,
   "outputs": [],
   "source": [
    "def subsample_one_per_source(df: pd.DataFrame):\n",
    "    return df.groupby(\"source_doc_id\").sample(1)\n",
    "\n",
    "def subsample_unique_text(df: pd.DataFrame):\n",
    "    return df.groupby(\"text\").sample(1)"
   ],
   "metadata": {
    "collapsed": false
   }
  },
  {
   "cell_type": "code",
   "execution_count": 39,
   "outputs": [
    {
     "name": "stdout",
     "output_type": "stream",
     "text": [
      "len(df_ops) = 33319\n"
     ]
    }
   ],
   "source": [
    "df_ops = subsample_aug(df, subsample_one_per_source)\n",
    "df_ops.head()\n",
    "print(f\"{len(df_ops) = }\")"
   ],
   "metadata": {
    "collapsed": false
   }
  },
  {
   "cell_type": "code",
   "execution_count": 40,
   "outputs": [
    {
     "name": "stdout",
     "output_type": "stream",
     "text": [
      "len(df_unique_text) = 51803\n"
     ]
    }
   ],
   "source": [
    "df_unique_text = subsample_aug(df, subsample_unique_text)\n",
    "df_unique_text.head()\n",
    "print(f\"{len(df_unique_text) = }\")"
   ],
   "metadata": {
    "collapsed": false
   }
  },
  {
   "cell_type": "code",
   "execution_count": 41,
   "outputs": [
    {
     "name": "stdout",
     "output_type": "stream",
     "text": [
      "len(df_all) = 56059\n"
     ]
    }
   ],
   "source": [
    "df_all = subsample_aug(df, identity)\n",
    "df_all.head()\n",
    "print(f\"{len(df_all) = }\")"
   ],
   "metadata": {
    "collapsed": false
   }
  },
  {
   "cell_type": "code",
   "execution_count": null,
   "outputs": [],
   "source": [],
   "metadata": {
    "collapsed": false
   }
  }
 ],
 "metadata": {
  "kernelspec": {
   "display_name": "Python 3",
   "language": "python",
   "name": "python3"
  },
  "language_info": {
   "codemirror_mode": {
    "name": "ipython",
    "version": 2
   },
   "file_extension": ".py",
   "mimetype": "text/x-python",
   "name": "python",
   "nbconvert_exporter": "python",
   "pygments_lexer": "ipython2",
   "version": "2.7.6"
  }
 },
 "nbformat": 4,
 "nbformat_minor": 0
}
