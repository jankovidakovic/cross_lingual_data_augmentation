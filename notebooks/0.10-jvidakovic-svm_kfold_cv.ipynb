{
 "cells": [
  {
   "cell_type": "code",
   "execution_count": 42,
   "metadata": {
    "collapsed": true
   },
   "outputs": [],
   "source": [
    "import pandas as pd"
   ]
  },
  {
   "cell_type": "code",
   "execution_count": 43,
   "outputs": [
    {
     "data": {
      "text/plain": "   id                                               text  \\\n0   0  Vietnam's Communist Party Wednesday re-elected...   \n1   1  Another 43 people were injured when the bus ca...   \n2   2  At least 27 migrants have died off the Turkish...   \n3   3  Colten Treu, 21, and his roommate both told au...   \n4   4  Bolivian President Evo Morales has resigned af...   \n\n                                               title  \\\n0  Vietnam reelects conservative Nguyễn Phú Trọng...   \n1  At least 42 people are killed in a bus crash i...   \n2  At least 27 migrants die in a shipwreck in the...   \n3  Colten Treu faces charges of vehicular homicid...   \n4  Hours after the announcement, Morales resigns ...   \n\n                                      event_type           date  \\\n0               Government Job change - Election   January 2016   \n1                                     Road Crash   October 2006   \n2                                      Shipwreck  February 2016   \n3                                     Road Crash  November 2018   \n4  Government Job change - Resignation_Dismissal  November 2019   \n\n   source_doc_id                                             tokens  \n0            NaN  ['Vietnam', \"'s\", 'Communist', 'Party', 'Wedne...  \n1            NaN  ['Another', '43', 'people', 'were', 'injured',...  \n2            NaN  ['At', 'least', '27', 'migrants', 'have', 'die...  \n3            NaN  ['Colten', 'Treu', ',', '21', ',', 'and', 'his...  \n4            NaN  ['Bolivian', 'President', 'Evo', 'Morales', 'h...  ",
      "text/html": "<div>\n<style scoped>\n    .dataframe tbody tr th:only-of-type {\n        vertical-align: middle;\n    }\n\n    .dataframe tbody tr th {\n        vertical-align: top;\n    }\n\n    .dataframe thead th {\n        text-align: right;\n    }\n</style>\n<table border=\"1\" class=\"dataframe\">\n  <thead>\n    <tr style=\"text-align: right;\">\n      <th></th>\n      <th>id</th>\n      <th>text</th>\n      <th>title</th>\n      <th>event_type</th>\n      <th>date</th>\n      <th>source_doc_id</th>\n      <th>tokens</th>\n    </tr>\n  </thead>\n  <tbody>\n    <tr>\n      <th>0</th>\n      <td>0</td>\n      <td>Vietnam's Communist Party Wednesday re-elected...</td>\n      <td>Vietnam reelects conservative Nguyễn Phú Trọng...</td>\n      <td>Government Job change - Election</td>\n      <td>January 2016</td>\n      <td>NaN</td>\n      <td>['Vietnam', \"'s\", 'Communist', 'Party', 'Wedne...</td>\n    </tr>\n    <tr>\n      <th>1</th>\n      <td>1</td>\n      <td>Another 43 people were injured when the bus ca...</td>\n      <td>At least 42 people are killed in a bus crash i...</td>\n      <td>Road Crash</td>\n      <td>October 2006</td>\n      <td>NaN</td>\n      <td>['Another', '43', 'people', 'were', 'injured',...</td>\n    </tr>\n    <tr>\n      <th>2</th>\n      <td>2</td>\n      <td>At least 27 migrants have died off the Turkish...</td>\n      <td>At least 27 migrants die in a shipwreck in the...</td>\n      <td>Shipwreck</td>\n      <td>February 2016</td>\n      <td>NaN</td>\n      <td>['At', 'least', '27', 'migrants', 'have', 'die...</td>\n    </tr>\n    <tr>\n      <th>3</th>\n      <td>3</td>\n      <td>Colten Treu, 21, and his roommate both told au...</td>\n      <td>Colten Treu faces charges of vehicular homicid...</td>\n      <td>Road Crash</td>\n      <td>November 2018</td>\n      <td>NaN</td>\n      <td>['Colten', 'Treu', ',', '21', ',', 'and', 'his...</td>\n    </tr>\n    <tr>\n      <th>4</th>\n      <td>4</td>\n      <td>Bolivian President Evo Morales has resigned af...</td>\n      <td>Hours after the announcement, Morales resigns ...</td>\n      <td>Government Job change - Resignation_Dismissal</td>\n      <td>November 2019</td>\n      <td>NaN</td>\n      <td>['Bolivian', 'President', 'Evo', 'Morales', 'h...</td>\n    </tr>\n  </tbody>\n</table>\n</div>"
     },
     "execution_count": 43,
     "metadata": {},
     "output_type": "execute_result"
    }
   ],
   "source": [
    "df = pd.read_csv(\"../data/docee/all/beam.aug_title.tok_notitle.csv\")\n",
    "df.head()"
   ],
   "metadata": {
    "collapsed": false
   }
  },
  {
   "cell_type": "code",
   "execution_count": 44,
   "outputs": [],
   "source": [
    "from sklearn.svm import LinearSVC\n",
    "from sklearn.pipeline import make_pipeline\n",
    "from src.utils import identity\n",
    "from sklearn.feature_extraction.text import TfidfVectorizer\n",
    "\n",
    "pipeline = make_pipeline(\n",
    "    TfidfVectorizer(\n",
    "        tokenizer=identity,\n",
    "        preprocessor=identity,\n",
    "        min_df=3,\n",
    "        max_df=0.95,\n",
    "        ngram_range=(1,3),\n",
    "        lowercase=True\n",
    "    ),\n",
    "    LinearSVC(verbose=True),\n",
    "    verbose=True\n",
    ")"
   ],
   "metadata": {
    "collapsed": false
   }
  },
  {
   "cell_type": "code",
   "execution_count": 45,
   "outputs": [],
   "source": [
    "# first we need to split the data according to aug/nonaug\n",
    "df_noaug = df.loc[df.source_doc_id.isna(), :]\n",
    "df_aug = df.loc[~df.source_doc_id.isna(), :]\n",
    "assert len(df_noaug) + len(df_aug) == len(df)"
   ],
   "metadata": {
    "collapsed": false
   }
  },
  {
   "cell_type": "code",
   "execution_count": 46,
   "outputs": [
    {
     "data": {
      "text/plain": "          id                                               text  \\\n21949  21949   The bus skidded off the road at Luham in Saly...   \n21950  21950   The bus came off the road at Luham in Salyan ...   \n21951  21951   The bus skidded off the road at Luham in Saly...   \n21952  21952   At least 27 migrants have died off the Turkis...   \n21953  21953   At least 27 migrants have died trying to reac...   \n\n                                                   title  event_type  \\\n21949  At least 42 people are killed in a bus crash i...  Road Crash   \n21950  At least 42 people are killed in a bus crash i...  Road Crash   \n21951  At least 42 people are killed in a bus crash i...  Road Crash   \n21952  At least 27 migrants die in a shipwreck in the...   Shipwreck   \n21953  At least 27 migrants die in a shipwreck in the...   Shipwreck   \n\n                date  source_doc_id  \\\n21949   October 2006            1.0   \n21950   October 2006            1.0   \n21951   October 2006            1.0   \n21952  February 2016            2.0   \n21953  February 2016            2.0   \n\n                                                  tokens  \n21949  [' ', 'The', 'bus', 'skidded', 'off', 'the', '...  \n21950  [' ', 'The', 'bus', 'came', 'off', 'the', 'roa...  \n21951  [' ', 'The', 'bus', 'skidded', 'off', 'the', '...  \n21952  [' ', 'At', 'least', '27', 'migrants', 'have',...  \n21953  [' ', 'At', 'least', '27', 'migrants', 'have',...  ",
      "text/html": "<div>\n<style scoped>\n    .dataframe tbody tr th:only-of-type {\n        vertical-align: middle;\n    }\n\n    .dataframe tbody tr th {\n        vertical-align: top;\n    }\n\n    .dataframe thead th {\n        text-align: right;\n    }\n</style>\n<table border=\"1\" class=\"dataframe\">\n  <thead>\n    <tr style=\"text-align: right;\">\n      <th></th>\n      <th>id</th>\n      <th>text</th>\n      <th>title</th>\n      <th>event_type</th>\n      <th>date</th>\n      <th>source_doc_id</th>\n      <th>tokens</th>\n    </tr>\n  </thead>\n  <tbody>\n    <tr>\n      <th>21949</th>\n      <td>21949</td>\n      <td>The bus skidded off the road at Luham in Saly...</td>\n      <td>At least 42 people are killed in a bus crash i...</td>\n      <td>Road Crash</td>\n      <td>October 2006</td>\n      <td>1.0</td>\n      <td>[' ', 'The', 'bus', 'skidded', 'off', 'the', '...</td>\n    </tr>\n    <tr>\n      <th>21950</th>\n      <td>21950</td>\n      <td>The bus came off the road at Luham in Salyan ...</td>\n      <td>At least 42 people are killed in a bus crash i...</td>\n      <td>Road Crash</td>\n      <td>October 2006</td>\n      <td>1.0</td>\n      <td>[' ', 'The', 'bus', 'came', 'off', 'the', 'roa...</td>\n    </tr>\n    <tr>\n      <th>21951</th>\n      <td>21951</td>\n      <td>The bus skidded off the road at Luham in Saly...</td>\n      <td>At least 42 people are killed in a bus crash i...</td>\n      <td>Road Crash</td>\n      <td>October 2006</td>\n      <td>1.0</td>\n      <td>[' ', 'The', 'bus', 'skidded', 'off', 'the', '...</td>\n    </tr>\n    <tr>\n      <th>21952</th>\n      <td>21952</td>\n      <td>At least 27 migrants have died off the Turkis...</td>\n      <td>At least 27 migrants die in a shipwreck in the...</td>\n      <td>Shipwreck</td>\n      <td>February 2016</td>\n      <td>2.0</td>\n      <td>[' ', 'At', 'least', '27', 'migrants', 'have',...</td>\n    </tr>\n    <tr>\n      <th>21953</th>\n      <td>21953</td>\n      <td>At least 27 migrants have died trying to reac...</td>\n      <td>At least 27 migrants die in a shipwreck in the...</td>\n      <td>Shipwreck</td>\n      <td>February 2016</td>\n      <td>2.0</td>\n      <td>[' ', 'At', 'least', '27', 'migrants', 'have',...</td>\n    </tr>\n  </tbody>\n</table>\n</div>"
     },
     "execution_count": 46,
     "metadata": {},
     "output_type": "execute_result"
    }
   ],
   "source": [
    "df_aug.head()"
   ],
   "metadata": {
    "collapsed": false
   }
  },
  {
   "cell_type": "code",
   "execution_count": 47,
   "outputs": [
    {
     "data": {
      "text/plain": "          id                                               text  \\\n21951  21951   The bus skidded off the road at Luham in Saly...   \n21954  21954   At least 27 migrants died off the Turkish coa...   \n21956  21956   Colten Treu, 21, and his roommate, John Stend...   \n21959  21959   At least 23 Thai nationals killed when their ...   \n21963  21963   Christian Kandlbauer, 22, lost both of his ar...   \n\n                                                   title  \\\n21951  At least 42 people are killed in a bus crash i...   \n21954  At least 27 migrants die in a shipwreck in the...   \n21956  Colten Treu faces charges of vehicular homicid...   \n21959  At least 26 people are killed and several othe...   \n21963  A car crash in Austria leads to the death of C...   \n\n                  event_type           date  source_doc_id  \\\n21951             Road Crash   October 2006            1.0   \n21954              Shipwreck  February 2016            2.0   \n21956             Road Crash  November 2018            3.0   \n21959             Road Crash  December 2010            9.0   \n21963  Famous Person - Death   October 2010           12.0   \n\n                                                  tokens  \n21951  [' ', 'The', 'bus', 'skidded', 'off', 'the', '...  \n21954  [' ', 'At', 'least', '27', 'migrants', 'died',...  \n21956  [' ', 'Colten', 'Treu', ',', '21', ',', 'and',...  \n21959  [' ', 'At', 'least', '23', 'Thai', 'nationals'...  \n21963  [' ', 'Christian', 'Kandlbauer', ',', '22', ',...  ",
      "text/html": "<div>\n<style scoped>\n    .dataframe tbody tr th:only-of-type {\n        vertical-align: middle;\n    }\n\n    .dataframe tbody tr th {\n        vertical-align: top;\n    }\n\n    .dataframe thead th {\n        text-align: right;\n    }\n</style>\n<table border=\"1\" class=\"dataframe\">\n  <thead>\n    <tr style=\"text-align: right;\">\n      <th></th>\n      <th>id</th>\n      <th>text</th>\n      <th>title</th>\n      <th>event_type</th>\n      <th>date</th>\n      <th>source_doc_id</th>\n      <th>tokens</th>\n    </tr>\n  </thead>\n  <tbody>\n    <tr>\n      <th>21951</th>\n      <td>21951</td>\n      <td>The bus skidded off the road at Luham in Saly...</td>\n      <td>At least 42 people are killed in a bus crash i...</td>\n      <td>Road Crash</td>\n      <td>October 2006</td>\n      <td>1.0</td>\n      <td>[' ', 'The', 'bus', 'skidded', 'off', 'the', '...</td>\n    </tr>\n    <tr>\n      <th>21954</th>\n      <td>21954</td>\n      <td>At least 27 migrants died off the Turkish coa...</td>\n      <td>At least 27 migrants die in a shipwreck in the...</td>\n      <td>Shipwreck</td>\n      <td>February 2016</td>\n      <td>2.0</td>\n      <td>[' ', 'At', 'least', '27', 'migrants', 'died',...</td>\n    </tr>\n    <tr>\n      <th>21956</th>\n      <td>21956</td>\n      <td>Colten Treu, 21, and his roommate, John Stend...</td>\n      <td>Colten Treu faces charges of vehicular homicid...</td>\n      <td>Road Crash</td>\n      <td>November 2018</td>\n      <td>3.0</td>\n      <td>[' ', 'Colten', 'Treu', ',', '21', ',', 'and',...</td>\n    </tr>\n    <tr>\n      <th>21959</th>\n      <td>21959</td>\n      <td>At least 23 Thai nationals killed when their ...</td>\n      <td>At least 26 people are killed and several othe...</td>\n      <td>Road Crash</td>\n      <td>December 2010</td>\n      <td>9.0</td>\n      <td>[' ', 'At', 'least', '23', 'Thai', 'nationals'...</td>\n    </tr>\n    <tr>\n      <th>21963</th>\n      <td>21963</td>\n      <td>Christian Kandlbauer, 22, lost both of his ar...</td>\n      <td>A car crash in Austria leads to the death of C...</td>\n      <td>Famous Person - Death</td>\n      <td>October 2010</td>\n      <td>12.0</td>\n      <td>[' ', 'Christian', 'Kandlbauer', ',', '22', ',...</td>\n    </tr>\n  </tbody>\n</table>\n</div>"
     },
     "execution_count": 47,
     "metadata": {},
     "output_type": "execute_result"
    }
   ],
   "source": [
    "# for simplicity, let's extract only one augmented example per source_doc_id\n",
    "df_oneaug = df_aug.groupby(\"source_doc_id\").sample(1)\n",
    "df_oneaug.head()"
   ],
   "metadata": {
    "collapsed": false
   }
  },
  {
   "cell_type": "code",
   "execution_count": 48,
   "outputs": [
    {
     "name": "stdout",
     "output_type": "stream",
     "text": [
      "len(df) = 33319\n"
     ]
    },
    {
     "data": {
      "text/plain": "   id                                               text  \\\n0   0  Vietnam's Communist Party Wednesday re-elected...   \n1   1  Another 43 people were injured when the bus ca...   \n2   2  At least 27 migrants have died off the Turkish...   \n3   3  Colten Treu, 21, and his roommate both told au...   \n4   4  Bolivian President Evo Morales has resigned af...   \n\n                                               title  \\\n0  Vietnam reelects conservative Nguyễn Phú Trọng...   \n1  At least 42 people are killed in a bus crash i...   \n2  At least 27 migrants die in a shipwreck in the...   \n3  Colten Treu faces charges of vehicular homicid...   \n4  Hours after the announcement, Morales resigns ...   \n\n                                      event_type           date  \\\n0               Government Job change - Election   January 2016   \n1                                     Road Crash   October 2006   \n2                                      Shipwreck  February 2016   \n3                                     Road Crash  November 2018   \n4  Government Job change - Resignation_Dismissal  November 2019   \n\n   source_doc_id                                             tokens  \n0            NaN  ['Vietnam', \"'s\", 'Communist', 'Party', 'Wedne...  \n1            NaN  ['Another', '43', 'people', 'were', 'injured',...  \n2            NaN  ['At', 'least', '27', 'migrants', 'have', 'die...  \n3            NaN  ['Colten', 'Treu', ',', '21', ',', 'and', 'his...  \n4            NaN  ['Bolivian', 'President', 'Evo', 'Morales', 'h...  ",
      "text/html": "<div>\n<style scoped>\n    .dataframe tbody tr th:only-of-type {\n        vertical-align: middle;\n    }\n\n    .dataframe tbody tr th {\n        vertical-align: top;\n    }\n\n    .dataframe thead th {\n        text-align: right;\n    }\n</style>\n<table border=\"1\" class=\"dataframe\">\n  <thead>\n    <tr style=\"text-align: right;\">\n      <th></th>\n      <th>id</th>\n      <th>text</th>\n      <th>title</th>\n      <th>event_type</th>\n      <th>date</th>\n      <th>source_doc_id</th>\n      <th>tokens</th>\n    </tr>\n  </thead>\n  <tbody>\n    <tr>\n      <th>0</th>\n      <td>0</td>\n      <td>Vietnam's Communist Party Wednesday re-elected...</td>\n      <td>Vietnam reelects conservative Nguyễn Phú Trọng...</td>\n      <td>Government Job change - Election</td>\n      <td>January 2016</td>\n      <td>NaN</td>\n      <td>['Vietnam', \"'s\", 'Communist', 'Party', 'Wedne...</td>\n    </tr>\n    <tr>\n      <th>1</th>\n      <td>1</td>\n      <td>Another 43 people were injured when the bus ca...</td>\n      <td>At least 42 people are killed in a bus crash i...</td>\n      <td>Road Crash</td>\n      <td>October 2006</td>\n      <td>NaN</td>\n      <td>['Another', '43', 'people', 'were', 'injured',...</td>\n    </tr>\n    <tr>\n      <th>2</th>\n      <td>2</td>\n      <td>At least 27 migrants have died off the Turkish...</td>\n      <td>At least 27 migrants die in a shipwreck in the...</td>\n      <td>Shipwreck</td>\n      <td>February 2016</td>\n      <td>NaN</td>\n      <td>['At', 'least', '27', 'migrants', 'have', 'die...</td>\n    </tr>\n    <tr>\n      <th>3</th>\n      <td>3</td>\n      <td>Colten Treu, 21, and his roommate both told au...</td>\n      <td>Colten Treu faces charges of vehicular homicid...</td>\n      <td>Road Crash</td>\n      <td>November 2018</td>\n      <td>NaN</td>\n      <td>['Colten', 'Treu', ',', '21', ',', 'and', 'his...</td>\n    </tr>\n    <tr>\n      <th>4</th>\n      <td>4</td>\n      <td>Bolivian President Evo Morales has resigned af...</td>\n      <td>Hours after the announcement, Morales resigns ...</td>\n      <td>Government Job change - Resignation_Dismissal</td>\n      <td>November 2019</td>\n      <td>NaN</td>\n      <td>['Bolivian', 'President', 'Evo', 'Morales', 'h...</td>\n    </tr>\n  </tbody>\n</table>\n</div>"
     },
     "execution_count": 48,
     "metadata": {},
     "output_type": "execute_result"
    }
   ],
   "source": [
    "df = pd.concat((df_noaug, df_oneaug), ignore_index=True)\n",
    "print(f\"{len(df) = }\")\n",
    "df.head()"
   ],
   "metadata": {
    "collapsed": false
   }
  },
  {
   "cell_type": "code",
   "execution_count": 49,
   "outputs": [
    {
     "name": "stdout",
     "output_type": "stream",
     "text": [
      "min(df.id) = 0\n",
      "max(df.id) = 33318\n"
     ]
    },
    {
     "data": {
      "text/plain": "   id                                               text  \\\n0   0  Vietnam's Communist Party Wednesday re-elected...   \n1   1  Another 43 people were injured when the bus ca...   \n2   2  At least 27 migrants have died off the Turkish...   \n3   3  Colten Treu, 21, and his roommate both told au...   \n4   4  Bolivian President Evo Morales has resigned af...   \n\n                                               title  \\\n0  Vietnam reelects conservative Nguyễn Phú Trọng...   \n1  At least 42 people are killed in a bus crash i...   \n2  At least 27 migrants die in a shipwreck in the...   \n3  Colten Treu faces charges of vehicular homicid...   \n4  Hours after the announcement, Morales resigns ...   \n\n                                      event_type           date  \\\n0               Government Job change - Election   January 2016   \n1                                     Road Crash   October 2006   \n2                                      Shipwreck  February 2016   \n3                                     Road Crash  November 2018   \n4  Government Job change - Resignation_Dismissal  November 2019   \n\n   source_doc_id                                             tokens  \n0            NaN  ['Vietnam', \"'s\", 'Communist', 'Party', 'Wedne...  \n1            NaN  ['Another', '43', 'people', 'were', 'injured',...  \n2            NaN  ['At', 'least', '27', 'migrants', 'have', 'die...  \n3            NaN  ['Colten', 'Treu', ',', '21', ',', 'and', 'his...  \n4            NaN  ['Bolivian', 'President', 'Evo', 'Morales', 'h...  ",
      "text/html": "<div>\n<style scoped>\n    .dataframe tbody tr th:only-of-type {\n        vertical-align: middle;\n    }\n\n    .dataframe tbody tr th {\n        vertical-align: top;\n    }\n\n    .dataframe thead th {\n        text-align: right;\n    }\n</style>\n<table border=\"1\" class=\"dataframe\">\n  <thead>\n    <tr style=\"text-align: right;\">\n      <th></th>\n      <th>id</th>\n      <th>text</th>\n      <th>title</th>\n      <th>event_type</th>\n      <th>date</th>\n      <th>source_doc_id</th>\n      <th>tokens</th>\n    </tr>\n  </thead>\n  <tbody>\n    <tr>\n      <th>0</th>\n      <td>0</td>\n      <td>Vietnam's Communist Party Wednesday re-elected...</td>\n      <td>Vietnam reelects conservative Nguyễn Phú Trọng...</td>\n      <td>Government Job change - Election</td>\n      <td>January 2016</td>\n      <td>NaN</td>\n      <td>['Vietnam', \"'s\", 'Communist', 'Party', 'Wedne...</td>\n    </tr>\n    <tr>\n      <th>1</th>\n      <td>1</td>\n      <td>Another 43 people were injured when the bus ca...</td>\n      <td>At least 42 people are killed in a bus crash i...</td>\n      <td>Road Crash</td>\n      <td>October 2006</td>\n      <td>NaN</td>\n      <td>['Another', '43', 'people', 'were', 'injured',...</td>\n    </tr>\n    <tr>\n      <th>2</th>\n      <td>2</td>\n      <td>At least 27 migrants have died off the Turkish...</td>\n      <td>At least 27 migrants die in a shipwreck in the...</td>\n      <td>Shipwreck</td>\n      <td>February 2016</td>\n      <td>NaN</td>\n      <td>['At', 'least', '27', 'migrants', 'have', 'die...</td>\n    </tr>\n    <tr>\n      <th>3</th>\n      <td>3</td>\n      <td>Colten Treu, 21, and his roommate both told au...</td>\n      <td>Colten Treu faces charges of vehicular homicid...</td>\n      <td>Road Crash</td>\n      <td>November 2018</td>\n      <td>NaN</td>\n      <td>['Colten', 'Treu', ',', '21', ',', 'and', 'his...</td>\n    </tr>\n    <tr>\n      <th>4</th>\n      <td>4</td>\n      <td>Bolivian President Evo Morales has resigned af...</td>\n      <td>Hours after the announcement, Morales resigns ...</td>\n      <td>Government Job change - Resignation_Dismissal</td>\n      <td>November 2019</td>\n      <td>NaN</td>\n      <td>['Bolivian', 'President', 'Evo', 'Morales', 'h...</td>\n    </tr>\n  </tbody>\n</table>\n</div>"
     },
     "execution_count": 49,
     "metadata": {},
     "output_type": "execute_result"
    }
   ],
   "source": [
    "df.reset_index(drop=True, inplace=True)\n",
    "df.drop(columns=[\"id\"], inplace=True)\n",
    "df.reset_index(names=\"id\", inplace=True)\n",
    "print(f\"{min(df.id) = }\")\n",
    "print(f\"{max(df.id) = }\")\n",
    "df.head()"
   ],
   "metadata": {
    "collapsed": false
   }
  },
  {
   "cell_type": "code",
   "execution_count": 51,
   "outputs": [],
   "source": [
    "import numpy as np\n",
    "from sklearn.model_selection import StratifiedKFold\n",
    "\n",
    "def custom_kfold(n_splits: int, df):\n",
    "    df_noaug = df.loc[df.source_doc_id.isna(), [\"id\", \"tokens\", \"event_type\"]]\n",
    "    df_aug = df.loc[~df.source_doc_id.isna(), [\"id\", \"tokens\", \"event_type\"]]\n",
    "    skf = StratifiedKFold(n_splits, shuffle=True)\n",
    "    # we need to yield (train, test) indices\n",
    "    for (train_idx, test_idx) in skf.split(df_noaug.tokens, df_noaug.event_type):\n",
    "        # convert indices from [0, n-1] to id\n",
    "        # train_ids = df_noaug.loc[train_idx, \"id\"]\n",
    "        # test_ids = df_noaug.loc[test_idx, \"id\"]\n",
    "        #\n",
    "        # # combine train_ids with ids from df_aug\n",
    "        # train_ids = pd.concat((train_ids, df_aug.id))\n",
    "        yield np.concatenate((train_idx, df_aug.index.values)), test_idx"
   ],
   "metadata": {
    "collapsed": false
   }
  },
  {
   "cell_type": "code",
   "execution_count": 52,
   "outputs": [],
   "source": [
    "ckf = custom_kfold(n_splits=5, df=df)"
   ],
   "metadata": {
    "collapsed": false
   }
  },
  {
   "cell_type": "code",
   "execution_count": 53,
   "outputs": [],
   "source": [
    "train_idx, text_idx = next(ckf)"
   ],
   "metadata": {
    "collapsed": false
   }
  },
  {
   "cell_type": "code",
   "execution_count": 54,
   "outputs": [
    {
     "data": {
      "text/plain": "(0, 33318)"
     },
     "execution_count": 54,
     "metadata": {},
     "output_type": "execute_result"
    }
   ],
   "source": [
    "np.min(train_idx), np.max(train_idx)"
   ],
   "metadata": {
    "collapsed": false
   }
  },
  {
   "cell_type": "code",
   "execution_count": 55,
   "outputs": [
    {
     "data": {
      "text/plain": "(11, 21941)"
     },
     "execution_count": 55,
     "metadata": {},
     "output_type": "execute_result"
    }
   ],
   "source": [
    "np.min(text_idx), np.max(text_idx)"
   ],
   "metadata": {
    "collapsed": false
   }
  },
  {
   "cell_type": "code",
   "execution_count": 56,
   "outputs": [
    {
     "data": {
      "text/plain": "          id                                               text  \\\n0          0  Vietnam's Communist Party Wednesday re-elected...   \n1          1  Another 43 people were injured when the bus ca...   \n2          2  At least 27 migrants have died off the Turkish...   \n3          3  Colten Treu, 21, and his roommate both told au...   \n4          4  Bolivian President Evo Morales has resigned af...   \n...      ...                                                ...   \n33314  33314   Signs along the banks of the Swan River warni...   \n33315  33315   Winter storms on England's Suffolk coast have...   \n33316  33316   US and Macedonian troops have started a 14-da...   \n33317  33317   Mark Labbett is favourite among the British p...   \n33318  33318   Four people were seriously hurt in the blast ...   \n\n                                                   title  \\\n0      Vietnam reelects conservative Nguyễn Phú Trọng...   \n1      At least 42 people are killed in a bus crash i...   \n2      At least 27 migrants die in a shipwreck in the...   \n3      Colten Treu faces charges of vehicular homicid...   \n4      Hours after the announcement, Morales resigns ...   \n...                                                  ...   \n33314  Swan River health hangs in balance as climate ...   \n33315  Storms Reveal Two Historic Shipwrecks on Engla...   \n33316  Macedonia Hosts Joint Military Exercise With U...   \n33317  ITV Beat The Chasers: Mark Labbett's marriage ...   \n33318  Regulators seek cause of gas leak in Chandler ...   \n\n                                          event_type           date  \\\n0                   Government Job change - Election   January 2016   \n1                                         Road Crash   October 2006   \n2                                          Shipwreck  February 2016   \n3                                         Road Crash  November 2018   \n4      Government Job change - Resignation_Dismissal  November 2019   \n...                                              ...            ...   \n33314                          Environment Pollution            NaN   \n33315                                      Shipwreck            NaN   \n33316                              Military Exercise            NaN   \n33317                       Famous Person - Marriage            NaN   \n33318                                  Gas explosion            NaN   \n\n       source_doc_id                                             tokens  \n0                NaN  ['Vietnam', \"'s\", 'Communist', 'Party', 'Wedne...  \n1                NaN  ['Another', '43', 'people', 'were', 'injured',...  \n2                NaN  ['At', 'least', '27', 'migrants', 'have', 'die...  \n3                NaN  ['Colten', 'Treu', ',', '21', ',', 'and', 'his...  \n4                NaN  ['Bolivian', 'President', 'Evo', 'Morales', 'h...  \n...              ...                                                ...  \n33314        21943.0  [' ', 'Signs', 'along', 'the', 'banks', 'of', ...  \n33315        21944.0  [' ', 'Winter', 'storms', 'on', 'England', \"'s...  \n33316        21945.0  [' ', 'US', 'and', 'Macedonian', 'troops', 'ha...  \n33317        21946.0  [' ', 'Mark', 'Labbett', 'is', 'favourite', 'a...  \n33318        21948.0  [' ', 'Four', 'people', 'were', 'seriously', '...  \n\n[28929 rows x 7 columns]",
      "text/html": "<div>\n<style scoped>\n    .dataframe tbody tr th:only-of-type {\n        vertical-align: middle;\n    }\n\n    .dataframe tbody tr th {\n        vertical-align: top;\n    }\n\n    .dataframe thead th {\n        text-align: right;\n    }\n</style>\n<table border=\"1\" class=\"dataframe\">\n  <thead>\n    <tr style=\"text-align: right;\">\n      <th></th>\n      <th>id</th>\n      <th>text</th>\n      <th>title</th>\n      <th>event_type</th>\n      <th>date</th>\n      <th>source_doc_id</th>\n      <th>tokens</th>\n    </tr>\n  </thead>\n  <tbody>\n    <tr>\n      <th>0</th>\n      <td>0</td>\n      <td>Vietnam's Communist Party Wednesday re-elected...</td>\n      <td>Vietnam reelects conservative Nguyễn Phú Trọng...</td>\n      <td>Government Job change - Election</td>\n      <td>January 2016</td>\n      <td>NaN</td>\n      <td>['Vietnam', \"'s\", 'Communist', 'Party', 'Wedne...</td>\n    </tr>\n    <tr>\n      <th>1</th>\n      <td>1</td>\n      <td>Another 43 people were injured when the bus ca...</td>\n      <td>At least 42 people are killed in a bus crash i...</td>\n      <td>Road Crash</td>\n      <td>October 2006</td>\n      <td>NaN</td>\n      <td>['Another', '43', 'people', 'were', 'injured',...</td>\n    </tr>\n    <tr>\n      <th>2</th>\n      <td>2</td>\n      <td>At least 27 migrants have died off the Turkish...</td>\n      <td>At least 27 migrants die in a shipwreck in the...</td>\n      <td>Shipwreck</td>\n      <td>February 2016</td>\n      <td>NaN</td>\n      <td>['At', 'least', '27', 'migrants', 'have', 'die...</td>\n    </tr>\n    <tr>\n      <th>3</th>\n      <td>3</td>\n      <td>Colten Treu, 21, and his roommate both told au...</td>\n      <td>Colten Treu faces charges of vehicular homicid...</td>\n      <td>Road Crash</td>\n      <td>November 2018</td>\n      <td>NaN</td>\n      <td>['Colten', 'Treu', ',', '21', ',', 'and', 'his...</td>\n    </tr>\n    <tr>\n      <th>4</th>\n      <td>4</td>\n      <td>Bolivian President Evo Morales has resigned af...</td>\n      <td>Hours after the announcement, Morales resigns ...</td>\n      <td>Government Job change - Resignation_Dismissal</td>\n      <td>November 2019</td>\n      <td>NaN</td>\n      <td>['Bolivian', 'President', 'Evo', 'Morales', 'h...</td>\n    </tr>\n    <tr>\n      <th>...</th>\n      <td>...</td>\n      <td>...</td>\n      <td>...</td>\n      <td>...</td>\n      <td>...</td>\n      <td>...</td>\n      <td>...</td>\n    </tr>\n    <tr>\n      <th>33314</th>\n      <td>33314</td>\n      <td>Signs along the banks of the Swan River warni...</td>\n      <td>Swan River health hangs in balance as climate ...</td>\n      <td>Environment Pollution</td>\n      <td>NaN</td>\n      <td>21943.0</td>\n      <td>[' ', 'Signs', 'along', 'the', 'banks', 'of', ...</td>\n    </tr>\n    <tr>\n      <th>33315</th>\n      <td>33315</td>\n      <td>Winter storms on England's Suffolk coast have...</td>\n      <td>Storms Reveal Two Historic Shipwrecks on Engla...</td>\n      <td>Shipwreck</td>\n      <td>NaN</td>\n      <td>21944.0</td>\n      <td>[' ', 'Winter', 'storms', 'on', 'England', \"'s...</td>\n    </tr>\n    <tr>\n      <th>33316</th>\n      <td>33316</td>\n      <td>US and Macedonian troops have started a 14-da...</td>\n      <td>Macedonia Hosts Joint Military Exercise With U...</td>\n      <td>Military Exercise</td>\n      <td>NaN</td>\n      <td>21945.0</td>\n      <td>[' ', 'US', 'and', 'Macedonian', 'troops', 'ha...</td>\n    </tr>\n    <tr>\n      <th>33317</th>\n      <td>33317</td>\n      <td>Mark Labbett is favourite among the British p...</td>\n      <td>ITV Beat The Chasers: Mark Labbett's marriage ...</td>\n      <td>Famous Person - Marriage</td>\n      <td>NaN</td>\n      <td>21946.0</td>\n      <td>[' ', 'Mark', 'Labbett', 'is', 'favourite', 'a...</td>\n    </tr>\n    <tr>\n      <th>33318</th>\n      <td>33318</td>\n      <td>Four people were seriously hurt in the blast ...</td>\n      <td>Regulators seek cause of gas leak in Chandler ...</td>\n      <td>Gas explosion</td>\n      <td>NaN</td>\n      <td>21948.0</td>\n      <td>[' ', 'Four', 'people', 'were', 'seriously', '...</td>\n    </tr>\n  </tbody>\n</table>\n<p>28929 rows × 7 columns</p>\n</div>"
     },
     "execution_count": 56,
     "metadata": {},
     "output_type": "execute_result"
    }
   ],
   "source": [
    "df.iloc[train_idx]"
   ],
   "metadata": {
    "collapsed": false
   }
  },
  {
   "cell_type": "code",
   "execution_count": 57,
   "outputs": [
    {
     "data": {
      "text/plain": "          id                                               text  \\\n11        11  Police have opened three probes involving L'Or...   \n14        14  MOSCOW, March 31. /TASS/. The Russian Ministry...   \n19        19  They say women and children were among the dea...   \n23        23  PC Ben Hannam, 22, becomes the first serving B...   \n25        25  The casualties were travelling on two buses ne...   \n...      ...                                                ...   \n21921  21921  Fort McMurray's Welcome Centre, which helps co...   \n21925  21925  The bond between a human being and a dog is un...   \n21928  21928  The 1983 IIHF European U18 Championship was th...   \n21938  21938  Ute driver survives crash that turned his Ford...   \n21941  21941  Chloe Best Gay celebrity weddings: Elton John ...   \n\n                                                   title  \\\n11     Four people, including celebrity photographer ...   \n14     The Russian Ministry of Internal Affairs detai...   \n19     Witnesses and hospital officials say that 22 I...   \n23     22-year-old Metropolitan Police Constable Ben ...   \n25     At least three people have been killed in bomb...   \n...                                                  ...   \n21921  Fort McMurray Welcome Centre carries on despit...   \n21925  Loyal Dog Still Waiting Outside Mexican Coal M...   \n21928                1983 IIHF European U18 Championship   \n21938  Ute driver survives crash that turned his Ford...   \n21941  13 incredible LGBTQ celebrity weddings: Elton ...   \n\n                                    event_type           date  source_doc_id  \\\n11       Famous Person - Commit Crime - Accuse      July 2010            NaN   \n14       Famous Person - Commit Crime - Arrest     March 2018            NaN   \n19                              Armed Conflict      June 2004            NaN   \n23     Famous Person - Commit Crime - Sentence     April 2021            NaN   \n25                                        Riot  February 2007            NaN   \n...                                        ...            ...            ...   \n21921                      Organization Closed            NaN            NaN   \n21925                           Mine Collapses            NaN            NaN   \n21928                       Sports Competition            NaN            NaN   \n21938                               Road Crash            NaN            NaN   \n21941                 Famous Person - Marriage            NaN            NaN   \n\n                                                  tokens  \n11     ['Police', 'have', 'opened', 'three', 'probes'...  \n14     ['MOSCOW', ',', 'March', '31', '.', '/TASS/.',...  \n19     ['They', 'say', 'women', 'and', 'children', 'w...  \n23     ['PC', 'Ben', 'Hannam', ',', '22', ',', 'becom...  \n25     ['The', 'casualties', 'were', 'travelling', 'o...  \n...                                                  ...  \n21921  ['Fort', 'McMurray', \"'s\", 'Welcome', 'Centre'...  \n21925  ['The', 'bond', 'between', 'a', 'human', 'bein...  \n21928  ['The', '1983', 'IIHF', 'European', 'U18', 'Ch...  \n21938  ['Ute', 'driver', 'survives', 'crash', 'that',...  \n21941  ['Chloe', 'Best', 'Gay', 'celebrity', 'wedding...  \n\n[4390 rows x 7 columns]",
      "text/html": "<div>\n<style scoped>\n    .dataframe tbody tr th:only-of-type {\n        vertical-align: middle;\n    }\n\n    .dataframe tbody tr th {\n        vertical-align: top;\n    }\n\n    .dataframe thead th {\n        text-align: right;\n    }\n</style>\n<table border=\"1\" class=\"dataframe\">\n  <thead>\n    <tr style=\"text-align: right;\">\n      <th></th>\n      <th>id</th>\n      <th>text</th>\n      <th>title</th>\n      <th>event_type</th>\n      <th>date</th>\n      <th>source_doc_id</th>\n      <th>tokens</th>\n    </tr>\n  </thead>\n  <tbody>\n    <tr>\n      <th>11</th>\n      <td>11</td>\n      <td>Police have opened three probes involving L'Or...</td>\n      <td>Four people, including celebrity photographer ...</td>\n      <td>Famous Person - Commit Crime - Accuse</td>\n      <td>July 2010</td>\n      <td>NaN</td>\n      <td>['Police', 'have', 'opened', 'three', 'probes'...</td>\n    </tr>\n    <tr>\n      <th>14</th>\n      <td>14</td>\n      <td>MOSCOW, March 31. /TASS/. The Russian Ministry...</td>\n      <td>The Russian Ministry of Internal Affairs detai...</td>\n      <td>Famous Person - Commit Crime - Arrest</td>\n      <td>March 2018</td>\n      <td>NaN</td>\n      <td>['MOSCOW', ',', 'March', '31', '.', '/TASS/.',...</td>\n    </tr>\n    <tr>\n      <th>19</th>\n      <td>19</td>\n      <td>They say women and children were among the dea...</td>\n      <td>Witnesses and hospital officials say that 22 I...</td>\n      <td>Armed Conflict</td>\n      <td>June 2004</td>\n      <td>NaN</td>\n      <td>['They', 'say', 'women', 'and', 'children', 'w...</td>\n    </tr>\n    <tr>\n      <th>23</th>\n      <td>23</td>\n      <td>PC Ben Hannam, 22, becomes the first serving B...</td>\n      <td>22-year-old Metropolitan Police Constable Ben ...</td>\n      <td>Famous Person - Commit Crime - Sentence</td>\n      <td>April 2021</td>\n      <td>NaN</td>\n      <td>['PC', 'Ben', 'Hannam', ',', '22', ',', 'becom...</td>\n    </tr>\n    <tr>\n      <th>25</th>\n      <td>25</td>\n      <td>The casualties were travelling on two buses ne...</td>\n      <td>At least three people have been killed in bomb...</td>\n      <td>Riot</td>\n      <td>February 2007</td>\n      <td>NaN</td>\n      <td>['The', 'casualties', 'were', 'travelling', 'o...</td>\n    </tr>\n    <tr>\n      <th>...</th>\n      <td>...</td>\n      <td>...</td>\n      <td>...</td>\n      <td>...</td>\n      <td>...</td>\n      <td>...</td>\n      <td>...</td>\n    </tr>\n    <tr>\n      <th>21921</th>\n      <td>21921</td>\n      <td>Fort McMurray's Welcome Centre, which helps co...</td>\n      <td>Fort McMurray Welcome Centre carries on despit...</td>\n      <td>Organization Closed</td>\n      <td>NaN</td>\n      <td>NaN</td>\n      <td>['Fort', 'McMurray', \"'s\", 'Welcome', 'Centre'...</td>\n    </tr>\n    <tr>\n      <th>21925</th>\n      <td>21925</td>\n      <td>The bond between a human being and a dog is un...</td>\n      <td>Loyal Dog Still Waiting Outside Mexican Coal M...</td>\n      <td>Mine Collapses</td>\n      <td>NaN</td>\n      <td>NaN</td>\n      <td>['The', 'bond', 'between', 'a', 'human', 'bein...</td>\n    </tr>\n    <tr>\n      <th>21928</th>\n      <td>21928</td>\n      <td>The 1983 IIHF European U18 Championship was th...</td>\n      <td>1983 IIHF European U18 Championship</td>\n      <td>Sports Competition</td>\n      <td>NaN</td>\n      <td>NaN</td>\n      <td>['The', '1983', 'IIHF', 'European', 'U18', 'Ch...</td>\n    </tr>\n    <tr>\n      <th>21938</th>\n      <td>21938</td>\n      <td>Ute driver survives crash that turned his Ford...</td>\n      <td>Ute driver survives crash that turned his Ford...</td>\n      <td>Road Crash</td>\n      <td>NaN</td>\n      <td>NaN</td>\n      <td>['Ute', 'driver', 'survives', 'crash', 'that',...</td>\n    </tr>\n    <tr>\n      <th>21941</th>\n      <td>21941</td>\n      <td>Chloe Best Gay celebrity weddings: Elton John ...</td>\n      <td>13 incredible LGBTQ celebrity weddings: Elton ...</td>\n      <td>Famous Person - Marriage</td>\n      <td>NaN</td>\n      <td>NaN</td>\n      <td>['Chloe', 'Best', 'Gay', 'celebrity', 'wedding...</td>\n    </tr>\n  </tbody>\n</table>\n<p>4390 rows × 7 columns</p>\n</div>"
     },
     "execution_count": 57,
     "metadata": {},
     "output_type": "execute_result"
    }
   ],
   "source": [
    "df.iloc[text_idx]"
   ],
   "metadata": {
    "collapsed": false
   }
  },
  {
   "cell_type": "code",
   "execution_count": 60,
   "outputs": [
    {
     "ename": "ValueError",
     "evalue": "'classification_report' is not a valid scoring value. Use sklearn.metrics.get_scorer_names() to get valid options.",
     "output_type": "error",
     "traceback": [
      "\u001B[0;31m---------------------------------------------------------------------------\u001B[0m",
      "\u001B[0;31mKeyError\u001B[0m                                  Traceback (most recent call last)",
      "File \u001B[0;32m~/anaconda3/envs/cross_lingual_data_augmentation/lib/python3.10/site-packages/sklearn/metrics/_scorer.py:415\u001B[0m, in \u001B[0;36mget_scorer\u001B[0;34m(scoring)\u001B[0m\n\u001B[1;32m    414\u001B[0m \u001B[38;5;28;01mtry\u001B[39;00m:\n\u001B[0;32m--> 415\u001B[0m     scorer \u001B[38;5;241m=\u001B[39m copy\u001B[38;5;241m.\u001B[39mdeepcopy(\u001B[43m_SCORERS\u001B[49m\u001B[43m[\u001B[49m\u001B[43mscoring\u001B[49m\u001B[43m]\u001B[49m)\n\u001B[1;32m    416\u001B[0m \u001B[38;5;28;01mexcept\u001B[39;00m \u001B[38;5;167;01mKeyError\u001B[39;00m:\n",
      "\u001B[0;31mKeyError\u001B[0m: 'classification_report'",
      "\nDuring handling of the above exception, another exception occurred:\n",
      "\u001B[0;31mValueError\u001B[0m                                Traceback (most recent call last)",
      "Input \u001B[0;32mIn [60]\u001B[0m, in \u001B[0;36m<cell line: 6>\u001B[0;34m()\u001B[0m\n\u001B[1;32m      2\u001B[0m \u001B[38;5;28;01mfrom\u001B[39;00m \u001B[38;5;21;01msklearn\u001B[39;00m\u001B[38;5;21;01m.\u001B[39;00m\u001B[38;5;21;01mmodel_selection\u001B[39;00m \u001B[38;5;28;01mimport\u001B[39;00m cross_validate\n\u001B[1;32m      4\u001B[0m \u001B[38;5;66;03m# df.loc[:, \"tokens\"] = df.tokens.apply(literal_eval)\u001B[39;00m\n\u001B[0;32m----> 6\u001B[0m scores \u001B[38;5;241m=\u001B[39m \u001B[43mcross_validate\u001B[49m\u001B[43m(\u001B[49m\n\u001B[1;32m      7\u001B[0m \u001B[43m    \u001B[49m\u001B[43mpipeline\u001B[49m\u001B[43m,\u001B[49m\n\u001B[1;32m      8\u001B[0m \u001B[43m    \u001B[49m\u001B[43mdf\u001B[49m\u001B[38;5;241;43m.\u001B[39;49m\u001B[43mtokens\u001B[49m\u001B[38;5;241;43m.\u001B[39;49m\u001B[43mvalues\u001B[49m\u001B[43m,\u001B[49m\u001B[43m \u001B[49m\u001B[43mdf\u001B[49m\u001B[38;5;241;43m.\u001B[39;49m\u001B[43mevent_type\u001B[49m\u001B[38;5;241;43m.\u001B[39;49m\u001B[43mvalues\u001B[49m\u001B[43m,\u001B[49m\n\u001B[1;32m      9\u001B[0m \u001B[43m    \u001B[49m\u001B[43mscoring\u001B[49m\u001B[38;5;241;43m=\u001B[39;49m\u001B[38;5;124;43m\"\u001B[39;49m\u001B[38;5;124;43mclassification_report\u001B[39;49m\u001B[38;5;124;43m\"\u001B[39;49m\u001B[43m,\u001B[49m\n\u001B[1;32m     10\u001B[0m \u001B[43m    \u001B[49m\u001B[43mcv\u001B[49m\u001B[38;5;241;43m=\u001B[39;49m\u001B[43mcustom_kfold\u001B[49m\u001B[43m(\u001B[49m\u001B[43mn_splits\u001B[49m\u001B[38;5;241;43m=\u001B[39;49m\u001B[38;5;241;43m2\u001B[39;49m\u001B[43m,\u001B[49m\u001B[43m \u001B[49m\u001B[43mdf\u001B[49m\u001B[38;5;241;43m=\u001B[39;49m\u001B[43mdf\u001B[49m\u001B[43m)\u001B[49m\n\u001B[1;32m     11\u001B[0m \u001B[43m)\u001B[49m\n\u001B[1;32m     12\u001B[0m \u001B[38;5;28mprint\u001B[39m(\u001B[38;5;124mf\u001B[39m\u001B[38;5;124m\"\u001B[39m\u001B[38;5;132;01m{\u001B[39;00mnp\u001B[38;5;241m.\u001B[39mmean(scores) \u001B[38;5;132;01m= }\u001B[39;00m\u001B[38;5;124m\"\u001B[39m)\n\u001B[1;32m     13\u001B[0m \u001B[38;5;28mprint\u001B[39m(\u001B[38;5;124mf\u001B[39m\u001B[38;5;124m\"\u001B[39m\u001B[38;5;132;01m{\u001B[39;00mnp\u001B[38;5;241m.\u001B[39mvar(scores) \u001B[38;5;132;01m= }\u001B[39;00m\u001B[38;5;124m\"\u001B[39m)\n",
      "File \u001B[0;32m~/anaconda3/envs/cross_lingual_data_augmentation/lib/python3.10/site-packages/sklearn/model_selection/_validation.py:259\u001B[0m, in \u001B[0;36mcross_validate\u001B[0;34m(estimator, X, y, groups, scoring, cv, n_jobs, verbose, fit_params, pre_dispatch, return_train_score, return_estimator, error_score)\u001B[0m\n\u001B[1;32m    257\u001B[0m     scorers \u001B[38;5;241m=\u001B[39m scoring\n\u001B[1;32m    258\u001B[0m \u001B[38;5;28;01melif\u001B[39;00m scoring \u001B[38;5;129;01mis\u001B[39;00m \u001B[38;5;28;01mNone\u001B[39;00m \u001B[38;5;129;01mor\u001B[39;00m \u001B[38;5;28misinstance\u001B[39m(scoring, \u001B[38;5;28mstr\u001B[39m):\n\u001B[0;32m--> 259\u001B[0m     scorers \u001B[38;5;241m=\u001B[39m \u001B[43mcheck_scoring\u001B[49m\u001B[43m(\u001B[49m\u001B[43mestimator\u001B[49m\u001B[43m,\u001B[49m\u001B[43m \u001B[49m\u001B[43mscoring\u001B[49m\u001B[43m)\u001B[49m\n\u001B[1;32m    260\u001B[0m \u001B[38;5;28;01melse\u001B[39;00m:\n\u001B[1;32m    261\u001B[0m     scorers \u001B[38;5;241m=\u001B[39m _check_multimetric_scoring(estimator, scoring)\n",
      "File \u001B[0;32m~/anaconda3/envs/cross_lingual_data_augmentation/lib/python3.10/site-packages/sklearn/metrics/_scorer.py:464\u001B[0m, in \u001B[0;36mcheck_scoring\u001B[0;34m(estimator, scoring, allow_none)\u001B[0m\n\u001B[1;32m    459\u001B[0m     \u001B[38;5;28;01mraise\u001B[39;00m \u001B[38;5;167;01mTypeError\u001B[39;00m(\n\u001B[1;32m    460\u001B[0m         \u001B[38;5;124m\"\u001B[39m\u001B[38;5;124mestimator should be an estimator implementing \u001B[39m\u001B[38;5;124m'\u001B[39m\u001B[38;5;124mfit\u001B[39m\u001B[38;5;124m'\u001B[39m\u001B[38;5;124m method, \u001B[39m\u001B[38;5;132;01m%r\u001B[39;00m\u001B[38;5;124m was passed\u001B[39m\u001B[38;5;124m\"\u001B[39m\n\u001B[1;32m    461\u001B[0m         \u001B[38;5;241m%\u001B[39m estimator\n\u001B[1;32m    462\u001B[0m     )\n\u001B[1;32m    463\u001B[0m \u001B[38;5;28;01mif\u001B[39;00m \u001B[38;5;28misinstance\u001B[39m(scoring, \u001B[38;5;28mstr\u001B[39m):\n\u001B[0;32m--> 464\u001B[0m     \u001B[38;5;28;01mreturn\u001B[39;00m \u001B[43mget_scorer\u001B[49m\u001B[43m(\u001B[49m\u001B[43mscoring\u001B[49m\u001B[43m)\u001B[49m\n\u001B[1;32m    465\u001B[0m \u001B[38;5;28;01melif\u001B[39;00m callable(scoring):\n\u001B[1;32m    466\u001B[0m     \u001B[38;5;66;03m# Heuristic to ensure user has not passed a metric\u001B[39;00m\n\u001B[1;32m    467\u001B[0m     module \u001B[38;5;241m=\u001B[39m \u001B[38;5;28mgetattr\u001B[39m(scoring, \u001B[38;5;124m\"\u001B[39m\u001B[38;5;124m__module__\u001B[39m\u001B[38;5;124m\"\u001B[39m, \u001B[38;5;28;01mNone\u001B[39;00m)\n",
      "File \u001B[0;32m~/anaconda3/envs/cross_lingual_data_augmentation/lib/python3.10/site-packages/sklearn/metrics/_scorer.py:417\u001B[0m, in \u001B[0;36mget_scorer\u001B[0;34m(scoring)\u001B[0m\n\u001B[1;32m    415\u001B[0m         scorer \u001B[38;5;241m=\u001B[39m copy\u001B[38;5;241m.\u001B[39mdeepcopy(_SCORERS[scoring])\n\u001B[1;32m    416\u001B[0m     \u001B[38;5;28;01mexcept\u001B[39;00m \u001B[38;5;167;01mKeyError\u001B[39;00m:\n\u001B[0;32m--> 417\u001B[0m         \u001B[38;5;28;01mraise\u001B[39;00m \u001B[38;5;167;01mValueError\u001B[39;00m(\n\u001B[1;32m    418\u001B[0m             \u001B[38;5;124m\"\u001B[39m\u001B[38;5;132;01m%r\u001B[39;00m\u001B[38;5;124m is not a valid scoring value. \u001B[39m\u001B[38;5;124m\"\u001B[39m\n\u001B[1;32m    419\u001B[0m             \u001B[38;5;124m\"\u001B[39m\u001B[38;5;124mUse sklearn.metrics.get_scorer_names() \u001B[39m\u001B[38;5;124m\"\u001B[39m\n\u001B[1;32m    420\u001B[0m             \u001B[38;5;124m\"\u001B[39m\u001B[38;5;124mto get valid options.\u001B[39m\u001B[38;5;124m\"\u001B[39m \u001B[38;5;241m%\u001B[39m scoring\n\u001B[1;32m    421\u001B[0m         )\n\u001B[1;32m    422\u001B[0m \u001B[38;5;28;01melse\u001B[39;00m:\n\u001B[1;32m    423\u001B[0m     scorer \u001B[38;5;241m=\u001B[39m scoring\n",
      "\u001B[0;31mValueError\u001B[0m: 'classification_report' is not a valid scoring value. Use sklearn.metrics.get_scorer_names() to get valid options."
     ]
    }
   ],
   "source": [
    "from ast import literal_eval\n",
    "from sklearn.model_selection import cross_validate\n",
    "\n",
    "# df.loc[:, \"tokens\"] = df.tokens.apply(literal_eval)\n",
    "\n",
    "scores = cross_validate(\n",
    "    pipeline,\n",
    "    df.tokens.values, df.event_type.values,\n",
    "    scoring=\"classification_report\",\n",
    "    cv=custom_kfold(n_splits=2, df=df)\n",
    ")\n",
    "print(f\"{np.mean(scores) = }\")\n",
    "print(f\"{np.var(scores) = }\")\n",
    "scores"
   ],
   "metadata": {
    "collapsed": false
   }
  },
  {
   "cell_type": "code",
   "execution_count": 27,
   "outputs": [
    {
     "data": {
      "text/plain": "{'fit_time': array([134.6400187 , 127.5815897 , 124.69714284, 124.12445068,\n        124.87236166]),\n 'score_time': array([25.40451574, 23.05297184, 23.08283091, 23.11950517, 22.78396249]),\n 'test_score': array([0.84827675, 0.84831069, 0.84607286, 0.83410964, 0.84018611])}"
     },
     "execution_count": 27,
     "metadata": {},
     "output_type": "execute_result"
    }
   ],
   "source": [
    "scores"
   ],
   "metadata": {
    "collapsed": false
   }
  },
  {
   "cell_type": "code",
   "execution_count": 28,
   "outputs": [],
   "source": [
    "from typing import Callable\n",
    "\n",
    "\n",
    "# okay now we can try filtering only the duplicate examples\n",
    "def subsample_aug(\n",
    "        df: pd.DataFrame,\n",
    "        subsampler: Callable[[pd.DataFrame], pd.DataFrame]\n",
    "):\n",
    "    # split into aug and non-aug\n",
    "    df_aug = df.loc[~df.source_doc_id.isna(), :]\n",
    "    df_source = df.loc[df.source_doc_id.isna(), :]\n",
    "\n",
    "    # subsample the df_aug\n",
    "    df_aug = subsampler(df_aug)\n",
    "\n",
    "    # concatenate, ignoring the index\n",
    "    df = pd.concat((df_source, df_aug), ignore_index=True)\n",
    "\n",
    "    # normalize id column\n",
    "\n",
    "    df.drop(columns=[\"id\"], inplace=True)\n",
    "    df.reset_index(drop=True, inplace=True)\n",
    "    df.reset_index(names=\"id\", inplace=True)\n",
    "\n",
    "    return df"
   ],
   "metadata": {
    "collapsed": false
   }
  },
  {
   "cell_type": "code",
   "execution_count": 32,
   "outputs": [],
   "source": [
    "def subsample_one_per_source(df: pd.DataFrame):\n",
    "    return df.groupby(\"source_doc_id\").sample(1)\n",
    "\n",
    "def subsample_unique_text(df: pd.DataFrame):\n",
    "    return df.groupby(\"text\").sample(1)"
   ],
   "metadata": {
    "collapsed": false
   }
  },
  {
   "cell_type": "code",
   "execution_count": 39,
   "outputs": [
    {
     "name": "stdout",
     "output_type": "stream",
     "text": [
      "len(df_ops) = 33319\n"
     ]
    }
   ],
   "source": [
    "df_ops = subsample_aug(df, subsample_one_per_source)\n",
    "df_ops.head()\n",
    "print(f\"{len(df_ops) = }\")"
   ],
   "metadata": {
    "collapsed": false
   }
  },
  {
   "cell_type": "code",
   "execution_count": 40,
   "outputs": [
    {
     "name": "stdout",
     "output_type": "stream",
     "text": [
      "len(df_unique_text) = 51803\n"
     ]
    }
   ],
   "source": [
    "df_unique_text = subsample_aug(df, subsample_unique_text)\n",
    "df_unique_text.head()\n",
    "print(f\"{len(df_unique_text) = }\")"
   ],
   "metadata": {
    "collapsed": false
   }
  },
  {
   "cell_type": "code",
   "execution_count": 41,
   "outputs": [
    {
     "name": "stdout",
     "output_type": "stream",
     "text": [
      "len(df_all) = 56059\n"
     ]
    }
   ],
   "source": [
    "df_all = subsample_aug(df, identity)\n",
    "df_all.head()\n",
    "print(f\"{len(df_all) = }\")"
   ],
   "metadata": {
    "collapsed": false
   }
  },
  {
   "cell_type": "code",
   "execution_count": null,
   "outputs": [],
   "source": [],
   "metadata": {
    "collapsed": false
   }
  }
 ],
 "metadata": {
  "kernelspec": {
   "display_name": "Python 3",
   "language": "python",
   "name": "python3"
  },
  "language_info": {
   "codemirror_mode": {
    "name": "ipython",
    "version": 2
   },
   "file_extension": ".py",
   "mimetype": "text/x-python",
   "name": "python",
   "nbconvert_exporter": "python",
   "pygments_lexer": "ipython2",
   "version": "2.7.6"
  }
 },
 "nbformat": 4,
 "nbformat_minor": 0
}
